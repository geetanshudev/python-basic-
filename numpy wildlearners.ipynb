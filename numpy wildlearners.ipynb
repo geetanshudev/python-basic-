{
 "cells": [
  {
   "cell_type": "code",
   "execution_count": 55,
   "id": "25aa0862",
   "metadata": {},
   "outputs": [
    {
     "name": "stdout",
     "output_type": "stream",
     "text": [
      "1.21.5\n"
     ]
    }
   ],
   "source": [
    "import numpy as np \n",
    "print(np.__version__)"
   ]
  },
  {
   "cell_type": "markdown",
   "id": "5d24c2ea",
   "metadata": {},
   "source": [
    "# for creating array"
   ]
  },
  {
   "cell_type": "code",
   "execution_count": 56,
   "id": "fed03533",
   "metadata": {},
   "outputs": [
    {
     "name": "stdout",
     "output_type": "stream",
     "text": [
      "[1 2 3 4 5 6 7 8 9]\n"
     ]
    }
   ],
   "source": [
    "#we use numpy.array()\n",
    "import numpy as np\n",
    "l = [1,2,3,4,5,6,7,8,9]\n",
    "cv = np.array(l,dtype=int )\n",
    "print(cv)"
   ]
  },
  {
   "cell_type": "code",
   "execution_count": 57,
   "id": "9095140d",
   "metadata": {},
   "outputs": [
    {
     "name": "stdout",
     "output_type": "stream",
     "text": [
      "[1 2 3 4 5 6 7 8]\n",
      "<class 'numpy.ndarray'>\n",
      "1\n"
     ]
    }
   ],
   "source": [
    "import numpy as np\n",
    "l = [1,2,3,4,5,6,7,8]\n",
    "vb = np.array(l)\n",
    "print(vb)\n",
    "print(type(vb))\n",
    "print(vb.ndim)#gives dimenstion of given array "
   ]
  },
  {
   "cell_type": "code",
   "execution_count": 58,
   "id": "4903bc3a",
   "metadata": {},
   "outputs": [
    {
     "name": "stdout",
     "output_type": "stream",
     "text": [
      "[[ 1  2  3  4]\n",
      " [ 5  6  7  8]\n",
      " [ 9 10 11 12]]\n",
      "2\n",
      "int32\n",
      "(3, 4)\n"
     ]
    }
   ],
   "source": [
    "import numpy as np \n",
    "cv = np.array([[1,2,3,4],[5,6,7,8],[9,10,11,12]])\n",
    "print(cv)\n",
    "print(cv.ndim)\n",
    "print(cv.dtype)\n",
    "print(cv.shape)"
   ]
  },
  {
   "cell_type": "code",
   "execution_count": 59,
   "id": "b4649d4c",
   "metadata": {},
   "outputs": [
    {
     "name": "stdout",
     "output_type": "stream",
     "text": [
      "[1 2 3 4 5 6 7 8 9]\n"
     ]
    }
   ],
   "source": [
    "#creating array with random values \n",
    "import numpy as np \n",
    "fg = np.arange(1,10)\n",
    "print(fg)"
   ]
  },
  {
   "cell_type": "code",
   "execution_count": 60,
   "id": "3ba5e552",
   "metadata": {},
   "outputs": [
    {
     "name": "stdout",
     "output_type": "stream",
     "text": [
      "[[0. 0. 0.]\n",
      " [0. 0. 0.]]\n"
     ]
    }
   ],
   "source": [
    "#cretaing array of all values are 0s with np.zeros()\n",
    "#inside of paranthesis we write row and column values\n",
    "import numpy as np \n",
    "df = np.zeros((2,3))\n",
    "print(df)"
   ]
  },
  {
   "cell_type": "code",
   "execution_count": 61,
   "id": "8d63e5f3",
   "metadata": {},
   "outputs": [
    {
     "name": "stdout",
     "output_type": "stream",
     "text": [
      "[[1. 1. 1.]\n",
      " [1. 1. 1.]\n",
      " [1. 1. 1.]]\n"
     ]
    }
   ],
   "source": [
    "import numpy as np \n",
    "dg = np.ones((3,3))\n",
    "print(dg)"
   ]
  },
  {
   "cell_type": "code",
   "execution_count": 62,
   "id": "bd31bd9e",
   "metadata": {},
   "outputs": [
    {
     "name": "stdout",
     "output_type": "stream",
     "text": [
      "[[1. 0. 0. 0. 0.]\n",
      " [0. 1. 0. 0. 0.]\n",
      " [0. 0. 1. 0. 0.]\n",
      " [0. 0. 0. 1. 0.]\n",
      " [0. 0. 0. 0. 1.]]\n"
     ]
    }
   ],
   "source": [
    "#for crating square matrix of identity matrix \n",
    "import numpy as np \n",
    "dg = np.eye(5)\n",
    "print(dg)"
   ]
  },
  {
   "cell_type": "markdown",
   "id": "41bd6a1a",
   "metadata": {},
   "source": [
    "# arithmetic with numpy"
   ]
  },
  {
   "cell_type": "code",
   "execution_count": 63,
   "id": "e3d2f14b",
   "metadata": {},
   "outputs": [
    {
     "name": "stdout",
     "output_type": "stream",
     "text": [
      "sum of thow array= [ 8 10 12 14 16 18]\n",
      "difference of two array =  [-6 -6 -6 -6 -6 -6]\n",
      "dividend of two array =  [0.14285714 0.25       0.33333333 0.4        0.45454545 0.5       ]\n",
      "multiply of two array =  [ 7 16 27 40 55 72]\n"
     ]
    }
   ],
   "source": [
    "import numpy as np \n",
    "np1 = np.array([1,2,3,4,5,6])\n",
    "np2 = np.array([7,8,9,10,11,12])\n",
    "sum = np.add(np1,np2)\n",
    "sub = np.subtract(np1,np2)\n",
    "div = np.divide(np1,np2)\n",
    "mul = np.multiply(np1,np2)\n",
    "\n",
    "\n",
    "print(\"sum of thow array=\",sum)\n",
    "print(\"difference of two array = \",sub)\n",
    "print(\"dividend of two array = \",div)\n",
    "print(\"multiply of two array = \",mul)\n"
   ]
  },
  {
   "cell_type": "markdown",
   "id": "b5cd5d65",
   "metadata": {},
   "source": [
    "# Array Indexing"
   ]
  },
  {
   "cell_type": "code",
   "execution_count": 64,
   "id": "e8cf7cff",
   "metadata": {},
   "outputs": [
    {
     "name": "stdout",
     "output_type": "stream",
     "text": [
      "4\n"
     ]
    }
   ],
   "source": [
    "import numpy as np \n",
    "np1 = np.array([1,2,3,4,5,6])\n",
    "print(np1[3])"
   ]
  },
  {
   "cell_type": "code",
   "execution_count": 65,
   "id": "fc6cf2f7",
   "metadata": {},
   "outputs": [
    {
     "name": "stdout",
     "output_type": "stream",
     "text": [
      "[[1 2 3]\n",
      " [4 5 6]\n",
      " [7 8 9]]\n",
      "2\n"
     ]
    }
   ],
   "source": [
    "import numpy as np \n",
    "npp = np.array([[1,2,3],[4,5,6],[7,8,9]])\n",
    "print(npp)\n",
    "print(npp[0,1])"
   ]
  },
  {
   "cell_type": "markdown",
   "id": "40a6cb6b",
   "metadata": {},
   "source": [
    "# Array Slicing"
   ]
  },
  {
   "cell_type": "code",
   "execution_count": 66,
   "id": "c9d1c981",
   "metadata": {},
   "outputs": [
    {
     "name": "stdout",
     "output_type": "stream",
     "text": [
      "[[1 2 3]]\n"
     ]
    }
   ],
   "source": [
    "#to extract first row of matrices\n",
    "import numpy as np\n",
    "my_a = np.array([[1,2,3],[4,5,6],[7,8,9]])\n",
    "sub_arr = my_a[0:1,:]\n",
    "print(sub_arr)"
   ]
  },
  {
   "cell_type": "code",
   "execution_count": 67,
   "id": "5c80e194",
   "metadata": {},
   "outputs": [
    {
     "name": "stdout",
     "output_type": "stream",
     "text": [
      "[[1]\n",
      " [4]\n",
      " [7]]\n"
     ]
    }
   ],
   "source": [
    "#to import first column of matrices\n",
    "import numpy as np \n",
    "my_b = np.array([[1,2,3],[4,5,6],[7,8,9]])\n",
    "sub_arr2 = my_b[:,0:1]\n",
    "print(sub_arr2)"
   ]
  },
  {
   "cell_type": "markdown",
   "id": "282251e8",
   "metadata": {},
   "source": [
    "# Boolean Indexing"
   ]
  },
  {
   "cell_type": "code",
   "execution_count": 68,
   "id": "2abb9eec",
   "metadata": {},
   "outputs": [
    {
     "name": "stdout",
     "output_type": "stream",
     "text": [
      "[[ 0  1  2  3]\n",
      " [ 4  5  6  7]\n",
      " [ 8  9 10 11]]\n",
      "elements that greater than 5 =  [ 6  7  8  9 10 11]\n"
     ]
    }
   ],
   "source": [
    "import numpy as np \n",
    "x = np.arange(12).reshape(3,4)\n",
    "print(x)\n",
    "print(\"elements that greater than 5 = \",x[x>5])"
   ]
  },
  {
   "cell_type": "code",
   "execution_count": 69,
   "id": "cb49193f",
   "metadata": {},
   "outputs": [
    {
     "name": "stdout",
     "output_type": "stream",
     "text": [
      "element less than 6 =  [0 1 2 3 4 5]\n"
     ]
    }
   ],
   "source": [
    "print(\"element less than 6 = \",x[x<6])"
   ]
  },
  {
   "cell_type": "code",
   "execution_count": 70,
   "id": "47047c86",
   "metadata": {},
   "outputs": [
    {
     "name": "stdout",
     "output_type": "stream",
     "text": [
      "[4 4]\n"
     ]
    }
   ],
   "source": [
    "import numpy as np\n",
    "v = np.array([4,7,8,3,4,78,45,34])\n",
    "print(v[v==4])"
   ]
  },
  {
   "cell_type": "code",
   "execution_count": 71,
   "id": "14d04e2f",
   "metadata": {},
   "outputs": [
    {
     "name": "stdout",
     "output_type": "stream",
     "text": [
      "[ 8 78 45 34]\n"
     ]
    }
   ],
   "source": [
    "print(v[v>=8])"
   ]
  },
  {
   "cell_type": "code",
   "execution_count": 72,
   "id": "720f8683",
   "metadata": {},
   "outputs": [
    {
     "name": "stdout",
     "output_type": "stream",
     "text": [
      "[ 4  8  4 78 34]\n"
     ]
    }
   ],
   "source": [
    "print(v[v%2==0]) #sets having even number "
   ]
  },
  {
   "cell_type": "code",
   "execution_count": 73,
   "id": "7a908afe",
   "metadata": {},
   "outputs": [
    {
     "name": "stdout",
     "output_type": "stream",
     "text": [
      "[ 7  3 45]\n"
     ]
    }
   ],
   "source": [
    "print(v[v%2!=0]) #sets of having odd number "
   ]
  },
  {
   "cell_type": "markdown",
   "id": "b3796d9c",
   "metadata": {},
   "source": [
    "# Tranpose"
   ]
  },
  {
   "cell_type": "code",
   "execution_count": 75,
   "id": "6c18e5fc",
   "metadata": {},
   "outputs": [
    {
     "name": "stdout",
     "output_type": "stream",
     "text": [
      "[[ 0  1  2  3]\n",
      " [ 4  5  6  7]\n",
      " [ 8  9 10 11]]\n",
      "\n",
      "\n",
      "[[ 0  4  8]\n",
      " [ 1  5  9]\n",
      " [ 2  6 10]\n",
      " [ 3  7 11]]\n"
     ]
    }
   ],
   "source": [
    "import numpy as np \n",
    "x = np.arange(12).reshape(3,4)\n",
    "print(x)\n",
    "print(\"\\n\")\n",
    "trans = x.T\n",
    "print(trans)"
   ]
  },
  {
   "cell_type": "markdown",
   "id": "46294f1a",
   "metadata": {},
   "source": [
    "# Joing Array"
   ]
  },
  {
   "cell_type": "code",
   "execution_count": 96,
   "id": "3f63f524",
   "metadata": {},
   "outputs": [
    {
     "name": "stdout",
     "output_type": "stream",
     "text": [
      "[[1 2 3]\n",
      " [4 5 6]] \n",
      "\n",
      "[[ 7  8  9]\n",
      " [10 11 12]]\n"
     ]
    },
    {
     "data": {
      "text/plain": [
       "array([[ 1,  2,  3,  7,  8,  9],\n",
       "       [ 4,  5,  6, 10, 11, 12]])"
      ]
     },
     "execution_count": 96,
     "metadata": {},
     "output_type": "execute_result"
    }
   ],
   "source": [
    "#for this purpose we use numpy.concatenate()\n",
    "import numpy as np \n",
    "nw = np.array([[1,2,3],[4,5,6]])\n",
    "ne = np.array([[7,8,9],[10,11,12]])\n",
    "print(nw ,\"\\n\")\n",
    "print(ne)\n",
    "np.concatenate((nw,ne),axis=1)\n",
    "#print(fd)"
   ]
  },
  {
   "cell_type": "code",
   "execution_count": 94,
   "id": "885f592b",
   "metadata": {},
   "outputs": [
    {
     "name": "stdout",
     "output_type": "stream",
     "text": [
      "[1 2 3] \n",
      "\n",
      "[10 11 12]\n"
     ]
    },
    {
     "data": {
      "text/plain": [
       "array([ 1,  2,  3, 10, 11, 12])"
      ]
     },
     "execution_count": 94,
     "metadata": {},
     "output_type": "execute_result"
    }
   ],
   "source": [
    "#for this purpose we use numpy.concatenate()\n",
    "import numpy as np \n",
    "nw = np.array([1,2,3])\n",
    "ne = np.array([10,11,12])\n",
    "print(nw ,\"\\n\")\n",
    "print(ne)\n",
    "np.concatenate((nw,ne),axis =0)\n",
    "#print(fd)"
   ]
  },
  {
   "cell_type": "markdown",
   "id": "6319c899",
   "metadata": {},
   "source": [
    "# sorting"
   ]
  },
  {
   "cell_type": "code",
   "execution_count": 85,
   "id": "abacc415",
   "metadata": {},
   "outputs": [
    {
     "name": "stdout",
     "output_type": "stream",
     "text": [
      "[ 4  8 11 20 32]\n"
     ]
    }
   ],
   "source": [
    "#ascending order \n",
    "a = np.array([32,4,8,11,20])\n",
    "b = np.sort(a)\n",
    "print(b)"
   ]
  },
  {
   "cell_type": "code",
   "execution_count": 84,
   "id": "573f6c3b",
   "metadata": {},
   "outputs": [
    {
     "name": "stdout",
     "output_type": "stream",
     "text": [
      "[32 20 11  8  4]\n"
     ]
    }
   ],
   "source": [
    "#descending order\n",
    "c = np.sort(a)[::-1]\n",
    "print(c)"
   ]
  },
  {
   "cell_type": "code",
   "execution_count": 87,
   "id": "a83f9550",
   "metadata": {},
   "outputs": [
    {
     "name": "stdout",
     "output_type": "stream",
     "text": [
      "[1 2 3 4 0]\n"
     ]
    }
   ],
   "source": [
    "#argsort = gives index of sorted array\n",
    "g = np.argsort(a)\n",
    "print(g)"
   ]
  },
  {
   "cell_type": "markdown",
   "id": "b5b05224",
   "metadata": {},
   "source": [
    "# split"
   ]
  },
  {
   "cell_type": "code",
   "execution_count": 91,
   "id": "853a7961",
   "metadata": {},
   "outputs": [
    {
     "name": "stdout",
     "output_type": "stream",
     "text": [
      "[[ 0  1  2  3]\n",
      " [ 4  5  6  7]\n",
      " [ 8  9 10 11]]\n",
      "\n",
      "\n",
      "[[0 1 2 3]\n",
      " [4 5 6 7]]\n",
      "\n",
      "\n",
      "[[ 8  9 10 11]]\n"
     ]
    }
   ],
   "source": [
    "import numpy as np \n",
    "x = np.arange(12).reshape(3,4)\n",
    "print(x)\n",
    "print(\"\\n\")\n",
    "d,e = np.split(x,[2])\n",
    "print(d)\n",
    "print(\"\\n\")\n",
    "print(e)"
   ]
  },
  {
   "cell_type": "code",
   "execution_count": null,
   "id": "f4c3070c",
   "metadata": {},
   "outputs": [],
   "source": []
  }
 ],
 "metadata": {
  "kernelspec": {
   "display_name": "Python 3 (ipykernel)",
   "language": "python",
   "name": "python3"
  },
  "language_info": {
   "codemirror_mode": {
    "name": "ipython",
    "version": 3
   },
   "file_extension": ".py",
   "mimetype": "text/x-python",
   "name": "python",
   "nbconvert_exporter": "python",
   "pygments_lexer": "ipython3",
   "version": "3.9.12"
  }
 },
 "nbformat": 4,
 "nbformat_minor": 5
}
