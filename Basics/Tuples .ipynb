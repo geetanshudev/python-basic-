{
 "cells": [
  {
   "cell_type": "code",
   "execution_count": 1,
   "id": "51e5d6aa",
   "metadata": {},
   "outputs": [
    {
     "name": "stdout",
     "output_type": "stream",
     "text": [
      "<class 'tuple'>\n"
     ]
    }
   ],
   "source": [
    "tp = ()\n",
    "print(type(tp))"
   ]
  },
  {
   "cell_type": "code",
   "execution_count": 2,
   "id": "3f962f23",
   "metadata": {},
   "outputs": [
    {
     "name": "stdout",
     "output_type": "stream",
     "text": [
      "<class 'tuple'>\n"
     ]
    }
   ],
   "source": [
    "tp1 = (1,2,3,4,5)\n",
    "print(type(tp1))"
   ]
  },
  {
   "cell_type": "code",
   "execution_count": 4,
   "id": "79cb44c8",
   "metadata": {},
   "outputs": [
    {
     "name": "stdout",
     "output_type": "stream",
     "text": [
      "(1, 2, 3, 4, 5, 6)\n",
      "(3, 4, 5)\n"
     ]
    }
   ],
   "source": [
    "#assecing tuple \n",
    "tp2 = (1,2,3,4,5,6)\n",
    "print(tp2)\n",
    "print(tp2[2:5])"
   ]
  },
  {
   "cell_type": "code",
   "execution_count": 6,
   "id": "74f8838d",
   "metadata": {},
   "outputs": [
    {
     "ename": "TypeError",
     "evalue": "'tuple' object does not support item assignment",
     "output_type": "error",
     "traceback": [
      "\u001b[1;31m---------------------------------------------------------------------------\u001b[0m",
      "\u001b[1;31mTypeError\u001b[0m                                 Traceback (most recent call last)",
      "Input \u001b[1;32mIn [6]\u001b[0m, in \u001b[0;36m<cell line: 1>\u001b[1;34m()\u001b[0m\n\u001b[1;32m----> 1\u001b[0m tp2[\u001b[38;5;241m0\u001b[39m] \u001b[38;5;241m=\u001b[39m \u001b[38;5;241m100\u001b[39m\n\u001b[0;32m      2\u001b[0m pritn(tp2)\n",
      "\u001b[1;31mTypeError\u001b[0m: 'tuple' object does not support item assignment"
     ]
    }
   ],
   "source": [
    "tp2[0] = 100\n",
    "pritn(tp2)"
   ]
  },
  {
   "cell_type": "code",
   "execution_count": 7,
   "id": "a78797ce",
   "metadata": {},
   "outputs": [
    {
     "data": {
      "text/plain": [
       "(1, 2, 3, 4, 5, 6)"
      ]
     },
     "execution_count": 7,
     "metadata": {},
     "output_type": "execute_result"
    }
   ],
   "source": [
    "tp2"
   ]
  },
  {
   "cell_type": "code",
   "execution_count": 8,
   "id": "ddfc1309",
   "metadata": {},
   "outputs": [],
   "source": [
    "tp3 = ('a','b','c','d','e')"
   ]
  },
  {
   "cell_type": "code",
   "execution_count": 9,
   "id": "7c8a2c86",
   "metadata": {},
   "outputs": [
    {
     "name": "stdout",
     "output_type": "stream",
     "text": [
      "(1, 2, 3, 4, 5, 6, 'a', 'b', 'c', 'd', 'e')\n"
     ]
    }
   ],
   "source": [
    "tp4 = tp2 + tp3\n",
    "print(tp4)"
   ]
  },
  {
   "cell_type": "code",
   "execution_count": 10,
   "id": "9e6459c8",
   "metadata": {},
   "outputs": [
    {
     "ename": "TypeError",
     "evalue": "'tuple' object doesn't support item deletion",
     "output_type": "error",
     "traceback": [
      "\u001b[1;31m---------------------------------------------------------------------------\u001b[0m",
      "\u001b[1;31mTypeError\u001b[0m                                 Traceback (most recent call last)",
      "Input \u001b[1;32mIn [10]\u001b[0m, in \u001b[0;36m<cell line: 1>\u001b[1;34m()\u001b[0m\n\u001b[1;32m----> 1\u001b[0m \u001b[38;5;28;01mdel\u001b[39;00m tp4[\u001b[38;5;241m0\u001b[39m]\n",
      "\u001b[1;31mTypeError\u001b[0m: 'tuple' object doesn't support item deletion"
     ]
    }
   ],
   "source": [
    "del tp4[0]"
   ]
  },
  {
   "cell_type": "code",
   "execution_count": 11,
   "id": "dbe87306",
   "metadata": {},
   "outputs": [],
   "source": [
    "del tp4"
   ]
  },
  {
   "cell_type": "code",
   "execution_count": 12,
   "id": "4c1c7d27",
   "metadata": {},
   "outputs": [
    {
     "ename": "NameError",
     "evalue": "name 'tp4' is not defined",
     "output_type": "error",
     "traceback": [
      "\u001b[1;31m---------------------------------------------------------------------------\u001b[0m",
      "\u001b[1;31mNameError\u001b[0m                                 Traceback (most recent call last)",
      "Input \u001b[1;32mIn [12]\u001b[0m, in \u001b[0;36m<cell line: 1>\u001b[1;34m()\u001b[0m\n\u001b[1;32m----> 1\u001b[0m \u001b[38;5;28mprint\u001b[39m(\u001b[43mtp4\u001b[49m)\n",
      "\u001b[1;31mNameError\u001b[0m: name 'tp4' is not defined"
     ]
    }
   ],
   "source": [
    "print(tp4)"
   ]
  },
  {
   "cell_type": "markdown",
   "id": "5bc026d0",
   "metadata": {},
   "source": [
    "Basic Tuple operations "
   ]
  },
  {
   "cell_type": "code",
   "execution_count": 13,
   "id": "3a5d4407",
   "metadata": {},
   "outputs": [
    {
     "name": "stdout",
     "output_type": "stream",
     "text": [
      "(1, 2, 3, 4, 5, 11, 12, 13, 14, 15)\n"
     ]
    }
   ],
   "source": [
    "#concatenate \n",
    "tupl1 = (1,2,3,4,5)\n",
    "tupl2 = (11,12,13,14,15)\n",
    "tupl3 = tupl1 + tupl2\n",
    "print(tupl3)"
   ]
  },
  {
   "cell_type": "code",
   "execution_count": 14,
   "id": "730513d2",
   "metadata": {},
   "outputs": [
    {
     "name": "stdout",
     "output_type": "stream",
     "text": [
      "(1, 2, 3, 4, 5, 1, 2, 3, 4, 5, 1, 2, 3, 4, 5)\n"
     ]
    }
   ],
   "source": [
    "#repetation\n",
    "print(tupl1 * 3)"
   ]
  },
  {
   "cell_type": "code",
   "execution_count": 15,
   "id": "dda5b8b8",
   "metadata": {},
   "outputs": [
    {
     "name": "stdout",
     "output_type": "stream",
     "text": [
      "5\n"
     ]
    }
   ],
   "source": [
    "#finding length \n",
    "print(len(tupl1))"
   ]
  },
  {
   "cell_type": "code",
   "execution_count": 17,
   "id": "a2dbd976",
   "metadata": {},
   "outputs": [
    {
     "name": "stdout",
     "output_type": "stream",
     "text": [
      "True\n",
      "False\n"
     ]
    }
   ],
   "source": [
    "#membership \n",
    "print(3 in tupl1)\n",
    "print(3 in tupl2)"
   ]
  },
  {
   "cell_type": "markdown",
   "id": "b6324d7d",
   "metadata": {},
   "source": [
    "Built in tuple functions "
   ]
  },
  {
   "cell_type": "code",
   "execution_count": 18,
   "id": "ae17f78c",
   "metadata": {},
   "outputs": [
    {
     "ename": "NameError",
     "evalue": "name 'cmp' is not defined",
     "output_type": "error",
     "traceback": [
      "\u001b[1;31m---------------------------------------------------------------------------\u001b[0m",
      "\u001b[1;31mNameError\u001b[0m                                 Traceback (most recent call last)",
      "Input \u001b[1;32mIn [18]\u001b[0m, in \u001b[0;36m<cell line: 1>\u001b[1;34m()\u001b[0m\n\u001b[1;32m----> 1\u001b[0m \u001b[43mcmp\u001b[49m(tupl1,tupl2)\n",
      "\u001b[1;31mNameError\u001b[0m: name 'cmp' is not defined"
     ]
    }
   ],
   "source": [
    "cmp(tupl1,tupl2)"
   ]
  },
  {
   "cell_type": "code",
   "execution_count": 19,
   "id": "876de9f2",
   "metadata": {},
   "outputs": [
    {
     "data": {
      "text/plain": [
       "5"
      ]
     },
     "execution_count": 19,
     "metadata": {},
     "output_type": "execute_result"
    }
   ],
   "source": [
    "max(tupl1)"
   ]
  },
  {
   "cell_type": "code",
   "execution_count": 20,
   "id": "32f7c06f",
   "metadata": {},
   "outputs": [
    {
     "data": {
      "text/plain": [
       "1"
      ]
     },
     "execution_count": 20,
     "metadata": {},
     "output_type": "execute_result"
    }
   ],
   "source": [
    "min(tupl1)"
   ]
  },
  {
   "cell_type": "code",
   "execution_count": null,
   "id": "d1bc5496",
   "metadata": {},
   "outputs": [],
   "source": []
  }
 ],
 "metadata": {
  "kernelspec": {
   "display_name": "Python 3 (ipykernel)",
   "language": "python",
   "name": "python3"
  },
  "language_info": {
   "codemirror_mode": {
    "name": "ipython",
    "version": 3
   },
   "file_extension": ".py",
   "mimetype": "text/x-python",
   "name": "python",
   "nbconvert_exporter": "python",
   "pygments_lexer": "ipython3",
   "version": "3.9.12"
  }
 },
 "nbformat": 4,
 "nbformat_minor": 5
}
