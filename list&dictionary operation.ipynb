{
 "cells": [
  {
   "cell_type": "code",
   "execution_count": 6,
   "id": "aa2bd032",
   "metadata": {},
   "outputs": [
    {
     "name": "stdout",
     "output_type": "stream",
     "text": [
      "[1, 2, 34, 3, 4, 100]\n",
      "[1, 2, 45, 3, 4, 100]\n",
      "[1, 2, 3, 4, 100]\n",
      "[]\n"
     ]
    }
   ],
   "source": [
    "num=[1,2,3,4]\n",
    "num.append(100) #add element at end \n",
    "num.insert(2,34) #insert element based on index number\n",
    "print(num)\n",
    "num[2]=45 #change element based on index number\n",
    "print(num)\n",
    "\n",
    "del num[2] #delete element based on element number\n",
    "print(num)\n",
    "\n",
    "num.clear()#clear all data in list variable\n",
    "print(num)\n",
    "\n"
   ]
  },
  {
   "cell_type": "code",
   "execution_count": 35,
   "id": "1970859b",
   "metadata": {},
   "outputs": [
    {
     "name": "stdout",
     "output_type": "stream",
     "text": [
      "[1, 2, 3, 4, 5, 10, 12, 14, 15, 16]\n",
      "[1, 2, 3, 4, 5, 12, 14, 15, 16]\n",
      "[2, 3, 4, 5, 12, 14, 15, 16]\n",
      "1\n",
      "[2, 3, 4, 5, 12, 14, 15, 16]\n",
      "[16, 15, 14, 12, 5, 4, 3, 2]\n",
      "\n",
      "\n",
      "16 \t\n",
      "15 \t\n",
      "14 \t\n",
      "12 \t\n",
      "5 \t\n",
      "4 \t\n",
      "3 \t\n",
      "2 \t\n"
     ]
    }
   ],
   "source": [
    "k=[1,2,3,4,5]\n",
    "l=[10,12,14,15,16]\n",
    "k.extend(l) #add list into another list\n",
    "print(k)\n",
    "\n",
    "k.remove(10) #remove given item \n",
    "print(k)\n",
    "k.pop(0) #remove element based on index number\n",
    "print(k)\n",
    "\n",
    "print(k.count(12))\n",
    "\n",
    "k.sort()#sort in ascending order\n",
    "print(k)\n",
    "\n",
    "k.reverse()#sort in descending order\n",
    "print(k)\n",
    "print(\"\\n\")\n",
    "\n",
    "for i in k:\n",
    "\n",
    "    print(i,\"\\t\")\n",
    "    \n"
   ]
  },
  {
   "cell_type": "code",
   "execution_count": 27,
   "id": "f603d5fd",
   "metadata": {},
   "outputs": [
    {
     "name": "stdout",
     "output_type": "stream",
     "text": [
      "{'jan': 28, 'feb': 14, 'mar': 23}\n",
      "23\n",
      "{'jan': 28, 'feb': 14, 'mar': 23, 'apr': 30}\n",
      "\n",
      "\n",
      "{'jan': 12, 'feb': 14, 'mar': 23, 'apr': 30}\n",
      "{'feb': 14, 'mar': 23, 'apr': 30}\n",
      "{}\n"
     ]
    }
   ],
   "source": [
    "temp = {'jan':28,'feb':14,'mar':23}\n",
    "print(temp)\n",
    "mar_temp=temp['mar']\n",
    "print(mar_temp)\n",
    "temp['apr']=30\n",
    "\n",
    "print(temp)\n",
    "\n",
    "temp['jan']=12\n",
    "print(\"\\n\")\n",
    "print(temp)\n",
    "\n",
    "del temp['jan']\n",
    "print(temp)\n",
    "\n",
    "temp.clear()\n",
    "print(temp)\n",
    "\n",
    "for i in temp:\n",
    "    print(i,\"\\n\")"
   ]
  },
  {
   "cell_type": "code",
   "execution_count": 30,
   "id": "8f5ec7cc",
   "metadata": {},
   "outputs": [
    {
     "name": "stdout",
     "output_type": "stream",
     "text": [
      "{'jan': 28, 'feb': 14, 'mar': 23}\n",
      "jan \n",
      "\n",
      "feb \n",
      "\n",
      "mar \n",
      "\n"
     ]
    }
   ],
   "source": [
    "temp = {'jan':28,'feb':14,'mar':23}\n",
    "print(temp)\n",
    "\n",
    "for i in temp:\n",
    "    print(i,\"\\n\")"
   ]
  },
  {
   "cell_type": "code",
   "execution_count": null,
   "id": "51ac601f",
   "metadata": {},
   "outputs": [],
   "source": []
  }
 ],
 "metadata": {
  "kernelspec": {
   "display_name": "Python 3 (ipykernel)",
   "language": "python",
   "name": "python3"
  },
  "language_info": {
   "codemirror_mode": {
    "name": "ipython",
    "version": 3
   },
   "file_extension": ".py",
   "mimetype": "text/x-python",
   "name": "python",
   "nbconvert_exporter": "python",
   "pygments_lexer": "ipython3",
   "version": "3.9.12"
  }
 },
 "nbformat": 4,
 "nbformat_minor": 5
}
