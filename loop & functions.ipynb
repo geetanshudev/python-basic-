{
 "cells": [
  {
   "cell_type": "code",
   "execution_count": 1,
   "id": "3cb31855",
   "metadata": {},
   "outputs": [
    {
     "name": "stdout",
     "output_type": "stream",
     "text": [
      "1 X 5= 5\n",
      "2 X 5= 10\n",
      "3 X 5= 15\n",
      "4 X 5= 20\n",
      "5 X 5= 25\n",
      "6 X 5= 30\n",
      "7 X 5= 35\n",
      "8 X 5= 40\n",
      "9 X 5= 45\n"
     ]
    }
   ],
   "source": [
    "#simple while loop to create multiplication table of 5\n",
    "i=1\n",
    "while i<10:\n",
    "    print(i,\"X 5=\",i*5)\n",
    "    i+=1"
   ]
  },
  {
   "cell_type": "code",
   "execution_count": 2,
   "id": "21396c0b",
   "metadata": {},
   "outputs": [
    {
     "name": "stdout",
     "output_type": "stream",
     "text": [
      "1 X 5= 5\n",
      "2 X 5= 10\n",
      "3 X 5= 15\n",
      "4 X 5= 20\n",
      "5 X 5= 25\n",
      "6 X 5= 30\n",
      "7 X 5= 35\n",
      "8 X 5= 40\n",
      "9 X 5= 45\n",
      "10 X 5= 50\n"
     ]
    }
   ],
   "source": [
    "#simple for loop to create multiplication table \n",
    "for i in range(1,11):\n",
    "    print(i,\"X 5=\",i*5)"
   ]
  },
  {
   "cell_type": "code",
   "execution_count": 3,
   "id": "90151a56",
   "metadata": {},
   "outputs": [
    {
     "name": "stdout",
     "output_type": "stream",
     "text": [
      "1 \t2 \t3 \t4 \t5 \t6 \t7 \t8 \t9 \t\n",
      "2 \t4 \t6 \t8 \t10 \t12 \t14 \t16 \t18 \t\n",
      "3 \t6 \t9 \t12 \t15 \t18 \t21 \t24 \t27 \t\n",
      "4 \t8 \t12 \t16 \t20 \t24 \t28 \t32 \t36 \t\n",
      "5 \t10 \t15 \t20 \t25 \t30 \t35 \t40 \t45 \t\n",
      "6 \t12 \t18 \t24 \t30 \t36 \t42 \t48 \t54 \t\n",
      "7 \t14 \t21 \t28 \t35 \t42 \t49 \t56 \t63 \t\n",
      "8 \t16 \t24 \t32 \t40 \t48 \t56 \t64 \t72 \t\n",
      "9 \t18 \t27 \t36 \t45 \t54 \t63 \t72 \t81 \t\n"
     ]
    }
   ],
   "source": [
    "#nested for loop to create multiplication from 1 to 10\n",
    "for a in range (1,10):\n",
    "    for b in range(1,10):\n",
    "        print(a*b,\"\\t\",end=\"\")\n",
    "    print(\"\")"
   ]
  },
  {
   "cell_type": "code",
   "execution_count": 21,
   "id": "a081864f",
   "metadata": {},
   "outputs": [
    {
     "name": "stdout",
     "output_type": "stream",
     "text": [
      "enter number till multiplicationn table you want = 10\n",
      "1 \t2 \t3 \t4 \t5 \t6 \t7 \t8 \t9 \t10 \t\n",
      "2 \t4 \t6 \t8 \t10 \t12 \t14 \t16 \t18 \t20 \t\n",
      "3 \t6 \t9 \t12 \t15 \t18 \t21 \t24 \t27 \t30 \t\n",
      "4 \t8 \t12 \t16 \t20 \t24 \t28 \t32 \t36 \t40 \t\n",
      "5 \t10 \t15 \t20 \t25 \t30 \t35 \t40 \t45 \t50 \t\n",
      "6 \t12 \t18 \t24 \t30 \t36 \t42 \t48 \t54 \t60 \t\n",
      "7 \t14 \t21 \t28 \t35 \t42 \t49 \t56 \t63 \t70 \t\n",
      "8 \t16 \t24 \t32 \t40 \t48 \t56 \t64 \t72 \t80 \t\n",
      "9 \t18 \t27 \t36 \t45 \t54 \t63 \t72 \t81 \t90 \t\n",
      "10 \t20 \t30 \t40 \t50 \t60 \t70 \t80 \t90 \t100 \t\n"
     ]
    }
   ],
   "source": [
    "num = int(input(\"enter number till multiplicationn table you want = \"))\n",
    "\n",
    "for a in range(1,num+1):\n",
    "    for b in range(1,num+1):\n",
    "        print(a*b,\"\\t\",end=\"\")\n",
    "    print(\"\")"
   ]
  },
  {
   "cell_type": "code",
   "execution_count": 7,
   "id": "5ae06c75",
   "metadata": {},
   "outputs": [
    {
     "name": "stdout",
     "output_type": "stream",
     "text": [
      "enter any number=5\n",
      "enter second number=6\n"
     ]
    },
    {
     "data": {
      "text/plain": [
       "11"
      ]
     },
     "execution_count": 7,
     "metadata": {},
     "output_type": "execute_result"
    }
   ],
   "source": [
    "#simple function operation\n",
    "\n",
    "def sumnum(x,y): #user defined function\n",
    "    b=x+y\n",
    "    return b\n",
    "\n",
    "n=int(input(\"enter any number=\"))\n",
    "m=int(input(\"enter second number=\"))\n",
    "sumnum(n,m)\n",
    "\n"
   ]
  },
  {
   "cell_type": "code",
   "execution_count": 10,
   "id": "69fae5cd",
   "metadata": {},
   "outputs": [
    {
     "name": "stdout",
     "output_type": "stream",
     "text": [
      "enter any number=4\n"
     ]
    },
    {
     "data": {
      "text/plain": [
       "2.0"
      ]
     },
     "execution_count": 10,
     "metadata": {},
     "output_type": "execute_result"
    }
   ],
   "source": [
    "#built-in function\n",
    "import math\n",
    "p = int(input(\"enter any number=\"))\n",
    "math.sqrt(p)\n"
   ]
  },
  {
   "cell_type": "code",
   "execution_count": 14,
   "id": "518160b4",
   "metadata": {},
   "outputs": [
    {
     "name": "stdout",
     "output_type": "stream",
     "text": [
      "Enter value of a = 3\n",
      "Enter value of b = 4\n",
      "Enter value of c = 5\n",
      "Roots are imaginary and unequal\n",
      "range of given number= (-39.0, 27.0)\n"
     ]
    }
   ],
   "source": [
    "#function to solve quadratic equation \n",
    "\n",
    "def quad(a,b,c):\n",
    "    D = (b**2)-4*a*c\n",
    "    D1 = D*0.5\n",
    "    x = (-b+D1)/2*a\n",
    "    x1 = (-b-D1)/2*a\n",
    "    \n",
    "    \n",
    "    if D1 > 0:\n",
    "        print(\"Roots are equal and distinct (unequeal).\")\n",
    "        \n",
    "    elif D1 == 0:\n",
    "        print(\"Roots are real and equal (coincident).\")\n",
    "        \n",
    "    else:\n",
    "        print(\"Roots are imaginary and unequal\")\n",
    "    return (x,x1)\n",
    "    \n",
    "x = int(input(\"Enter value of a = \"))\n",
    "y = int(input(\"Enter value of b = \"))\n",
    "z = int(input(\"Enter value of c = \"))\n",
    "\n",
    "sol=quad(x,y,z)\n",
    "print(\"range of given number=\",sol)\n",
    "\n",
    "        "
   ]
  },
  {
   "cell_type": "code",
   "execution_count": 17,
   "id": "2e88177d",
   "metadata": {},
   "outputs": [
    {
     "name": "stdout",
     "output_type": "stream",
     "text": [
      "enter length of box = 3\n",
      "enter width of box = 2\n",
      "volume of box is  30 sq\n"
     ]
    }
   ],
   "source": [
    "def vol(l,w,h=3):\n",
    "    vll = l*w*h\n",
    "    return(vll)\n",
    "x = int(input(\"enter length of box = \"))\n",
    "y = int(input(\"enter width of box = \"))\n",
    "\n",
    "vop = vol(x,y,z)\n",
    "print(\"volume of box is \",vop,\"sq\")"
   ]
  },
  {
   "cell_type": "code",
   "execution_count": 18,
   "id": "4d80e2f0",
   "metadata": {},
   "outputs": [
    {
     "name": "stdout",
     "output_type": "stream",
     "text": [
      "enter first string = noon\n",
      "enter second string = cool\n",
      "both strings length are equal.\n"
     ]
    }
   ],
   "source": [
    "#to create function that take 2 strings and check whether there length is equal or not\n",
    "\n",
    "def sameStr(x,y):\n",
    "    r=len(x)\n",
    "    t=len(y)\n",
    "    if r == t:\n",
    "        print(\"both strings length are equal.\")\n",
    "    else:\n",
    "        print(\"both string length are not equal.\")\n",
    "\n",
    "q = input(\"enter first string = \")\n",
    "w = input(\"enter second string = \")\n",
    "\n",
    "sameStr(q,w)"
   ]
  },
  {
   "cell_type": "code",
   "execution_count": 20,
   "id": "174b332e",
   "metadata": {},
   "outputs": [
    {
     "name": "stdout",
     "output_type": "stream",
     "text": [
      "enter first number = 23\n",
      "enter second number = 78\n",
      "first random number of given two number is =  55\n",
      "second random number of given two number is =  74\n",
      "third random number of given two number is =  65\n"
     ]
    }
   ],
   "source": [
    "#function that receive 2 number and gives 3 random number \n",
    "#in this we see we can call function more than one times \n",
    "import random\n",
    "def num(x,y):\n",
    "    t = random.randint(x,y)\n",
    "    return(t)\n",
    "\n",
    "a = int(input(\"enter first number = \"))\n",
    "b = int(input(\"enter second number = \"))\n",
    "\n",
    "print(\"first random number of given two number is = \", num(a,b))\n",
    "print(\"second random number of given two number is = \", num(a,b))\n",
    "print(\"third random number of given two number is = \", num(a,b))"
   ]
  },
  {
   "cell_type": "code",
   "execution_count": 24,
   "id": "b75a160a",
   "metadata": {},
   "outputs": [
    {
     "name": "stdout",
     "output_type": "stream",
     "text": [
      "enter any from 1//2//3 = 2\n",
      "random number between 10 to 99 is  25\n"
     ]
    }
   ],
   "source": [
    "import random \n",
    "def numb(n):\n",
    "    t = n\n",
    "    if t == 2:\n",
    "        print(\"random number between 10 to 99 is \",random.randint(10,99))\n",
    "    elif t == 1:\n",
    "        print(\"random number between 0 to 9 is \",random.randint(0,9))\n",
    "    elif t == 3:\n",
    "        print(\"random number between 100 to 999 is \",random.randint(100,999))\n",
    "        \n",
    "g=int(input(\"enter any from 1//2//3 = \"))\n",
    "\n",
    "numb(g)"
   ]
  },
  {
   "cell_type": "code",
   "execution_count": 25,
   "id": "23d3bccf",
   "metadata": {},
   "outputs": [
    {
     "name": "stdout",
     "output_type": "stream",
     "text": [
      "enter first number = 491\n",
      "enter second number = 278\n",
      "lowest one's value is  491\n"
     ]
    }
   ],
   "source": [
    "#function takes 2 number from user and compare there one's if any one of them is lowest then whole number is lowest\n",
    "def bif(x,y):\n",
    "    d = x[-1]\n",
    "    e = y[-1]\n",
    "    if d<e:\n",
    "        print(\"lowest one's value is \",x)\n",
    "    else:\n",
    "        print(\"lowest one's value is \",y)\n",
    "\n",
    "enr = input(\"enter first number = \")\n",
    "ens = input(\"enter second number = \")\n",
    "\n",
    "bif(enr,ens)"
   ]
  },
  {
   "cell_type": "code",
   "execution_count": 26,
   "id": "1d5ba5a4",
   "metadata": {},
   "outputs": [
    {
     "name": "stdout",
     "output_type": "stream",
     "text": [
      "enter first number = 1\n",
      "enter second number = 7\n",
      "series are =  1 None None 7\n"
     ]
    }
   ],
   "source": [
    "import random\n",
    "def dlf(e,r):\n",
    "    t = random.randint(e,r)\n",
    "    \n",
    "w = int(input(\"enter first number = \"))\n",
    "x = int(input(\"enter second number = \"))\n",
    "\n",
    "y = dlf(w,x)\n",
    "z = dlf(w,x)\n",
    "\n",
    "print(\"series are = \",w,y,z,x)"
   ]
  },
  {
   "cell_type": "code",
   "execution_count": null,
   "id": "7d8f5d3e",
   "metadata": {},
   "outputs": [],
   "source": []
  }
 ],
 "metadata": {
  "kernelspec": {
   "display_name": "Python 3 (ipykernel)",
   "language": "python",
   "name": "python3"
  },
  "language_info": {
   "codemirror_mode": {
    "name": "ipython",
    "version": 3
   },
   "file_extension": ".py",
   "mimetype": "text/x-python",
   "name": "python",
   "nbconvert_exporter": "python",
   "pygments_lexer": "ipython3",
   "version": "3.9.12"
  }
 },
 "nbformat": 4,
 "nbformat_minor": 5
}
