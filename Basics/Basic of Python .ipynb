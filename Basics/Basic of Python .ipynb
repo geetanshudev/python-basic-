{
 "cells": [
  {
   "cell_type": "code",
   "execution_count": 1,
   "id": "526b1367",
   "metadata": {},
   "outputs": [
    {
     "name": "stdout",
     "output_type": "stream",
     "text": [
      "what is your name ? geetanshu dev\n",
      "so your name is  geetanshu dev\n"
     ]
    }
   ],
   "source": [
    "#simple input and output \n",
    "\n",
    "name = input(\"what is your name ? \")\n",
    "print(\"so your name is \", name)"
   ]
  },
  {
   "cell_type": "code",
   "execution_count": 3,
   "id": "f4e8540a",
   "metadata": {},
   "outputs": [
    {
     "name": "stdout",
     "output_type": "stream",
     "text": [
      "enter any number = 5\n",
      "square of a number =  25\n",
      "cube of a number =  125\n"
     ]
    }
   ],
   "source": [
    "#take a number and square and cube it \n",
    "number = int(input(\"enter any number = \"))\n",
    "sq = number**2\n",
    "cube = number**3\n",
    "print(\"square of a number = \",sq)\n",
    "print(\"cube of a number = \",cube)"
   ]
  },
  {
   "cell_type": "raw",
   "id": "c57d1a72",
   "metadata": {},
   "source": [
    "Different datatype used in python "
   ]
  },
  {
   "cell_type": "code",
   "execution_count": 7,
   "id": "61b2e6cf",
   "metadata": {},
   "outputs": [],
   "source": [
    "#list with square bracket"
   ]
  },
  {
   "cell_type": "code",
   "execution_count": 4,
   "id": "0ef17cbb",
   "metadata": {},
   "outputs": [
    {
     "name": "stdout",
     "output_type": "stream",
     "text": [
      "[12, 23, 34, 45, 56, 67]\n"
     ]
    }
   ],
   "source": [
    "\n",
    "a1 = (12,23,34,45,56,67)\n",
    "lst = list(a1)\n",
    "print(lst)"
   ]
  },
  {
   "cell_type": "code",
   "execution_count": 8,
   "id": "4949ac73",
   "metadata": {},
   "outputs": [
    {
     "name": "stdout",
     "output_type": "stream",
     "text": [
      "(1, 2, 3, 4, 'a', 'b', 'c')\n"
     ]
    }
   ],
   "source": [
    "#tuples with circle bracket with comma\n",
    "bn = (1,2,3,4,'a','b','c')\n",
    "print(bn)"
   ]
  },
  {
   "cell_type": "code",
   "execution_count": 9,
   "id": "1b62cd6c",
   "metadata": {},
   "outputs": [
    {
     "name": "stdout",
     "output_type": "stream",
     "text": [
      "{'name': 'ashok', 'place': 'bhuwaneshwar', 'age': '34'}\n"
     ]
    }
   ],
   "source": [
    "#dictionary it writes with curly braces with separate with colon :\n",
    "#it stores data in {key:value} types \n",
    "dic = {'name':'ashok','place':'bhuwaneshwar','age':'34'}\n",
    "print(dic)"
   ]
  },
  {
   "cell_type": "markdown",
   "id": "e77d1cdc",
   "metadata": {},
   "source": [
    "# #operators used in python "
   ]
  },
  {
   "cell_type": "code",
   "execution_count": 44,
   "id": "1144e22c",
   "metadata": {},
   "outputs": [
    {
     "name": "stdout",
     "output_type": "stream",
     "text": [
      "add= 16 \n",
      "sub= 8 \n",
      "multi= 48 \n",
      "divide= 3.0 \n",
      "floor division =  3 \n",
      "modulus =  0 \n",
      "exponent =  20736\n",
      "\n",
      "string concatenation =  helloworld\n"
     ]
    }
   ],
   "source": [
    "#arithmetics\n",
    "a = 12\n",
    "b = 4\n",
    "\n",
    "add = a+b\n",
    "sub = a-b\n",
    "multi = a*b\n",
    "divide = a/b\n",
    "floordivi = a//b\n",
    "mod = a%b\n",
    "exponent = a**4\n",
    "print(\"add=\",add,\"\\nsub=\",sub,\"\\nmulti=\",multi,\"\\ndivide=\",divide,\"\\nfloor division = \",floordivi,\"\\nmodulus = \",mod,\"\\nexponent = \",exponent)\n",
    "print()\n",
    "c = \"hello\"\n",
    "d = \"world\"\n",
    "print(\"string concatenation = \",c+d)"
   ]
  },
  {
   "cell_type": "code",
   "execution_count": 49,
   "id": "c474ddee",
   "metadata": {},
   "outputs": [
    {
     "name": "stdout",
     "output_type": "stream",
     "text": [
      "15\n",
      "12\n",
      "36\n",
      "12.0\n"
     ]
    }
   ],
   "source": [
    "#assignment operators\n",
    "a = 12\n",
    "b = 3\n",
    "a+=b\n",
    "print(a)\n",
    "a-=b\n",
    "print(a)\n",
    "a*=b\n",
    "print(a)\n",
    "a/=b\n",
    "print(a)"
   ]
  },
  {
   "cell_type": "code",
   "execution_count": 54,
   "id": "2d3ef856",
   "metadata": {},
   "outputs": [
    {
     "name": "stdout",
     "output_type": "stream",
     "text": [
      "True\n",
      "False\n",
      "True\n",
      "False\n",
      "False\n",
      "True\n",
      " \n",
      "False\n",
      "True\n",
      "False\n",
      "True\n",
      "False\n",
      "True\n"
     ]
    },
    {
     "data": {
      "text/plain": [
       "\"'A'\""
      ]
     },
     "execution_count": 54,
     "metadata": {},
     "output_type": "execute_result"
    }
   ],
   "source": [
    "#relational operator \n",
    "a = 13\n",
    "b = 5\n",
    "print(a>b)\n",
    "print(a<b)\n",
    "print(a>=b)\n",
    "print(a<=b)\n",
    "print(a==b)\n",
    "print(a!=b)\n",
    "print(\" \")\n",
    "\n",
    "c = 'A'\n",
    "d = 'a'\n",
    "print(c>d)\n",
    "print(c<d)\n",
    "print(c>=d)\n",
    "print(c<=d)\n",
    "print(c==d)\n",
    "print(c!=d)\n",
    "\n",
    "ascii('A')"
   ]
  },
  {
   "cell_type": "code",
   "execution_count": 56,
   "id": "84dd821c",
   "metadata": {},
   "outputs": [
    {
     "data": {
      "text/plain": [
       "True"
      ]
     },
     "execution_count": 56,
     "metadata": {},
     "output_type": "execute_result"
    }
   ],
   "source": [
    "#Identity Operators\n",
    "\n",
    "a = \"japan\"\n",
    "b = \"pan\"\n",
    "a is b\n",
    "a is not b\n"
   ]
  },
  {
   "cell_type": "code",
   "execution_count": 57,
   "id": "f010b7e9",
   "metadata": {},
   "outputs": [
    {
     "name": "stdout",
     "output_type": "stream",
     "text": [
      "2713054505552\n",
      "2713054505872\n"
     ]
    }
   ],
   "source": [
    "#to find memory reference we use id()\n",
    "a = 10 \n",
    "c= 20\n",
    "print(id(a))\n",
    "print(id(c))"
   ]
  },
  {
   "cell_type": "code",
   "execution_count": 67,
   "id": "b1cc9d42",
   "metadata": {},
   "outputs": [
    {
     "name": "stdout",
     "output_type": "stream",
     "text": [
      "AND gate table = \n",
      "True And True =  True\n",
      "True And False =  False\n",
      "False And True =  False\n",
      "False And False =  False\n",
      "\n",
      "OR gate Table = \n",
      "True Or True =  True\n",
      "True Or False =  True\n",
      "False Or True =  True\n",
      "False Or False =  False\n",
      "\n",
      "NOT gate table \n",
      "True =  False\n",
      "False =  True\n",
      "NAND gate = \n",
      "True nAnd True =  False\n",
      "True nAnd False =  True\n",
      "False nAnd True =  True\n",
      "False nAnd False =  True\n",
      "\n",
      "NOR gate Table = \n",
      "True nOr True =  False\n",
      "True nOr False =  False\n",
      "False nOr True =  False\n",
      "False nOr False =  True\n",
      "\n"
     ]
    }
   ],
   "source": [
    "#logical operators \n",
    "#it includes or,and,not\n",
    "#lets create and table \n",
    "print(\"AND gate table = \")\n",
    "print(\"True And True = \", True and True)\n",
    "print(\"True And False = \", True and False)\n",
    "print(\"False And True = \", False and True)\n",
    "print(\"False And False = \", False and False)\n",
    "print()\n",
    "\n",
    "#lets create or table \n",
    "print(\"OR gate Table = \")\n",
    "print(\"True Or True = \", True or True)\n",
    "print(\"True Or False = \", True or False)\n",
    "print(\"False Or True = \", False or True)\n",
    "print(\"False Or False = \", False or False)\n",
    "print()\n",
    "\n",
    "#lets crete not table \n",
    "print(\"NOT gate table \")\n",
    "print(\"True = \",not True)\n",
    "print(\"False = \",not False)\n",
    "\n",
    "#lets create nand gate \n",
    "print(\"NAND gate = \")\n",
    "print(\"True nAnd True = \", not(True and True))\n",
    "print(\"True nAnd False = \", not(True and False))\n",
    "print(\"False nAnd True = \", not(False and True))\n",
    "print(\"False nAnd False = \", not(False and False))\n",
    "print()\n",
    "\n",
    "#lets create nor gate\n",
    "print(\"NOR gate Table = \")\n",
    "print(\"True nOr True = \", not(True or True))\n",
    "print(\"True nOr False = \", not(True or False))\n",
    "print(\"False nOr True = \", not(False or True))\n",
    "print(\"False nOr False = \", not(False or False))\n",
    "print()"
   ]
  },
  {
   "cell_type": "code",
   "execution_count": 44,
   "id": "65bc6862",
   "metadata": {},
   "outputs": [
    {
     "name": "stdout",
     "output_type": "stream",
     "text": [
      "False\n",
      "True\n"
     ]
    }
   ],
   "source": [
    "#to check member opearator in / not in \n",
    "p = \"japan\"\n",
    "q = \"pan\"\n",
    "r = \"pen\"\n",
    "df = r in p\n",
    "print(df)\n",
    "dg = q in p\n",
    "print(dg)"
   ]
  },
  {
   "cell_type": "code",
   "execution_count": 26,
   "id": "3c5d4a14",
   "metadata": {},
   "outputs": [
    {
     "name": "stdout",
     "output_type": "stream",
     "text": [
      "x= 20 y= 10\n",
      "x= 10 y= 20\n"
     ]
    }
   ],
   "source": [
    "#multiple assignment\n",
    "x ,y = 20,10\n",
    "temp = 0\n",
    "print(\"x=\",x,\"y=\",y)\n",
    "x,y = y,x\n",
    "print(\"x=\",x,\"y=\",y)"
   ]
  },
  {
   "cell_type": "code",
   "execution_count": 77,
   "id": "6fa90160",
   "metadata": {},
   "outputs": [
    {
     "name": "stdout",
     "output_type": "stream",
     "text": [
      "<class 'str'>\n",
      "lets create binary table <hit enter> \n",
      "enter starting of a binary number = 0\n",
      "enter ending of binary number = 18\n",
      "number  0  in binary form =  0b0\n",
      "number  1  in binary form =  0b1\n",
      "number  2  in binary form =  0b10\n",
      "number  3  in binary form =  0b11\n",
      "number  4  in binary form =  0b100\n",
      "number  5  in binary form =  0b101\n",
      "number  6  in binary form =  0b110\n",
      "number  7  in binary form =  0b111\n",
      "number  8  in binary form =  0b1000\n",
      "number  9  in binary form =  0b1001\n",
      "number  10  in binary form =  0b1010\n",
      "number  11  in binary form =  0b1011\n",
      "number  12  in binary form =  0b1100\n",
      "number  13  in binary form =  0b1101\n",
      "number  14  in binary form =  0b1110\n",
      "number  15  in binary form =  0b1111\n",
      "number  16  in binary form =  0b10000\n",
      "number  17  in binary form =  0b10001\n",
      "number  18  in binary form =  0b10010\n"
     ]
    }
   ],
   "source": [
    "#for getting binary number of any number we use bin()\n",
    "gh = bin(12)\n",
    "print(type(gh))\n",
    "\n",
    "#now we create a program that takes from 1 to 20 and convert it into binary number \n",
    "#basically create a binary table from 1 to 20\n",
    "ques = input(\"lets create binary table <hit enter> \")\n",
    "a = int(input(\"enter starting of a binary number = \"))\n",
    "b = int(input(\"enter ending of binary number = \"))\n",
    "for i in range(a,b+1):\n",
    "    print(\"number \",i,\" in binary form = \",bin(i))"
   ]
  },
  {
   "cell_type": "code",
   "execution_count": 47,
   "id": "d0519b0c",
   "metadata": {},
   "outputs": [
    {
     "data": {
      "text/plain": [
       "range(1, 10)"
      ]
     },
     "execution_count": 47,
     "metadata": {},
     "output_type": "execute_result"
    }
   ],
   "source": [
    "#to check range() function\n",
    "range(1,10)"
   ]
  },
  {
   "cell_type": "code",
   "execution_count": 28,
   "id": "1d7e8dc6",
   "metadata": {},
   "outputs": [
    {
     "name": "stdout",
     "output_type": "stream",
     "text": [
      "enter date = 27\n",
      "enter total day of month = 30\n",
      "you have  3 days left.\n"
     ]
    }
   ],
   "source": [
    "date1 = int(input(\"enter date = \"))\n",
    "date2 = int(input(\"enter total day of month = \"))\n",
    "cls = date2-date1\n",
    "print(\"you have \",cls,\"days left.\")"
   ]
  },
  {
   "cell_type": "code",
   "execution_count": 91,
   "id": "b6f687ed",
   "metadata": {},
   "outputs": [
    {
     "name": "stdout",
     "output_type": "stream",
     "text": [
      "square root of number 4 =  2.0\n",
      "smallest integer of 5.7823 =  6\n",
      "convert number 20 in to log base 2 =  4.321928094887363\n",
      "to convert 20 into log base 10 =  1.3010299956639813\n",
      "exponential of 5 to 2 =  25.0\n",
      "convert number into sin =  0.8509035245341184\n",
      "convert number into tan =  1.6197751905438615\n",
      "convert number into cos =  0.5253219888177297\n",
      "conver degree into radian =  0.7853981633974483\n",
      "convert radian into degree =  45.0\n"
     ]
    }
   ],
   "source": [
    "#now we play with math library\n",
    "#first we have to import it \n",
    "import math as mth\n",
    "print(\"square root of number 4 = \",mth.sqrt(4))\n",
    "print(\"smallest integer of 5.7823 = \",mth.ceil(5.7823))\n",
    "print(\"convert number 20 in to log base 2 = \",mth.log(20,2))\n",
    "print(\"to convert 20 into log base 10 = \",mth.log10(20))\n",
    "print(\"exponential of 5 to 2 = \",mth.pow(5,2))\n",
    "print(\"convert number into sin = \",mth.sin(45))\n",
    "print(\"convert number into tan = \",mth.tan(45))\n",
    "print(\"convert number into cos = \",mth.cos(45))\n",
    "\n",
    "print(\"conver degree into radian = \",mth.radians(45))\n",
    "print(\"convert radian into degree = \",mth.degrees(0.7853981633974483))"
   ]
  },
  {
   "cell_type": "code",
   "execution_count": 97,
   "id": "2784463e",
   "metadata": {},
   "outputs": [
    {
     "name": "stdout",
     "output_type": "stream",
     "text": [
      "0.293143891412872\n",
      "39\n",
      "31\n"
     ]
    }
   ],
   "source": [
    "#now we explore random library \n",
    "import random as rnd\n",
    "print(rnd.random())\n",
    "print(rnd.randint(2,100))\n",
    "print(rnd.randrange(15,35))"
   ]
  },
  {
   "cell_type": "code",
   "execution_count": 100,
   "id": "fbe2f6b6",
   "metadata": {},
   "outputs": [
    {
     "name": "stdout",
     "output_type": "stream",
     "text": [
      "sequence =  [2, 5, 8, 1, 7, 2, 8, 1, 9, 4, 8, 4, 6, 2, 7, 4, 0, 2, 5, 8]\n",
      "mean of given sequence =  4.65\n",
      "median of given sequence =  4.5\n",
      "mode of given sequence =  2\n"
     ]
    }
   ],
   "source": [
    "#with statistics library\n",
    "import statistics as sts\n",
    "seq = [2,5,8,1,7,2,8,1,9,4,8,4,6,2,7,4,0,2,5,8]\n",
    "print(\"sequence = \",seq)\n",
    "print(\"mean of given sequence = \",sts.mean(seq))\n",
    "print(\"median of given sequence = \",sts.median(seq))\n",
    "print(\"mode of given sequence = \",sts.mode(seq))"
   ]
  },
  {
   "cell_type": "code",
   "execution_count": 142,
   "id": "1a1579ac",
   "metadata": {},
   "outputs": [
    {
     "name": "stdout",
     "output_type": "stream",
     "text": [
      "enter any 2 digit number = 25\n",
      "in reverse order =  52\n"
     ]
    }
   ],
   "source": [
    "#take a 2 digit number and reverse it eg 25 = 52 \n",
    "numb = int(input(\"enter any 2 digit number = \"))\n",
    "fg = numb//10\n",
    "#print(fg)\n",
    "gf = numb%10\n",
    "#print(gf)\n",
    "a = str(fg)\n",
    "b = str(gf)\n",
    "#print(type(a),type(b))\n",
    "cld = b+a\n",
    "print(\"in reverse order = \",int(cld))"
   ]
  },
  {
   "cell_type": "code",
   "execution_count": 151,
   "id": "516cf4ed",
   "metadata": {},
   "outputs": [
    {
     "name": "stdout",
     "output_type": "stream",
     "text": [
      "enter 3 digit numbers = 123\n",
      "in reverse order =  321\n"
     ]
    }
   ],
   "source": [
    "#take 3 digits number and and print it in reverse oder eg 123 = 321\n",
    "hg = int(input(\"enter 3 digit numbers = \"))\n",
    "a1 = hg//100\n",
    "a2 = hg%100\n",
    "b1 = 23//10\n",
    "b2 = 23%10\n",
    "c1 = str(a1)\n",
    "c2 = str(b1)\n",
    "c3 = str(b2)\n",
    "ca1 = int(c3+c2+c1)\n",
    "print(\"in reverse order = \",ca1)"
   ]
  },
  {
   "cell_type": "markdown",
   "id": "a678eddc",
   "metadata": {},
   "source": [
    "# Condition and Iterative Statements "
   ]
  },
  {
   "cell_type": "markdown",
   "id": "e7cabdcd",
   "metadata": {},
   "source": [
    "if Statement \n",
    "syntax  = \n",
    "if <condition> :\n",
    "    {statement}"
   ]
  },
  {
   "cell_type": "code",
   "execution_count": 4,
   "id": "0ddbb353",
   "metadata": {},
   "outputs": [
    {
     "name": "stdout",
     "output_type": "stream",
     "text": [
      "enter the number = 234\n",
      "the number is greater than 10.\n",
      "the number is greater than 50. \n",
      "--------the program is over-----------\n"
     ]
    }
   ],
   "source": [
    "numb = int(input(\"enter the number = \"))\n",
    "if numb == 0:\n",
    "    print(\"the number is zero. \")\n",
    "if numb >= 10:\n",
    "    print(\"the number is greater than 10.\")\n",
    "if numb >= 50:\n",
    "    print(\"the number is greater than 50. \")\n",
    "print(\"--------the program is over-----------\")"
   ]
  },
  {
   "cell_type": "markdown",
   "id": "d871aa70",
   "metadata": {},
   "source": [
    "If - Else statement"
   ]
  },
  {
   "cell_type": "code",
   "execution_count": 6,
   "id": "d9a2ca9b",
   "metadata": {},
   "outputs": [
    {
     "name": "stdout",
     "output_type": "stream",
     "text": [
      "enter the number = 78\n",
      "the number is greater than 50.\n",
      "-----------the program is over---------.\n"
     ]
    }
   ],
   "source": [
    "numb = int(input(\"enter the number = \"))\n",
    "if numb <=50:\n",
    "    print(\"the number is less than 50.\")\n",
    "else:\n",
    "    print(\"the number is greater than 50.\")\n",
    "print(\"-----------the program is over---------.\")"
   ]
  },
  {
   "cell_type": "markdown",
   "id": "8006699b",
   "metadata": {},
   "source": [
    "question 1) take three number and print maximum number using if statement "
   ]
  },
  {
   "cell_type": "code",
   "execution_count": 9,
   "id": "89f4291f",
   "metadata": {},
   "outputs": [
    {
     "name": "stdout",
     "output_type": "stream",
     "text": [
      "enter first number = 2\n",
      "enter second number = 4\n",
      "enter third number = 3\n",
      "4\n"
     ]
    }
   ],
   "source": [
    "a = int(input(\"enter first number = \"))\n",
    "b = int(input(\"enter second number = \"))\n",
    "c = int(input(\"enter third number = \"))\n",
    "\n",
    "maxm = a \n",
    "if b>maxm:\n",
    "    maxm = b\n",
    "    \n",
    "if c>maxm:\n",
    "    maxm = c\n",
    "    \n",
    "print(maxm)"
   ]
  },
  {
   "cell_type": "markdown",
   "id": "06263125",
   "metadata": {},
   "source": [
    "question2) takes 3 number and show 2 sum , sum1 = sum of all number , sum2 = sum of non duplicate number  "
   ]
  },
  {
   "cell_type": "code",
   "execution_count": 28,
   "id": "37edfb04",
   "metadata": {},
   "outputs": [
    {
     "name": "stdout",
     "output_type": "stream",
     "text": [
      "enter first number = 3\n",
      "enter second number = 4\n",
      "enter third number = 4\n",
      "sum1 =  11\n",
      "sum2 =  3\n"
     ]
    }
   ],
   "source": [
    "a = int(input(\"enter first number = \"))\n",
    "b = int(input(\"enter second number = \"))\n",
    "c = int(input(\"enter third number = \"))\n",
    "sum1 = sum2 = 0\n",
    "sum1 = a+b+c \n",
    "\n",
    "if a!=b and a!=c:\n",
    "    sum2+=a\n",
    "if b!=a and b!=c:\n",
    "    sum2+=b\n",
    "    \n",
    "if c!=a and c!=b:\n",
    "    sum2+c\n",
    "\n",
    "    \n",
    "print(\"sum1 = \",sum1)\n",
    "print(\"sum2 = \",sum2)"
   ]
  },
  {
   "cell_type": "markdown",
   "id": "e5392569",
   "metadata": {},
   "source": [
    "If-Elif-Else statement"
   ]
  },
  {
   "cell_type": "code",
   "execution_count": 36,
   "id": "5e298edf",
   "metadata": {},
   "outputs": [
    {
     "name": "stdout",
     "output_type": "stream",
     "text": [
      "enter first number = 2\n",
      "enter second number = 3\n",
      "select the operator [+,-,X,/,//,^,%]=)\n",
      "wrong input please insert valid operators\n",
      "result =  0\n",
      "program ends.\n"
     ]
    }
   ],
   "source": [
    "#lets create a simple calculator \n",
    "num1 = float(input(\"enter first number = \"))\n",
    "num2  = float(input(\"enter second number = \"))\n",
    "op = input(\"select the operator [+,-,X,/,//,^,%]=\")\n",
    "result = 0\n",
    "if op == '+':\n",
    "    print(\"so you choose addition.\")\n",
    "    result = num1+num2\n",
    "elif op == '-':\n",
    "    print(\"so you choose subtraction.\")\n",
    "    result = num1-num2\n",
    "elif op =='X':\n",
    "    print(\"so you choose multiplication.\")\n",
    "    result = num1*num2\n",
    "elif op =='/':\n",
    "    print(\"so you choose division.\")\n",
    "    result = num1/num2\n",
    "elif op =='//':\n",
    "    print(\"so you choose floor division.\")\n",
    "    result = num1//num2\n",
    "elif op =='^':\n",
    "    print(\"so you choose exponential.\")\n",
    "    result = num1**num2\n",
    "elif op =='%':\n",
    "    print(\"so you choose modules[remainder].\")\n",
    "    result = num1%num2\n",
    "else:\n",
    "    print(\"wrong input please insert valid operators\")\n",
    "print(\"result = \",result)\n",
    "print(\"program ends.\")"
   ]
  },
  {
   "cell_type": "markdown",
   "id": "31c4e657",
   "metadata": {},
   "source": [
    "question3) Take three number and compare all three number and print the number in sequence manner  "
   ]
  },
  {
   "cell_type": "code",
   "execution_count": 41,
   "id": "24212ec1",
   "metadata": {},
   "outputs": [
    {
     "name": "stdout",
     "output_type": "stream",
     "text": [
      "enter first number = 189\n",
      "enter second number = 192\n",
      "enter third number = 134\n",
      "the sequence of a number are  =  192 >> 189 >> 134\n"
     ]
    }
   ],
   "source": [
    "#for this we use nested condition\n",
    "a = int(input(\"enter first number = \"))\n",
    "b = int(input(\"enter second number = \"))\n",
    "c = int(input(\"enter third number = \"))\n",
    "\n",
    "if a>b:\n",
    "    max1 = a\n",
    "    if b>c:\n",
    "        max2 = b\n",
    "        max3 = c\n",
    "    else:\n",
    "        max2 = c\n",
    "        max3 = b\n",
    "if b>c:\n",
    "    max1 = b\n",
    "    if a>c:\n",
    "        max2 = a\n",
    "        max3 = c\n",
    "    else:\n",
    "        max2 = c\n",
    "        max3 = a\n",
    "        \n",
    "if c>a:\n",
    "    max1 = c\n",
    "    if a>b:\n",
    "        max2 = a\n",
    "        max3 = b\n",
    "    else:\n",
    "        max2 = b\n",
    "        max3 = a\n",
    "        \n",
    "print(\"the sequence of a number are  = \", max1,\">>\",max2,\">>\",max3)"
   ]
  },
  {
   "cell_type": "markdown",
   "id": "2324d0a1",
   "metadata": {},
   "source": [
    "# Loop "
   ]
  },
  {
   "cell_type": "markdown",
   "id": "ef71395b",
   "metadata": {},
   "source": [
    "There are two types of loop that is for and while , for loop is used for counting loop that repeat at certain time , while loop is use for conditional loop if condition  is true then loop occurs  "
   ]
  },
  {
   "cell_type": "code",
   "execution_count": 48,
   "id": "51ad2ec7",
   "metadata": {},
   "outputs": [
    {
     "name": "stdout",
     "output_type": "stream",
     "text": [
      "1\n",
      "2\n",
      "3\n",
      "4\n",
      "5\n",
      "6\n",
      "7\n",
      "8\n",
      "9\n"
     ]
    }
   ],
   "source": [
    "#for loop \n",
    "for i in range(1,10):\n",
    "    print(i)"
   ]
  },
  {
   "cell_type": "code",
   "execution_count": 51,
   "id": "1356a6d5",
   "metadata": {},
   "outputs": [
    {
     "name": "stdout",
     "output_type": "stream",
     "text": [
      "0\n",
      "1\n",
      "2\n",
      "3\n",
      "4\n",
      "5\n",
      "6\n",
      "7\n",
      "8\n",
      "9\n",
      "10\n"
     ]
    }
   ],
   "source": [
    "i = 0\n",
    "while i<=10:\n",
    "    \n",
    "    print(i)\n",
    "    i+=1"
   ]
  },
  {
   "cell_type": "code",
   "execution_count": 57,
   "id": "05ce300d",
   "metadata": {},
   "outputs": [
    {
     "name": "stdout",
     "output_type": "stream",
     "text": [
      "1 1\n",
      "2 3\n",
      "3 6\n",
      "4 10\n",
      "5 15\n",
      "6 21\n",
      "7 28\n",
      "8 36\n",
      "9 45\n",
      "sum of all 9 natural numbers are =  45\n"
     ]
    }
   ],
   "source": [
    "#print sum of natural number \n",
    "sum = 0\n",
    "for i in range(1,10):\n",
    "    sum += i\n",
    "    print(i,sum)\n",
    "print(\"sum of all 9 natural numbers are = \",sum)"
   ]
  },
  {
   "cell_type": "code",
   "execution_count": 103,
   "id": "c69e3b56",
   "metadata": {},
   "outputs": [
    {
     "name": "stdout",
     "output_type": "stream",
     "text": [
      "enter first number of range = 1\n",
      "enter last number of range = 100\n",
      "sum of odd number in given range of  1 to 100 is =  2500\n",
      "sum of even number in given range of  1 to 100 is =  2550\n"
     ]
    }
   ],
   "source": [
    "#print sum of odd numbers occurs between 2 numbers \n",
    "a = int(input(\"enter first number of range = \"))\n",
    "b = int(input(\"enter last number of range = \"))\n",
    "num = 0\n",
    "add = 0\n",
    "add2 = 0\n",
    "for i in range(a,b+1):\n",
    "    num = i%2!=0\n",
    "    if num == True:\n",
    "        #print(i)\n",
    "        add+=i\n",
    "\n",
    "    num2 = i%2==0\n",
    "    if num2 == True:\n",
    "        #print(i)\n",
    "        add2+=i\n",
    "print(\"sum of odd number in given range of \",a,\"to\",b,\"is = \",add)\n",
    "print(\"sum of even number in given range of \",a,\"to\",b,\"is = \",add2)   "
   ]
  },
  {
   "cell_type": "code",
   "execution_count": 102,
   "id": "9b322044",
   "metadata": {},
   "outputs": [
    {
     "name": "stdout",
     "output_type": "stream",
     "text": [
      "sum of natural number from 1 to 100 is  5050\n"
     ]
    }
   ],
   "source": [
    "#to print sum of natural number from 1 to 100\n",
    "adds = 0\n",
    "for i in range(1,101):\n",
    "    adds+=i\n",
    "print(\"sum of natural number from 1 to 100 is \",adds)"
   ]
  },
  {
   "cell_type": "code",
   "execution_count": 95,
   "id": "4b349349",
   "metadata": {},
   "outputs": [
    {
     "name": "stdout",
     "output_type": "stream",
     "text": [
      "Enter any number = 6\n",
      "factorial of a number =  720\n"
     ]
    }
   ],
   "source": [
    "#to calculate factorial of a given number \n",
    "numbv = int(input(\"Enter any number = \"))\n",
    "fact = 1\n",
    "a = 1 \n",
    "while a <=numbv:\n",
    "    fact*=a\n",
    "    a+=1\n",
    "print(\"factorial of a number = \",fact)"
   ]
  },
  {
   "cell_type": "code",
   "execution_count": 101,
   "id": "11497d86",
   "metadata": {},
   "outputs": [
    {
     "name": "stdout",
     "output_type": "stream",
     "text": [
      "enter a n number = 100\n",
      "sum of even natural number =  2550\n",
      "sum of odd natural number =  2500\n",
      "total number =  5050\n"
     ]
    }
   ],
   "source": [
    "#to calculate sum of n natural number of odd and even \n",
    "\n",
    "a= int(input(\"enter a n number = \"))\n",
    "a1 = 1\n",
    "sume=sumo = 0\n",
    "while a1<=a:\n",
    "    if a1%2==0:\n",
    "        sume+=a1\n",
    "    else:\n",
    "        sumo+=a1\n",
    "    a1+=1\n",
    "print(\"sum of even natural number = \",sume)\n",
    "print(\"sum of odd natural number = \",sumo)\n",
    "print(\"total number = \",sume+sumo)"
   ]
  },
  {
   "cell_type": "markdown",
   "id": "a543ca9e",
   "metadata": {},
   "source": [
    "Break and Continue "
   ]
  },
  {
   "cell_type": "code",
   "execution_count": 105,
   "id": "e20430a2",
   "metadata": {},
   "outputs": [
    {
     "name": "stdout",
     "output_type": "stream",
     "text": [
      "1\n",
      "2\n",
      "3\n",
      "4\n",
      "5\n",
      "6\n",
      "7\n",
      "8\n",
      "9\n",
      "10\n",
      "11\n",
      "12\n",
      "13\n",
      "14\n",
      "15\n",
      "16\n",
      "17\n",
      "18\n",
      "19\n",
      "20\n",
      "21\n",
      "22\n",
      "23\n",
      "24\n",
      "25\n",
      "loop ends \n"
     ]
    }
   ],
   "source": [
    "for i in range(1,100):\n",
    "    print(i)\n",
    "    if i == 25:\n",
    "        break\n",
    "print(\"loop ends \")"
   ]
  },
  {
   "cell_type": "code",
   "execution_count": 126,
   "id": "7b8622d0",
   "metadata": {},
   "outputs": [
    {
     "name": "stdout",
     "output_type": "stream",
     "text": [
      "1\n",
      "2\n",
      "3\n",
      "4\n",
      "5\n",
      "6\n",
      "7\n",
      "8\n",
      "9\n",
      "10\n",
      "11\n",
      "12\n",
      "13\n",
      "14\n",
      "16\n",
      "17\n",
      "18\n",
      "19\n",
      "20\n",
      "21\n",
      "22\n",
      "loop ends \n"
     ]
    }
   ],
   "source": [
    "for i in range(1,23):\n",
    "    \n",
    "    if i%15 == 0:\n",
    "        continue\n",
    "    else:\n",
    "        print(i)\n",
    "print(\"loop ends \")"
   ]
  },
  {
   "cell_type": "code",
   "execution_count": 123,
   "id": "af189975",
   "metadata": {},
   "outputs": [
    {
     "name": "stdout",
     "output_type": "stream",
     "text": [
      "welcome to guess the number game you have to guess a number \n",
      "\n",
      "you have to given 10 points if you guess wrong number then it decreses to 2 \n",
      "\n",
      "if your rank become zero you loose else you win the game with rank of 200!!\n",
      "Good Luck!!\n",
      "guess a number = 3\n",
      "rank =  8\n",
      "guess a number = 12\n",
      "rank =  6\n",
      "guess a number = 23\n",
      "rank =  4\n",
      "guess a number = 45\n",
      "rank =  2\n",
      "guess a number = 12\n",
      "rank =  0\n",
      "you loose try again\n",
      "the number is  24\n"
     ]
    }
   ],
   "source": [
    "import random as rnd\n",
    "print(\"welcome to guess the number game you have to guess a number \")\n",
    "print(\"\\nyou have to given 10 points if you guess wrong number then it decreses to 2 \")\n",
    "print(\"\\nif your rank become zero you loose else you win the game with rank of 200!!\")\n",
    "print(\"Good Luck!!\")\n",
    "number = rnd.randint(1,50)\n",
    "ctr = 0\n",
    "count = 10\n",
    "\n",
    "while ctr<5:\n",
    "    guess = int(input(\"guess a number = \"))\n",
    "    if guess == number:\n",
    "        print(\"you win !!!\")\n",
    "        count*=20\n",
    "        print(\"rank = \",count)\n",
    "        break\n",
    "    else:\n",
    "        ctr+=1\n",
    "        count-=2\n",
    "        print(\"rank = \",count)\n",
    "        \n",
    "if not ctr<5:\n",
    "    print(\"you loose try again\")\n",
    "    print( \"the number is \",number)\n",
    "  "
   ]
  },
  {
   "cell_type": "code",
   "execution_count": 133,
   "id": "33295e46",
   "metadata": {},
   "outputs": [
    {
     "name": "stdout",
     "output_type": "stream",
     "text": [
      "do you want see magic [y/n] = y\n",
      "MAGIC\n",
      "do you want see magic [y/n] = y\n",
      "MAGIC\n",
      "do you want see magic [y/n] = y\n",
      "MAGIC\n",
      "do you want see magic [y/n] = y\n",
      "MAGIC\n",
      "do you want see magic [y/n] = n\n",
      "good bye \n"
     ]
    }
   ],
   "source": [
    "#basic yes no loop \n",
    "while True:\n",
    "    ques = input(\"do you want see magic [y/n] = \")\n",
    "    if ques == 'y':\n",
    "        while True:\n",
    "            print(\"MAGIC\")\n",
    "            break\n",
    "    elif ques == 'n':\n",
    "        print(\"good bye \")\n",
    "        break\n",
    "    else:\n",
    "        print(\"wrong input\")"
   ]
  },
  {
   "cell_type": "markdown",
   "id": "6b3e9ab8",
   "metadata": {},
   "source": [
    "Nested loop [loop inside a loop]"
   ]
  },
  {
   "cell_type": "code",
   "execution_count": 178,
   "id": "7188095a",
   "metadata": {},
   "outputs": [
    {
     "name": "stdout",
     "output_type": "stream",
     "text": [
      "\n",
      "1\n",
      "12\n",
      "123\n",
      "1234\n",
      "12345\n",
      "123456\n",
      "8765432\n",
      "876543\n",
      "87654\n",
      "8765\n",
      "876\n",
      "87\n",
      "8\n"
     ]
    }
   ],
   "source": [
    "for i in range(1,8):\n",
    "    for j in range(1,i):\n",
    "        print(j,end='')\n",
    "    print()\n",
    "    \n",
    "for a in range(1,8):\n",
    "    for b in range(8,a,-1):\n",
    "        print(b,end=\"\")\n",
    "    print()\n"
   ]
  },
  {
   "cell_type": "code",
   "execution_count": 208,
   "id": "c64e1ceb",
   "metadata": {},
   "outputs": [
    {
     "name": "stdout",
     "output_type": "stream",
     "text": [
      "20 averaege\n",
      "49 averaege\n",
      "58 good\n",
      "78 good\n",
      "12 averaege\n",
      "73 good\n",
      "16 averaege\n",
      "71 good\n",
      "52 good\n",
      "56 good\n",
      "47 averaege\n",
      "49 averaege\n",
      "53 good\n",
      "78 good\n",
      "48 averaege\n",
      "30 averaege\n",
      "1 averaege\n",
      "24 averaege\n",
      "5 averaege\n",
      "46 averaege\n",
      "19 averaege\n",
      "32 averaege\n",
      "28 averaege\n",
      "42 averaege\n",
      "10 averaege\n",
      "38 averaege\n",
      "68 good\n",
      "37 averaege\n",
      "20 averaege\n",
      "7 averaege\n",
      "3 averaege\n",
      "73 good\n",
      "16 averaege\n",
      "69 good\n",
      "71 good\n",
      "73 good\n",
      "41 averaege\n",
      "52 good\n",
      "43 averaege\n",
      "53 good\n",
      "6 averaege\n",
      "33 averaege\n",
      "41 averaege\n",
      "76 good\n",
      "69 good\n",
      "77 good\n",
      "72 good\n",
      "33 averaege\n",
      "37 averaege\n",
      "36 averaege\n",
      "75 good\n",
      "28 averaege\n",
      "63 good\n",
      "53 good\n",
      "42 averaege\n",
      "32 averaege\n",
      "76 good\n",
      "79 good\n",
      "76 good\n",
      "63 good\n",
      "70 good\n",
      "45 averaege\n",
      "14 averaege\n",
      "79 good\n",
      "8 averaege\n",
      "3 averaege\n",
      "55 good\n",
      "68 good\n",
      "9 averaege\n",
      "46 averaege\n",
      "3 averaege\n",
      "51 good\n",
      "62 good\n",
      "36 averaege\n",
      "39 averaege\n",
      "77 good\n",
      "70 good\n",
      "33 averaege\n",
      "79 good\n",
      "10 averaege\n",
      "69 good\n",
      "18 averaege\n",
      "46 averaege\n",
      "22 averaege\n",
      "78 good\n",
      "46 averaege\n",
      "56 good\n",
      "10 averaege\n",
      "45 averaege\n",
      "45 averaege\n",
      "1 averaege\n",
      "44 averaege\n",
      "10 averaege\n",
      "43 averaege\n",
      "2 averaege\n",
      "5 averaege\n",
      "46 averaege\n",
      "5 averaege\n",
      "40 averaege\n",
      "27 averaege\n",
      "number of average people =  62\n",
      "number of good people =  38\n",
      "total =  100\n",
      "percentage of average number =  62.0\n",
      "percentage of good number =  38.0\n"
     ]
    }
   ],
   "source": [
    "countg = 0\n",
    "counta = 0\n",
    "import random\n",
    "for i in range(1,101):\n",
    "    result = int(random.randrange(1,80))\n",
    "    if result <=50:\n",
    "        counta+=1\n",
    "        print(result,\"averaege\")\n",
    "    \n",
    "    if result >=50:\n",
    "        countg+=1\n",
    "        print(result,\"good\")\n",
    "        \n",
    "print(\"number of average people = \",counta)\n",
    "print(\"number of good people = \",countg)\n",
    "total = counta+countg\n",
    "print(\"total = \",total)\n",
    "percenta = (counta/total)*100\n",
    "print(\"percentage of average number = \",percenta)\n",
    "\n",
    "percentg = (countg/total)*100\n",
    "print(\"percentage of good number = \",percentg)"
   ]
  },
  {
   "cell_type": "code",
   "execution_count": 179,
   "id": "894a7720",
   "metadata": {},
   "outputs": [
    {
     "name": "stdout",
     "output_type": "stream",
     "text": [
      "enter weight in kg=65\n",
      "enter height in m=1.63\n",
      "BMI =  24.46460160337235\n",
      "Normal..............\n"
     ]
    }
   ],
   "source": [
    "#a simple bmi calculator \n",
    "weight = float(input(\"enter weight in kg=\"))\n",
    "height = float(input(\"enter height in m=\"))\n",
    "\n",
    "bmi = weight/(height**2)\n",
    "print(\"BMI = \",bmi)\n",
    "if bmi<18.5:\n",
    "    print(\"underweight.........\")\n",
    "elif bmi < 25:\n",
    "    print(\"Normal..............\")\n",
    "elif bmi < 29:\n",
    "    print(\"overweight..........\")\n",
    "else:\n",
    "    print(\"obese...............\")"
   ]
  },
  {
   "cell_type": "code",
   "execution_count": 185,
   "id": "9ae078cc",
   "metadata": {},
   "outputs": [
    {
     "name": "stdout",
     "output_type": "stream",
     "text": [
      "write temparature in celsius or in fahrenheit =  \n",
      "choose 1 for convert temperature from celsius into fahrenheit or 2 for vise versa = 1\n",
      "----------from celsius to fahrenheit-------\n",
      "\n",
      "enter a temperature in celsius = 25\n"
     ]
    },
    {
     "ename": "TypeError",
     "evalue": "can't multiply sequence by non-int of type 'float'",
     "output_type": "error",
     "traceback": [
      "\u001b[1;31m---------------------------------------------------------------------------\u001b[0m",
      "\u001b[1;31mTypeError\u001b[0m                                 Traceback (most recent call last)",
      "Input \u001b[1;32mIn [185]\u001b[0m, in \u001b[0;36m<cell line: 4>\u001b[1;34m()\u001b[0m\n\u001b[0;32m      6\u001b[0m \u001b[38;5;28mprint\u001b[39m()\n\u001b[0;32m      7\u001b[0m temp1 \u001b[38;5;241m=\u001b[39m \u001b[38;5;28minput\u001b[39m(\u001b[38;5;124m\"\u001b[39m\u001b[38;5;124menter a temperature in celsius = \u001b[39m\u001b[38;5;124m\"\u001b[39m)\n\u001b[1;32m----> 8\u001b[0m fah \u001b[38;5;241m=\u001b[39m (\u001b[43m(\u001b[49m\u001b[38;5;241;43m9\u001b[39;49m\u001b[38;5;241;43m/\u001b[39;49m\u001b[38;5;241;43m5\u001b[39;49m\u001b[43m)\u001b[49m\u001b[38;5;241;43m*\u001b[39;49m\u001b[43mtemp1\u001b[49m)\u001b[38;5;241m+\u001b[39m\u001b[38;5;241m32\u001b[39m\n\u001b[0;32m      9\u001b[0m \u001b[38;5;28mprint\u001b[39m(\u001b[38;5;124m\"\u001b[39m\u001b[38;5;124mtemperature in fahrenheit is = \u001b[39m\u001b[38;5;124m\"\u001b[39m,fah)\n",
      "\u001b[1;31mTypeError\u001b[0m: can't multiply sequence by non-int of type 'float'"
     ]
    }
   ],
   "source": [
    "#temperature converter \n",
    "print(\"write temparature in celsius or in fahrenheit =  \")\n",
    "df = input(\"choose 1 for convert temperature from celsius into fahrenheit or 2 for vise versa = \")\n",
    "if df == '1':\n",
    "    print(\"----------from celsius to fahrenheit-------\")\n",
    "    print()\n",
    "    temp1 = input(\"enter a temperature in celsius = \")\n",
    "    fah = ((9/5)*temp1)+32\n",
    "    print(\"temperature in fahrenheit is = \",fah)\n",
    "  "
   ]
  },
  {
   "cell_type": "code",
   "execution_count": 198,
   "id": "2fa75d30",
   "metadata": {},
   "outputs": [
    {
     "name": "stdout",
     "output_type": "stream",
     "text": [
      "date = 28/Thursday/September/2023\n",
      "time = 11:39:05\n"
     ]
    }
   ],
   "source": [
    "import datetime\n",
    "a = datetime.datetime.now()\n",
    "b = a.strftime(\"date = %d/%A/%B/%Y\")\n",
    "c = a.strftime(\"time = %I:%M:%S\")\n",
    "print(b)\n",
    "print(c)"
   ]
  },
  {
   "cell_type": "code",
   "execution_count": 40,
   "id": "3ca38077",
   "metadata": {},
   "outputs": [
    {
     "name": "stdout",
     "output_type": "stream",
     "text": [
      "hello im programmer \n",
      " ghj \n",
      "hello im programmer \t ghj \n"
     ]
    }
   ],
   "source": [
    "print(\"hello im programmer \\n ghj \")\n",
    "print(\"hello im programmer \\t ghj \")"
   ]
  },
  {
   "cell_type": "code",
   "execution_count": null,
   "id": "6e6f1876",
   "metadata": {},
   "outputs": [],
   "source": []
  }
 ],
 "metadata": {
  "kernelspec": {
   "display_name": "Python 3 (ipykernel)",
   "language": "python",
   "name": "python3"
  },
  "language_info": {
   "codemirror_mode": {
    "name": "ipython",
    "version": 3
   },
   "file_extension": ".py",
   "mimetype": "text/x-python",
   "name": "python",
   "nbconvert_exporter": "python",
   "pygments_lexer": "ipython3",
   "version": "3.9.12"
  }
 },
 "nbformat": 4,
 "nbformat_minor": 5
}
