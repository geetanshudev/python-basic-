{
 "cells": [
  {
   "cell_type": "code",
   "execution_count": 1,
   "id": "a8de51bb",
   "metadata": {},
   "outputs": [
    {
     "name": "stdout",
     "output_type": "stream",
     "text": [
      "50\n",
      "<class 'int'>\n"
     ]
    }
   ],
   "source": [
    "#built in class \n",
    "a = 50 \n",
    "print(a)\n",
    "print(type(a))"
   ]
  },
  {
   "cell_type": "code",
   "execution_count": 3,
   "id": "3c1f6a76",
   "metadata": {},
   "outputs": [
    {
     "name": "stdout",
     "output_type": "stream",
     "text": [
      "python\n",
      "coder\n"
     ]
    }
   ],
   "source": [
    "#basic structure \n",
    "class w:   #class \n",
    "    x = \"python\"\n",
    "    y = \"coder\"\n",
    "    \n",
    "obj = w() #object\n",
    "print(obj.x)\n",
    "print(obj.y)"
   ]
  },
  {
   "cell_type": "code",
   "execution_count": 4,
   "id": "528a30ac",
   "metadata": {},
   "outputs": [
    {
     "name": "stdout",
     "output_type": "stream",
     "text": [
      "enter name = rahul\n",
      "enter roll number = 23456\n",
      "enter your marks = 67\n",
      "Name: rahul\n",
      "Roll no: 23456\n",
      "Marks: 67\n"
     ]
    }
   ],
   "source": [
    "class student:\n",
    "    def setdata(self):\n",
    "        self.name=input(\"enter name = \")\n",
    "        self.roll=input(\"enter roll number = \")\n",
    "        self.marks=input(\"enter your marks = \")\n",
    "    def show(self):\n",
    "        print(\"Name:\",self.name)\n",
    "        print(\"Roll no:\",self.roll)\n",
    "        print(\"Marks:\",self.marks)\n",
    "        \n",
    "a = student() #calling class\n",
    "a.setdata()\n",
    "a.show()"
   ]
  },
  {
   "cell_type": "code",
   "execution_count": 9,
   "id": "66efe696",
   "metadata": {},
   "outputs": [
    {
     "name": "stdout",
     "output_type": "stream",
     "text": [
      "enter name=udit\n",
      "enter branch = electronics\n",
      "enter age = 34\n",
      "name= udit\n",
      "branch= electronics\n",
      "age= 34\n"
     ]
    }
   ],
   "source": [
    "#constructor \n",
    "#made by __init__(self):\n",
    "#we should not need to call when object is created \n",
    "#contructor are two type 1) paramaterized and 2) non-paramaterized\n",
    "class faculty:\n",
    "    def __init__(i):\n",
    "        i.name=input(\"enter name=\")\n",
    "        i.branch=input(\"enter branch = \")\n",
    "        i.age=int(input(\"enter age = \"))\n",
    "    def show(i):\n",
    "        print(\"name=\",i.name)\n",
    "        print(\"branch=\",i.branch)\n",
    "        print(\"age=\",i.age)\n",
    "        \n",
    "s=faculty()\n",
    "\n",
    "s.show()\n"
   ]
  },
  {
   "cell_type": "code",
   "execution_count": 10,
   "id": "6dd254fd",
   "metadata": {},
   "outputs": [
    {
     "name": "stdout",
     "output_type": "stream",
     "text": [
      "name= tommy\n",
      "breed= husky\n"
     ]
    }
   ],
   "source": [
    "#paramaterized constructor\n",
    "class dog:\n",
    "    def __init__(r,x,y):\n",
    "        r.name=x\n",
    "        r.breed=y\n",
    "    def show(o):\n",
    "        print(\"name=\",o.name)\n",
    "        print(\"breed=\",o.breed)\n",
    "g=dog(\"tommy\",\"husky\")\n",
    "g.show()"
   ]
  },
  {
   "cell_type": "markdown",
   "id": "79ac209e",
   "metadata": {},
   "source": [
    "# data hiding\n"
   ]
  },
  {
   "cell_type": "code",
   "execution_count": 17,
   "id": "ae7435ad",
   "metadata": {},
   "outputs": [
    {
     "name": "stdout",
     "output_type": "stream",
     "text": [
      "30\n"
     ]
    },
    {
     "data": {
      "text/plain": [
       "10"
      ]
     },
     "execution_count": 17,
     "metadata": {},
     "output_type": "execute_result"
    }
   ],
   "source": [
    "#we can hide data by write __ before variable name to make it private for accessing we have to call it with class name\n",
    "class Myclass:\n",
    "    __num=10 #private variable\n",
    "    def add(self,a):\n",
    "        sum = self.__num+a\n",
    "        print(sum)\n",
    "obj = Myclass()\n",
    "obj.add(20)\n",
    "obj._Myclass__num #acessing private variable in object"
   ]
  },
  {
   "cell_type": "code",
   "execution_count": 22,
   "id": "d7645eec",
   "metadata": {},
   "outputs": [
    {
     "name": "stdout",
     "output_type": "stream",
     "text": [
      "you see me \n",
      "you never see me\n"
     ]
    }
   ],
   "source": [
    "#we can also hide method\n",
    "class sent:\n",
    "    def seeme(d):\n",
    "        d.vae=\"you see me \"\n",
    "        print(d.vae)\n",
    "    def __neverme(e):\n",
    "        e.vaa=\"you never see me\"\n",
    "        print(e.vaa)\n",
    "        \n",
    "obj = sent()\n",
    "obj.seeme()#public variable\n",
    "obj._sent__neverme()#private varib\n",
    "    "
   ]
  },
  {
   "cell_type": "markdown",
   "id": "1842b4bf",
   "metadata": {},
   "source": [
    "# Inheritance"
   ]
  },
  {
   "cell_type": "code",
   "execution_count": 23,
   "id": "d4059ed6",
   "metadata": {},
   "outputs": [
    {
     "name": "stdout",
     "output_type": "stream",
     "text": [
      "sum of two number =  30\n",
      "difference of two number is =  20\n"
     ]
    }
   ],
   "source": [
    "class num1:#parent class\n",
    "    c=10\n",
    "    d=20\n",
    "    def sum(d):\n",
    "        r=d.c+d.d\n",
    "        print(\"sum of two number = \",r)\n",
    "        \n",
    "class num2(num1): #child class which takes character from parents class\n",
    "    w=30\n",
    "    t=10\n",
    "    def diff(g):\n",
    "        e=g.w-g.t\n",
    "        print(\"difference of two number is = \",e)\n",
    "        \n",
    "        \n",
    "obj = num2()\n",
    "obj.sum()\n",
    "obj.diff()"
   ]
  },
  {
   "cell_type": "code",
   "execution_count": 32,
   "id": "d99e4e12",
   "metadata": {},
   "outputs": [
    {
     "name": "stdout",
     "output_type": "stream",
     "text": [
      "branch= ds\n",
      "subject= computer network\n"
     ]
    },
    {
     "data": {
      "text/plain": [
       "<bound method parent.display of <__main__.child object at 0x000001C0C3E211C0>>"
      ]
     },
     "execution_count": 32,
     "metadata": {},
     "output_type": "execute_result"
    }
   ],
   "source": [
    "#in constructor\n",
    "class parent:\n",
    "    def __init__(f,name,age):\n",
    "        f.name=name\n",
    "        f.age=age\n",
    "    def display(f):\n",
    "        print(\"name = \",f.name)\n",
    "        print(\"age=\",f.age)\n",
    "\n",
    "        \n",
    "class child(parent):\n",
    "    def __init__(e,name,age,branch,subject):\n",
    "        e.branch=branch\n",
    "        e.subject=subject\n",
    "    \n",
    "    \n",
    "        print(\"branch=\",e.branch)\n",
    "        print(\"subject=\",e.subject)\n",
    "        \n",
    "        parent.__init__(e,name,age)\n",
    "        \n",
    "        \n",
    "obj = child(\"ramesh\",\"45\",\"ds\",\"computer network\")\n",
    "obj.display"
   ]
  },
  {
   "cell_type": "code",
   "execution_count": null,
   "id": "38d8e2fc",
   "metadata": {},
   "outputs": [],
   "source": []
  }
 ],
 "metadata": {
  "kernelspec": {
   "display_name": "Python 3 (ipykernel)",
   "language": "python",
   "name": "python3"
  },
  "language_info": {
   "codemirror_mode": {
    "name": "ipython",
    "version": 3
   },
   "file_extension": ".py",
   "mimetype": "text/x-python",
   "name": "python",
   "nbconvert_exporter": "python",
   "pygments_lexer": "ipython3",
   "version": "3.9.12"
  }
 },
 "nbformat": 4,
 "nbformat_minor": 5
}
