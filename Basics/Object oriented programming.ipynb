{
 "cells": [
  {
   "cell_type": "markdown",
   "id": "388cd4b2",
   "metadata": {},
   "source": [
    "# Object-Oriented Programming "
   ]
  },
  {
   "cell_type": "code",
   "execution_count": 1,
   "id": "2f7abe53",
   "metadata": {},
   "outputs": [],
   "source": [
    "#basic component is class and object\n",
    "#class it is a blueprint/prototype that binds object data member and member function\n",
    "#object is entity having attribute and behaviour"
   ]
  },
  {
   "cell_type": "code",
   "execution_count": 2,
   "id": "844e1bb5",
   "metadata": {},
   "outputs": [],
   "source": [
    "#for creating class we have to use keyword class \n",
    "#for object we use dot operator"
   ]
  },
  {
   "cell_type": "code",
   "execution_count": 4,
   "id": "e0b3c1b8",
   "metadata": {},
   "outputs": [
    {
     "name": "stdout",
     "output_type": "stream",
     "text": [
      "enter your name = Ram Lakhan\n",
      "enter your roll number = 234567\n",
      "enter your branch = mechanicl \n",
      "student name =  Ram Lakhan\n",
      "student roll number =  234567\n",
      "student barnch =  mechanicl \n"
     ]
    }
   ],
   "source": [
    "#now we create basics object class based program in which we takes detail of student\n",
    "\n",
    "class Student:\n",
    "    def setdata(self):\n",
    "        self.name = input(\"enter your name = \")\n",
    "        self.roll = input(\"enter your roll number = \")\n",
    "        self.branch = input(\"enter your branch = \")\n",
    "    def setput(self):\n",
    "        print(\"student name = \",self.name)\n",
    "        print(\"student roll number = \",self.roll)\n",
    "        print(\"student barnch = \",self.branch)\n",
    "        \n",
    "q = Student()\n",
    "q.setdata()\n",
    "q.setput()"
   ]
  },
  {
   "cell_type": "code",
   "execution_count": 5,
   "id": "922557d7",
   "metadata": {},
   "outputs": [],
   "source": [
    "#constructors = it is a function which call itself\n",
    "#it can be initialise by __inint__(self):\n",
    "#there are three types of constructor\n",
    "#1>Non-Paramaterized constructor\n",
    "#2>Paramaterized constructor\n",
    "#3>Default constructor"
   ]
  },
  {
   "cell_type": "code",
   "execution_count": 6,
   "id": "aed73381",
   "metadata": {},
   "outputs": [
    {
     "name": "stdout",
     "output_type": "stream",
     "text": [
      "enter name of employee = gurpreet\n",
      "enter department of employee = accountants\n",
      "name =  gurpreet\n",
      "department =  accountants\n"
     ]
    }
   ],
   "source": [
    "#non-paramaterize constructor\n",
    "\n",
    "class employee:\n",
    "    def __init__(dl):\n",
    "        dl.name = input(\"enter name of employee = \")\n",
    "        dl.department = input(\"enter department of employee = \")\n",
    "    def show(lk):\n",
    "        print(\"name = \",lk.name)\n",
    "        print(\"department = \",lk.department)\n",
    "        \n",
    "f = employee()\n",
    "f.show()"
   ]
  },
  {
   "cell_type": "code",
   "execution_count": 8,
   "id": "82649499",
   "metadata": {},
   "outputs": [
    {
     "name": "stdout",
     "output_type": "stream",
     "text": [
      "Item =  ThinkPad\n",
      "Price =  56700\n"
     ]
    }
   ],
   "source": [
    "#paramaterized constructor\n",
    "\n",
    "class items:\n",
    "    def __init__(df,item,price):\n",
    "        df.item = item\n",
    "        df.price = price\n",
    "    def show(gh):\n",
    "        print(\"Item = \",gh.item)\n",
    "        print(\"Price = \",gh.price)\n",
    "        \n",
    "q = items(\"ThinkPad\",56700)\n",
    "q.show()"
   ]
  },
  {
   "cell_type": "code",
   "execution_count": 15,
   "id": "7dd92aa9",
   "metadata": {},
   "outputs": [],
   "source": [
    "#Data encapsulation\n",
    "#for hiding data or data variable we use double underscore(__) before data variable\n",
    "#for accessing these variable we have write a syntax like this = obj._classname__variablename\n",
    "#these function also called private method\n"
   ]
  },
  {
   "cell_type": "code",
   "execution_count": 17,
   "id": "3d07b65c",
   "metadata": {},
   "outputs": [
    {
     "name": "stdout",
     "output_type": "stream",
     "text": [
      "this is public method.\n",
      "this is private method.\n"
     ]
    }
   ],
   "source": [
    "class seeme:\n",
    "    def seen(ml):\n",
    "        print(\"this is public method.\")\n",
    "    def __notseen(ml):\n",
    "        print(\"this is private method.\")\n",
    "A = seeme()\n",
    "A.seen()\n",
    "#A.notseen() <-- this give an error\n",
    "A._seeme__notseen() #this will not give error"
   ]
  },
  {
   "cell_type": "code",
   "execution_count": 18,
   "id": "2a4b6249",
   "metadata": {},
   "outputs": [],
   "source": [
    "#inheritace \n",
    "#parent child classes\n",
    "#child class can access all variable of parent class "
   ]
  },
  {
   "cell_type": "code",
   "execution_count": 19,
   "id": "62e385db",
   "metadata": {},
   "outputs": [
    {
     "name": "stdout",
     "output_type": "stream",
     "text": [
      "this is parent class.\n",
      "this is child class.\n"
     ]
    }
   ],
   "source": [
    "#now we see a simple example of inheritance\n",
    "\n",
    "class Parent:\n",
    "    def A(self):\n",
    "        print(\"this is parent class.\")\n",
    "class Child(Parent):\n",
    "    def B(self):\n",
    "        print(\"this is child class.\")\n",
    "ch = Child()\n",
    "ch.A() #from child class we can also access parent class variable\n",
    "ch.B() \n"
   ]
  },
  {
   "cell_type": "code",
   "execution_count": 26,
   "id": "c618aee0",
   "metadata": {},
   "outputs": [],
   "source": [
    "#types of inheritance\n",
    "#there are 4 types of inheritance "
   ]
  },
  {
   "cell_type": "code",
   "execution_count": 27,
   "id": "f956ea70",
   "metadata": {},
   "outputs": [],
   "source": [
    "#1> single inheritance \n",
    "#this is a simple inheritance in which there are one parent and one child"
   ]
  },
  {
   "cell_type": "code",
   "execution_count": 28,
   "id": "731aefa1",
   "metadata": {},
   "outputs": [
    {
     "name": "stdout",
     "output_type": "stream",
     "text": [
      "this is a parent function.\n",
      "this is child 1 function.\n",
      "this is a parent function.\n",
      "this is child 2 function.\n"
     ]
    }
   ],
   "source": [
    "#2> hierarchial inheritance \n",
    "#in this inheritance there are one parents and multiple child\n",
    "\n",
    "class Parent:\n",
    "    def func(self):\n",
    "        print(\"this is a parent function.\")\n",
    "        \n",
    "class child1(Parent):\n",
    "    def func2(self):\n",
    "        print(\"this is child 1 function.\")\n",
    "        \n",
    "class child2(Parent):\n",
    "    def func3(self):\n",
    "        print(\"this is child 2 function.\")\n",
    "        \n",
    "f = child1()\n",
    "f.func()\n",
    "f.func2()\n",
    "f1 = child2()\n",
    "f1.func()\n",
    "f1.func3()"
   ]
  },
  {
   "cell_type": "code",
   "execution_count": 29,
   "id": "fb412508",
   "metadata": {},
   "outputs": [
    {
     "name": "stdout",
     "output_type": "stream",
     "text": [
      "parent 1\n",
      "parent2\n",
      "this is a child class\n"
     ]
    }
   ],
   "source": [
    "#3>multiple inheritance\n",
    "#in this inheritance there are more than one parent\n",
    "\n",
    "class Parent1:\n",
    "    def fg(self):\n",
    "        print(\"parent 1\")\n",
    "class Parent2:\n",
    "    def fh(self):\n",
    "        print(\"parent2\")\n",
    "        \n",
    "class child(Parent1,Parent2):\n",
    "    def fj(self):\n",
    "        print(\"this is a child class\")\n",
    "        \n",
    "        \n",
    "df = child()\n",
    "df.fg()\n",
    "df.fh()\n",
    "df.fj()"
   ]
  },
  {
   "cell_type": "code",
   "execution_count": 30,
   "id": "ed163bbc",
   "metadata": {},
   "outputs": [
    {
     "name": "stdout",
     "output_type": "stream",
     "text": [
      "this is grand parent class. \n",
      "this is parent class. \n",
      "this is child class.\n"
     ]
    }
   ],
   "source": [
    "#4> multilevel inheritance\n",
    "#in this there are several level of parent or child class \n",
    "#in short we have create a grandparent class\n",
    "\n",
    "class A:\n",
    "    def A1(self):\n",
    "        print(\"this is grand parent class. \")\n",
    "class B(A):\n",
    "    def B1(self):\n",
    "        print(\"this is parent class. \")\n",
    "        \n",
    "class C(B):\n",
    "    def C1(self):\n",
    "        print(\"this is child class.\")\n",
    "        \n",
    "cv = C()\n",
    "cv.A1()\n",
    "cv.B1()\n",
    "cv.C1()"
   ]
  },
  {
   "cell_type": "code",
   "execution_count": 34,
   "id": "fc152ac2",
   "metadata": {},
   "outputs": [
    {
     "name": "stdout",
     "output_type": "stream",
     "text": [
      "this is for loop = \n",
      "0 1 2 3 4 5 6 7 8 9 \n",
      "this is while loop = \n",
      "0 1 2 3 4 5 6 7 8 9 "
     ]
    }
   ],
   "source": [
    "class loop:\n",
    "    def ffor(self):\n",
    "        print(\"this is for loop = \")\n",
    "        for i in range(10):\n",
    "            print(i,end = \" \")\n",
    "    def whhile(self):\n",
    "        print(\"\\nthis is while loop = \")\n",
    "        i = 0\n",
    "        while(i<10):\n",
    "            print(i,end = \" \")\n",
    "            i+=1\n",
    "            \n",
    "bv = loop()\n",
    "bv.ffor()\n",
    "bv.whhile()"
   ]
  },
  {
   "cell_type": "code",
   "execution_count": 36,
   "id": "116ba7e1",
   "metadata": {},
   "outputs": [
    {
     "name": "stdout",
     "output_type": "stream",
     "text": [
      "enter number of studnet = 3\n",
      "Enter Student name = ram\n",
      "Enter Student class = 12\n",
      "Enter Student Roll number = 12098\n",
      "Name =  ram\n",
      "Class =  12\n",
      "Roll number =  12098\n",
      "Enter Student name = shyam\n",
      "Enter Student class = 10\n",
      "Enter Student Roll number = 10987\n",
      "Name =  shyam\n",
      "Class =  10\n",
      "Roll number =  10987\n",
      "Enter Student name = ghunshyam\n",
      "Enter Student class = 11\n",
      "Enter Student Roll number = 11980\n",
      "Name =  ghunshyam\n",
      "Class =  11\n",
      "Roll number =  11980\n"
     ]
    }
   ],
   "source": [
    "#object array \n",
    "#storing multiple data \n",
    "\n",
    "class Student:\n",
    "    def details(self):\n",
    "        self.name = input(\"Enter Student name = \")\n",
    "        self.clas = input(\"Enter Student class = \")\n",
    "        self.roll = input(\"Enter Student Roll number = \")\n",
    "    def show(st):\n",
    "        print(\"Name = \",st.name)\n",
    "        print(\"Class = \",st.clas)\n",
    "        print(\"Roll number = \",st.roll)\n",
    "        \n",
    "gh = Student()\n",
    "n = int(input(\"enter number of studnet = \"))\n",
    "for i in range(n):\n",
    "    gh.details()\n",
    "    gh.show()"
   ]
  },
  {
   "cell_type": "code",
   "execution_count": null,
   "id": "aacaeb74",
   "metadata": {},
   "outputs": [],
   "source": []
  }
 ],
 "metadata": {
  "kernelspec": {
   "display_name": "Python 3 (ipykernel)",
   "language": "python",
   "name": "python3"
  },
  "language_info": {
   "codemirror_mode": {
    "name": "ipython",
    "version": 3
   },
   "file_extension": ".py",
   "mimetype": "text/x-python",
   "name": "python",
   "nbconvert_exporter": "python",
   "pygments_lexer": "ipython3",
   "version": "3.9.12"
  }
 },
 "nbformat": 4,
 "nbformat_minor": 5
}
