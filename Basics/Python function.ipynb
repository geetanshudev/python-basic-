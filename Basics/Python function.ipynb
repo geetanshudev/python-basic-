{
 "cells": [
  {
   "cell_type": "markdown",
   "id": "dc6d189c",
   "metadata": {},
   "source": [
    "# Function in python"
   ]
  },
  {
   "cell_type": "code",
   "execution_count": 3,
   "id": "fc06c63c",
   "metadata": {},
   "outputs": [
    {
     "name": "stdout",
     "output_type": "stream",
     "text": [
      "0 X 0 = 0\n",
      "1 X 0 = 0\n",
      "2 X 0 = 0\n",
      "3 X 0 = 0\n",
      "4 X 0 = 0\n",
      "5 X 0 = 0\n",
      "6 X 0 = 0\n",
      "7 X 0 = 0\n",
      "8 X 0 = 0\n",
      "9 X 0 = 0\n",
      "10 X 0 = 0\n",
      "0 X 1 = 0\n",
      "1 X 1 = 1\n",
      "2 X 1 = 2\n",
      "3 X 1 = 3\n",
      "4 X 1 = 4\n",
      "5 X 1 = 5\n",
      "6 X 1 = 6\n",
      "7 X 1 = 7\n",
      "8 X 1 = 8\n",
      "9 X 1 = 9\n",
      "10 X 1 = 10\n",
      "0 X 2 = 0\n",
      "1 X 2 = 2\n",
      "2 X 2 = 4\n",
      "3 X 2 = 6\n",
      "4 X 2 = 8\n",
      "5 X 2 = 10\n",
      "6 X 2 = 12\n",
      "7 X 2 = 14\n",
      "8 X 2 = 16\n",
      "9 X 2 = 18\n",
      "10 X 2 = 20\n",
      "0 X 3 = 0\n",
      "1 X 3 = 3\n",
      "2 X 3 = 6\n",
      "3 X 3 = 9\n",
      "4 X 3 = 12\n",
      "5 X 3 = 15\n",
      "6 X 3 = 18\n",
      "7 X 3 = 21\n",
      "8 X 3 = 24\n",
      "9 X 3 = 27\n",
      "10 X 3 = 30\n",
      "0 X 4 = 0\n",
      "1 X 4 = 4\n",
      "2 X 4 = 8\n",
      "3 X 4 = 12\n",
      "4 X 4 = 16\n",
      "5 X 4 = 20\n",
      "6 X 4 = 24\n",
      "7 X 4 = 28\n",
      "8 X 4 = 32\n",
      "9 X 4 = 36\n",
      "10 X 4 = 40\n",
      "0 X 5 = 0\n",
      "1 X 5 = 5\n",
      "2 X 5 = 10\n",
      "3 X 5 = 15\n",
      "4 X 5 = 20\n",
      "5 X 5 = 25\n",
      "6 X 5 = 30\n",
      "7 X 5 = 35\n",
      "8 X 5 = 40\n",
      "9 X 5 = 45\n",
      "10 X 5 = 50\n",
      "0 X 6 = 0\n",
      "1 X 6 = 6\n",
      "2 X 6 = 12\n",
      "3 X 6 = 18\n",
      "4 X 6 = 24\n",
      "5 X 6 = 30\n",
      "6 X 6 = 36\n",
      "7 X 6 = 42\n",
      "8 X 6 = 48\n",
      "9 X 6 = 54\n",
      "10 X 6 = 60\n",
      "0 X 7 = 0\n",
      "1 X 7 = 7\n",
      "2 X 7 = 14\n",
      "3 X 7 = 21\n",
      "4 X 7 = 28\n",
      "5 X 7 = 35\n",
      "6 X 7 = 42\n",
      "7 X 7 = 49\n",
      "8 X 7 = 56\n",
      "9 X 7 = 63\n",
      "10 X 7 = 70\n",
      "0 X 8 = 0\n",
      "1 X 8 = 8\n",
      "2 X 8 = 16\n",
      "3 X 8 = 24\n",
      "4 X 8 = 32\n",
      "5 X 8 = 40\n",
      "6 X 8 = 48\n",
      "7 X 8 = 56\n",
      "8 X 8 = 64\n",
      "9 X 8 = 72\n",
      "10 X 8 = 80\n",
      "0 X 9 = 0\n",
      "1 X 9 = 9\n",
      "2 X 9 = 18\n",
      "3 X 9 = 27\n",
      "4 X 9 = 36\n",
      "5 X 9 = 45\n",
      "6 X 9 = 54\n",
      "7 X 9 = 63\n",
      "8 X 9 = 72\n",
      "9 X 9 = 81\n",
      "10 X 9 = 90\n",
      "0 X 10 = 0\n",
      "1 X 10 = 10\n",
      "2 X 10 = 20\n",
      "3 X 10 = 30\n",
      "4 X 10 = 40\n",
      "5 X 10 = 50\n",
      "6 X 10 = 60\n",
      "7 X 10 = 70\n",
      "8 X 10 = 80\n",
      "9 X 10 = 90\n",
      "10 X 10 = 100\n"
     ]
    }
   ],
   "source": [
    "def mut(x,y):\n",
    "    df = x*y\n",
    "    print(x,\"X\",y,\"=\",df)\n",
    "for i in range(0,11):\n",
    "    for j in range(0,11):\n",
    "        mut(j,i)\n"
   ]
  },
  {
   "cell_type": "markdown",
   "id": "c9e621af",
   "metadata": {},
   "source": [
    "Types of arguments "
   ]
  },
  {
   "cell_type": "code",
   "execution_count": 18,
   "id": "ceced50a",
   "metadata": {},
   "outputs": [
    {
     "name": "stdout",
     "output_type": "stream",
     "text": [
      "Enter first number = 21\n",
      "enter second number = 8\n",
      "Mod =  5\n"
     ]
    }
   ],
   "source": [
    "def mod(a,b):\n",
    "    gh = a%b\n",
    "    return gh\n",
    "a = int(input(\"Enter first number = \"))\n",
    "b = int(input(\"enter second number = \"))\n",
    "c = mod(a,b)\n",
    "print(\"Mod = \",c)"
   ]
  },
  {
   "cell_type": "code",
   "execution_count": 2,
   "id": "76231906",
   "metadata": {},
   "outputs": [
    {
     "name": "stdout",
     "output_type": "stream",
     "text": [
      "Enter first number = 24140\n",
      "enter second number = 16762\n",
      "values =  34\n"
     ]
    }
   ],
   "source": [
    "#euclidean algorithm \n",
    "def euclid(a,b):\n",
    "    if b == 0:\n",
    "        return a\n",
    "    else:\n",
    "        return euclid(b,a%b)\n",
    "a = int(input(\"Enter first number = \"))\n",
    "b = int(input(\"enter second number = \"))\n",
    "c = euclid(a,b)\n",
    "print(\"values = \",c)"
   ]
  },
  {
   "cell_type": "code",
   "execution_count": 2,
   "id": "c2a5630d",
   "metadata": {},
   "outputs": [
    {
     "name": "stdout",
     "output_type": "stream",
     "text": [
      "36\n",
      "9\n",
      "15\n"
     ]
    }
   ],
   "source": [
    "def multiply(a,b):\n",
    "    print(a*b)\n",
    "y = 3\n",
    "multiply(12,y)\n",
    "multiply(y,y)\n",
    "x = 5\n",
    "multiply(x,y)"
   ]
  },
  {
   "cell_type": "code",
   "execution_count": 3,
   "id": "73f46448",
   "metadata": {},
   "outputs": [
    {
     "name": "stdout",
     "output_type": "stream",
     "text": [
      "3\n",
      "36\n"
     ]
    }
   ],
   "source": [
    "def gh(a,b,c = 34):\n",
    "    print(a+b+c)\n",
    "gh(1,1,1)\n",
    "gh(1,1)"
   ]
  },
  {
   "cell_type": "code",
   "execution_count": 4,
   "id": "8ad7bbce",
   "metadata": {},
   "outputs": [
    {
     "name": "stdout",
     "output_type": "stream",
     "text": [
      "8\n"
     ]
    }
   ],
   "source": [
    "#with return values\n",
    "def sum(x,y):\n",
    "    s = x+y\n",
    "    return s\n",
    "result = sum(5,3)\n",
    "print(result)"
   ]
  },
  {
   "cell_type": "code",
   "execution_count": 6,
   "id": "7ffa7412",
   "metadata": {},
   "outputs": [
    {
     "name": "stdout",
     "output_type": "stream",
     "text": [
      "enter a number = 4\n",
      "9\n"
     ]
    }
   ],
   "source": [
    "#scope variable\n",
    "x = 5  #global variable\n",
    "def func(a):\n",
    "    b = a+1\n",
    "    return b\n",
    "y = int(input(\"enter a number = \"))\n",
    "z = y+func(y)\n",
    "print(z)"
   ]
  },
  {
   "cell_type": "code",
   "execution_count": 7,
   "id": "f6300635",
   "metadata": {},
   "outputs": [
    {
     "name": "stdout",
     "output_type": "stream",
     "text": [
      "3\n"
     ]
    }
   ],
   "source": [
    "#anonymous functions \n",
    "#lambda [arg1,arg2.......]:expression\n",
    "sum = lambda a,b :a+b\n",
    "c = sum(1,2)\n",
    "print(c)"
   ]
  },
  {
   "cell_type": "code",
   "execution_count": 8,
   "id": "48021595",
   "metadata": {},
   "outputs": [
    {
     "name": "stdout",
     "output_type": "stream",
     "text": [
      "enter a number = 1\n",
      "enter a number = 2\n",
      "add =  3\n",
      "minus =  -1\n",
      "multiply =  2\n"
     ]
    }
   ],
   "source": [
    "#simple calculator \n",
    "minus = lambda a,b:a-b\n",
    "mul = lambda a,b:a*b\n",
    "sum = lambda a,b:a+b\n",
    "\n",
    "a = int(input(\"enter a number = \"))\n",
    "b = int(input(\"enter a number = \"))\n",
    "c = minus(a,b)\n",
    "d = mul(a,b)\n",
    "e = sum(a,b)\n",
    "print(\"add = \",e)\n",
    "print(\"minus = \",c)\n",
    "print(\"multiply = \",d)"
   ]
  },
  {
   "cell_type": "markdown",
   "id": "b7524856",
   "metadata": {},
   "source": [
    "# Recursion"
   ]
  },
  {
   "cell_type": "markdown",
   "id": "64237191",
   "metadata": {},
   "source": [
    "it is a technique in which a functions calls itself directly or indirectly"
   ]
  },
  {
   "cell_type": "code",
   "execution_count": 4,
   "id": "df5636c4",
   "metadata": {},
   "outputs": [
    {
     "name": "stdout",
     "output_type": "stream",
     "text": [
      "enter a number = 9\n",
      "sum from 1 to  9 is =  45\n"
     ]
    }
   ],
   "source": [
    "#write a program in which compute sum of from 1 to n number \n",
    "\n",
    "def compute(n):\n",
    "    if n == 1:\n",
    "        return 1\n",
    "    else:\n",
    "        return n + compute(n-1)\n",
    "    \n",
    "bn = int(input(\"enter a number = \"))\n",
    "cn = compute(bn)\n",
    "print(\"sum from 1 to \",bn,\"is = \",cn)"
   ]
  },
  {
   "cell_type": "code",
   "execution_count": 6,
   "id": "f60bd2e5",
   "metadata": {},
   "outputs": [
    {
     "name": "stdout",
     "output_type": "stream",
     "text": [
      "enter any string = hale lula lui\n",
      "iul alul elah\n"
     ]
    }
   ],
   "source": [
    "#recursive function to print string backward\n",
    "def bn(d,n):\n",
    "    if n>0:\n",
    "        print(d[n],end='')\n",
    "        bn(d,n-1)\n",
    "    elif n == 0:\n",
    "        print(d[0])\n",
    "st = input(\"enter any string = \")\n",
    "bn(st,len(st)-1)"
   ]
  },
  {
   "cell_type": "code",
   "execution_count": 7,
   "id": "ee46e7a2",
   "metadata": {},
   "outputs": [
    {
     "name": "stdout",
     "output_type": "stream",
     "text": [
      "enter a number = 3\n",
      "enter second number = 4\n",
      "81\n"
     ]
    }
   ],
   "source": [
    "a = int(input(\"enter a number = \"))\n",
    "b = int(input(\"enter second number = \"))\n",
    "c = a**b\n",
    "print(c)"
   ]
  },
  {
   "cell_type": "code",
   "execution_count": 3,
   "id": "d36ef12a",
   "metadata": {},
   "outputs": [
    {
     "name": "stdout",
     "output_type": "stream",
     "text": [
      "enter a number = 4\n",
      "factorial of  4 is =  24\n"
     ]
    }
   ],
   "source": [
    "#using recursion code to calculate factorial\n",
    "def num(n):\n",
    "\n",
    "    \n",
    "    if n<2:\n",
    "        return 1\n",
    "    return n*num(n-1)\n",
    "    \n",
    "po = int(input(\"enter a number = \"))\n",
    "fg = num(po)\n",
    "print(\"factorial of \",po,\"is = \",fg)\n",
    "        "
   ]
  },
  {
   "cell_type": "code",
   "execution_count": 7,
   "id": "186e0fe3",
   "metadata": {},
   "outputs": [
    {
     "name": "stdout",
     "output_type": "stream",
     "text": [
      "enter a first number = 4\n",
      "enter a second number = 2\n"
     ]
    },
    {
     "data": {
      "text/plain": [
       "2"
      ]
     },
     "execution_count": 7,
     "metadata": {},
     "output_type": "execute_result"
    }
   ],
   "source": [
    "#now we calculate gcd using recursion \n",
    "def gcd(p,q):\n",
    "    if q == 0:\n",
    "        return p\n",
    "    return gcd(q,p%q)\n",
    "p = int(input(\"enter a first number = \"))\n",
    "q = int(input(\"enter a second number = \"))\n",
    "gcd(p,q)"
   ]
  },
  {
   "cell_type": "code",
   "execution_count": 5,
   "id": "3a4dd409",
   "metadata": {},
   "outputs": [
    {
     "name": "stdout",
     "output_type": "stream",
     "text": [
      "enter a number = 34\n",
      "0,1,1,2,3,5,8,13,21,34,55,89,144,233,377,610,987,1597,2584,4181,6765,10946,17711,28657,46368,75025,121393,196418,317811,514229,832040,1346269,2178309,3524578,.........\n"
     ]
    }
   ],
   "source": [
    "#fibonacci numbers \n",
    "\n",
    "def fib(n):\n",
    "    if n == 1:\n",
    "        return 0 \n",
    "    elif n == 2:\n",
    "        return 1\n",
    "    else:\n",
    "        return fib(n-1)+fib(n-2)\n",
    "    \n",
    "hj = int(input(\"enter a number = \"))\n",
    "for i in range(1,hj+1):\n",
    "    print(fib(i),end = ',')\n",
    "    #print(i)\n",
    "\n",
    "    \n",
    "print(\".........\")"
   ]
  },
  {
   "cell_type": "code",
   "execution_count": null,
   "id": "0a92f49b",
   "metadata": {},
   "outputs": [],
   "source": []
  },
  {
   "cell_type": "code",
   "execution_count": null,
   "id": "b4b1c54e",
   "metadata": {},
   "outputs": [],
   "source": []
  },
  {
   "cell_type": "code",
   "execution_count": null,
   "id": "0567e63f",
   "metadata": {},
   "outputs": [],
   "source": []
  }
 ],
 "metadata": {
  "kernelspec": {
   "display_name": "Python 3 (ipykernel)",
   "language": "python",
   "name": "python3"
  },
  "language_info": {
   "codemirror_mode": {
    "name": "ipython",
    "version": 3
   },
   "file_extension": ".py",
   "mimetype": "text/x-python",
   "name": "python",
   "nbconvert_exporter": "python",
   "pygments_lexer": "ipython3",
   "version": "3.9.12"
  }
 },
 "nbformat": 4,
 "nbformat_minor": 5
}
