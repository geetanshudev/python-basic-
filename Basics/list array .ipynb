{
 "cells": [
  {
   "cell_type": "code",
   "execution_count": 1,
   "id": "e5bab96d",
   "metadata": {},
   "outputs": [
    {
     "name": "stdout",
     "output_type": "stream",
     "text": [
      "(1, 2, 3, 4, 5)\n",
      "[1, 2, 3, 4, 5]\n",
      "[6, 7, 8, 9, 10]\n",
      "[11, 12, [13, 14, 15], 16, 17, 18]\n",
      "[13, 14, 15]\n"
     ]
    }
   ],
   "source": [
    "l1 = (1,2,3,4,5)\n",
    "lp1 = list(l1)\n",
    "l2 = [6,7,8,9,10]\n",
    "l3 = [11,12,[13,14,15],16,17,18]\n",
    "\n",
    "print(l1)\n",
    "print(lp1)\n",
    "print(l2)\n",
    "print(l3)\n",
    "\n",
    "print(l3[2])"
   ]
  },
  {
   "cell_type": "code",
   "execution_count": 2,
   "id": "f780b58a",
   "metadata": {},
   "outputs": [
    {
     "data": {
      "text/plain": [
       "[1, 2, 3, 4, 5, 6, 7, 8, 9, 10]"
      ]
     },
     "execution_count": 2,
     "metadata": {},
     "output_type": "execute_result"
    }
   ],
   "source": [
    "l1=[1,2,3,4,5]\n",
    "l2=[6,7,8,9,10]\n",
    "l3=l1+l2\n",
    "l3"
   ]
  },
  {
   "cell_type": "code",
   "execution_count": 3,
   "id": "eb86d8d6",
   "metadata": {},
   "outputs": [
    {
     "data": {
      "text/plain": [
       "[1,\n",
       " 2,\n",
       " 3,\n",
       " 4,\n",
       " 5,\n",
       " 6,\n",
       " 7,\n",
       " 8,\n",
       " 9,\n",
       " 10,\n",
       " 1,\n",
       " 2,\n",
       " 3,\n",
       " 4,\n",
       " 5,\n",
       " 6,\n",
       " 7,\n",
       " 8,\n",
       " 9,\n",
       " 10,\n",
       " 1,\n",
       " 2,\n",
       " 3,\n",
       " 4,\n",
       " 5,\n",
       " 6,\n",
       " 7,\n",
       " 8,\n",
       " 9,\n",
       " 10]"
      ]
     },
     "execution_count": 3,
     "metadata": {},
     "output_type": "execute_result"
    }
   ],
   "source": [
    "l3*3"
   ]
  },
  {
   "cell_type": "code",
   "execution_count": 10,
   "id": "22329b5a",
   "metadata": {},
   "outputs": [
    {
     "name": "stdout",
     "output_type": "stream",
     "text": [
      "Index =  0 data value =  1\n",
      "Index =  1 data value =  2\n",
      "Index =  2 data value =  3\n",
      "Index =  3 data value =  4\n",
      "Index =  4 data value =  5\n",
      "Index =  5 data value =  6\n",
      "Index =  6 data value =  7\n",
      "Index =  7 data value =  8\n",
      "Index =  8 data value =  9\n",
      "Index =  9 data value =  10\n"
     ]
    }
   ],
   "source": [
    "length = len(l3)\n",
    "for i in range(length):\n",
    "\n",
    "    print(\"Index = \",i,\"data value = \",l3[i])"
   ]
  },
  {
   "cell_type": "code",
   "execution_count": 13,
   "id": "5545df86",
   "metadata": {},
   "outputs": [
    {
     "name": "stdout",
     "output_type": "stream",
     "text": [
      "[1, 2, 3, 4]\n"
     ]
    }
   ],
   "source": [
    "print(l3[0:4])"
   ]
  },
  {
   "cell_type": "code",
   "execution_count": 11,
   "id": "5da3f78e",
   "metadata": {},
   "outputs": [
    {
     "data": {
      "text/plain": [
       "[1, 2, 3, 4, 5, 6, 7, 8, 9, 10]"
      ]
     },
     "execution_count": 11,
     "metadata": {},
     "output_type": "execute_result"
    }
   ],
   "source": [
    "l3\n"
   ]
  },
  {
   "cell_type": "code",
   "execution_count": 15,
   "id": "4404b0bd",
   "metadata": {},
   "outputs": [
    {
     "name": "stdout",
     "output_type": "stream",
     "text": [
      "[12, 13, 3, 4, 5, 6, 7, 8, 9, 10]\n"
     ]
    }
   ],
   "source": [
    "#manipulation \n",
    "l3[0:2]=[12,13]\n",
    "\n",
    "print(l3)"
   ]
  },
  {
   "cell_type": "code",
   "execution_count": 21,
   "id": "e637c141",
   "metadata": {},
   "outputs": [
    {
     "name": "stdout",
     "output_type": "stream",
     "text": [
      "14\n",
      "[12, 13, 15, 16]\n",
      "[12, 13, 15]\n"
     ]
    }
   ],
   "source": [
    "lt = [12,13,14,15,16]\n",
    "fg = lt.pop(2)\n",
    "print(fg)  #delete 3rd element which return 14 \n",
    "print(lt) #print list element with 12,13,15,16 having no 14\n",
    "lt.pop() #it removes last element \n",
    "print(lt) #returns list of items having missing last element"
   ]
  },
  {
   "cell_type": "code",
   "execution_count": 29,
   "id": "ff7f35a3",
   "metadata": {},
   "outputs": [
    {
     "name": "stdout",
     "output_type": "stream",
     "text": [
      "[16, 17]\n",
      "[16]\n"
     ]
    }
   ],
   "source": [
    "ltw = [12,13,14,15,16,17]\n",
    "del ltw[0:4]\n",
    "print(ltw)\n",
    "del ltw[1]\n",
    "print(ltw)"
   ]
  },
  {
   "cell_type": "code",
   "execution_count": 30,
   "id": "25f6844e",
   "metadata": {},
   "outputs": [
    {
     "name": "stdout",
     "output_type": "stream",
     "text": [
      "[21, 22, 23, 24, 26, 27, 28]\n"
     ]
    }
   ],
   "source": [
    "lk = [21,22,23,24]\n",
    "lkj = [26,27,28]\n",
    "lk.extend(lkj)\n",
    "print(lk)"
   ]
  },
  {
   "cell_type": "code",
   "execution_count": 33,
   "id": "8feee4b3",
   "metadata": {},
   "outputs": [
    {
     "name": "stdout",
     "output_type": "stream",
     "text": [
      "[12, 13, 14, 15]\n"
     ]
    },
    {
     "data": {
      "text/plain": [
       "[12, 13, 234, 14, 15]"
      ]
     },
     "execution_count": 33,
     "metadata": {},
     "output_type": "execute_result"
    }
   ],
   "source": [
    "kl = [12,13,14,15]\n",
    "print(kl)\n",
    "jk = 234\n",
    "kl.insert(2,jk)\n",
    "kl"
   ]
  },
  {
   "cell_type": "code",
   "execution_count": 38,
   "id": "9bf9db30",
   "metadata": {},
   "outputs": [
    {
     "name": "stdout",
     "output_type": "stream",
     "text": [
      "Enter list = 12,13,15\n",
      "(12, 13, 15)\n",
      "sum of all element =  55\n"
     ]
    }
   ],
   "source": [
    "df = eval(input(\"Enter list = \"))\n",
    "print(df)\n",
    "length = len(df)\n",
    "for i in range(0,length):\n",
    "    sum += df[i]\n",
    "print(\"sum of all element = \",sum)\n"
   ]
  },
  {
   "cell_type": "code",
   "execution_count": 52,
   "id": "f3de156c",
   "metadata": {},
   "outputs": [
    {
     "name": "stdout",
     "output_type": "stream",
     "text": [
      "Now we see some of the operations on list\n"
     ]
    }
   ],
   "source": [
    "print(\"Now we see some of the operations on list\")"
   ]
  },
  {
   "cell_type": "markdown",
   "id": "7a33a203",
   "metadata": {},
   "source": [
    "# add new elements \n"
   ]
  },
  {
   "cell_type": "code",
   "execution_count": 51,
   "id": "e963ae78",
   "metadata": {},
   "outputs": [
    {
     "name": "stdout",
     "output_type": "stream",
     "text": [
      "Enter list = 12,13,14,15,16\n",
      "[12, 13, 14, 15, 16]\n",
      "do you want to add new element ? (Y or N):Y\n",
      "do you really want to add an element (Y or N) : Y\n",
      "Enter new element = 34\n",
      "do you really want to add an element (Y or N) : Y\n",
      "Enter new element = 56\n",
      "do you really want to add an element (Y or N) : N\n",
      "do you want to add new element ? (Y or N):N\n",
      "[12, 13, 14, 15, 16, 34, 56]\n"
     ]
    }
   ],
   "source": [
    "dg = eval(input(\"Enter list = \"))\n",
    "pg = list(dg)\n",
    "print(pg)\n",
    "\n",
    "\n",
    "while True:\n",
    "    ans = input(\"do you want to add new element ? (Y or N):\")\n",
    "    if ans == 'Y':\n",
    "        while True:\n",
    "            ans1 = input(\"do you really want to add an element (Y or N) : \")\n",
    "            if ans1 == 'Y':\n",
    "                new = eval(input(\"Enter new element = \"))\n",
    "                pg.append(new)\n",
    "            elif ans1 == 'N':\n",
    "                break\n",
    "    elif ans == 'N':\n",
    "        break\n",
    "    else:\n",
    "        print(\"Wrong input !! \")\n",
    "\n",
    "print(pg)\n"
   ]
  },
  {
   "cell_type": "markdown",
   "id": "d601d36e",
   "metadata": {},
   "source": [
    "# Delete Last element"
   ]
  },
  {
   "cell_type": "code",
   "execution_count": 54,
   "id": "36e47a2e",
   "metadata": {
    "scrolled": true
   },
   "outputs": [
    {
     "name": "stdout",
     "output_type": "stream",
     "text": [
      "Enter list = 12,13,14,15\n",
      "[12, 13, 14, 15]\n",
      "do you want to delete last element ? (Y or N):Y\n",
      "do you really want to delete last element (Y or N) : Y\n",
      "\n",
      "Last element is deleted.\n",
      "\n",
      " only 3 elements left\n",
      "do you really want to delete last element (Y or N) : Y\n",
      "\n",
      "Last element is deleted.\n",
      "\n",
      " only 2 elements left\n",
      "do you really want to delete last element (Y or N) : Y\n",
      "\n",
      "Last element is deleted.\n",
      "\n",
      " only 1 elements left\n",
      "do you really want to delete last element (Y or N) : N\n",
      "do you want to delete last element ? (Y or N):N\n",
      "[12]\n"
     ]
    }
   ],
   "source": [
    "dg = eval(input(\"Enter list = \"))\n",
    "pg = list(dg)\n",
    "print(pg)\n",
    "\n",
    "while True:\n",
    "    ans = input(\"do you want to delete last element ? (Y or N):\")\n",
    "    if ans == 'Y':\n",
    "        while True:\n",
    "            ans1 = input(\"do you really want to delete last element (Y or N) : \")\n",
    "            if ans1 == 'Y':\n",
    "                \n",
    "                pg.pop()\n",
    "                print(\"\\nLast element is deleted.\")\n",
    "                print(\"\\n only\",len(pg),\"elements left\")\n",
    "            elif ans1 == 'N':\n",
    "                break\n",
    "    elif ans == 'N':\n",
    "        break\n",
    "    else:\n",
    "        print(\"Wrong input !! \")\n",
    "\n",
    "print(pg)\n"
   ]
  },
  {
   "cell_type": "markdown",
   "id": "ce917fa3",
   "metadata": {},
   "source": [
    "# Add new List on existing list"
   ]
  },
  {
   "cell_type": "code",
   "execution_count": 55,
   "id": "723b01fa",
   "metadata": {},
   "outputs": [
    {
     "name": "stdout",
     "output_type": "stream",
     "text": [
      "Enter list = 12,13,14,15,16\n",
      "[12, 13, 14, 15, 16]\n",
      "do you want to add new List ? (Y or N):Y\n",
      "do you really want to add new List (Y or N) : Y\n",
      "Enter new List = 17,18,19,20\n",
      "do you really want to add new List (Y or N) : N\n",
      "do you want to add new List ? (Y or N):N\n",
      "[12, 13, 14, 15, 16, 17, 18, 19, 20]\n"
     ]
    }
   ],
   "source": [
    "dg = eval(input(\"Enter list = \"))\n",
    "pg = list(dg)\n",
    "print(pg)\n",
    "\n",
    "\n",
    "while True:\n",
    "    ans = input(\"do you want to add new List ? (Y or N):\")\n",
    "    if ans == 'Y':\n",
    "        while True:\n",
    "            ans1 = input(\"do you really want to add new List (Y or N) : \")\n",
    "            if ans1 == 'Y':\n",
    "                newL = eval(input(\"Enter new List = \"))\n",
    "                newLL = list(newL)\n",
    "                pg.extend(newLL)\n",
    "            elif ans1 == 'N':\n",
    "                break\n",
    "    elif ans == 'N':\n",
    "        break\n",
    "    else:\n",
    "        print(\"Wrong input !! \")\n",
    "\n",
    "print(pg)\n"
   ]
  },
  {
   "cell_type": "markdown",
   "id": "c7a09404",
   "metadata": {},
   "source": [
    "# Sorting list in Increasing or decreasing order"
   ]
  },
  {
   "cell_type": "code",
   "execution_count": 61,
   "id": "79c5c94d",
   "metadata": {},
   "outputs": [
    {
     "name": "stdout",
     "output_type": "stream",
     "text": [
      "Enter list = 14,7,34,98,56,25,67\n",
      "[14, 7, 34, 98, 56, 25, 67]\n",
      "do you want to Sort a  List ? (Y or N):Y\n",
      "Enter asc for ascending order or dsc for descending order : asc\n",
      "[7, 14, 25, 34, 56, 67, 98]\n",
      "do you want to Sort a  List ? (Y or N):Y\n",
      "Enter asc for ascending order or dsc for descending order : dsc\n",
      "[98, 67, 56, 34, 25, 14, 7]\n",
      "do you want to Sort a  List ? (Y or N):N\n",
      "Thank you \n",
      "Good bye\n"
     ]
    }
   ],
   "source": [
    "dg = eval(input(\"Enter list = \"))\n",
    "pg = list(dg)\n",
    "print(pg)\n",
    "\n",
    "\n",
    "while True:\n",
    "    ans = input(\"do you want to Sort a  List ? (Y or N):\")\n",
    "    if ans == 'Y':\n",
    "        while True:\n",
    "            ans1 = input(\"Enter asc for ascending order or dsc for descending order : \")\n",
    "            if ans1 == 'asc':\n",
    "                pg.sort()\n",
    "                print(pg)\n",
    "                break\n",
    "            elif ans1 == 'dsc':\n",
    "                pg.sort(reverse = True)\n",
    "                print(pg)\n",
    "                break\n",
    "    elif ans == 'N':\n",
    "        break\n",
    "    else:\n",
    "        print(\"Wrong input !! \")\n",
    "print(\"Thank you \\nGood bye\")\n",
    "\n"
   ]
  },
  {
   "cell_type": "markdown",
   "id": "eb76b2e7",
   "metadata": {},
   "source": [
    "# Operation on Array"
   ]
  },
  {
   "cell_type": "raw",
   "id": "8242eb89",
   "metadata": {},
   "source": [
    "In this program we performs opeartion s on array\n",
    "some of the operation include :-\n",
    "1)Traversing an array\n",
    "2)Inserting an element into array\n",
    "3)Deleting an element in an array\n",
    "4)Searching for element an an array\n",
    "5)Merging two array\n",
    "6)Sorting an array"
   ]
  },
  {
   "cell_type": "code",
   "execution_count": 44,
   "id": "108732dc",
   "metadata": {},
   "outputs": [
    {
     "name": "stdout",
     "output_type": "stream",
     "text": [
      "[12, 34, 56, 78, 90]\n",
      "Do you want to apply any operation on array ? (Y or N):Y\n",
      "Enter \n",
      " 1 for Traversing \n",
      " 2 for Inserting new element\n",
      " 3 for Deleting new element\n",
      " 4 for remove specific element \n",
      " 5 for searching specific element in  array\n",
      " 6 for Merging two array \n",
      " 7 for sorting array7\n",
      "do you want to Sort a  List ? (Y or N):Y\n",
      "Enter asc for ascending order or dsc for descending order : asc\n",
      "[12, 34, 56, 78, 90]\n",
      "do you want to Sort a  List ? (Y or N):Y\n",
      "Enter asc for ascending order or dsc for descending order : dsc\n",
      "[90, 78, 56, 34, 12]\n",
      "do you want to Sort a  List ? (Y or N):N\n",
      "Enter \n",
      " 1 for Traversing \n",
      " 2 for Inserting new element\n",
      " 3 for Deleting new element\n",
      " 4 for remove specific element \n",
      " 5 for searching specific element in  array\n",
      " 6 for Merging two array \n",
      " 7 for sorting array1\n",
      "90\n",
      "78\n",
      "56\n",
      "34\n",
      "12\n",
      "Do you want to apply any operation on array ? (Y or N):Y\n",
      "Enter \n",
      " 1 for Traversing \n",
      " 2 for Inserting new element\n",
      " 3 for Deleting new element\n",
      " 4 for remove specific element \n",
      " 5 for searching specific element in  array\n",
      " 6 for Merging two array \n",
      " 7 for sorting array1\n",
      "90\n",
      "78\n",
      "56\n",
      "34\n",
      "12\n",
      "Do you want to apply any operation on array ? (Y or N):N\n",
      "Thank you \n",
      "Good bye\n"
     ]
    }
   ],
   "source": [
    "A = [12,34,56,78,90]\n",
    "B = list(A)\n",
    "print(B)\n",
    "\n",
    "\n",
    "while True:\n",
    "    ans = input(\"Do you want to apply any operation on array ? (Y or N):\")\n",
    "    if ans == 'Y':\n",
    "        while True:\n",
    "            ans1 = input(\"Enter \\n 1 for Traversing \\n 2 for Inserting new element\\n 3 for Deleting new element\\n 4 for remove specific element \\n 5 for searching specific element in  array\\n 6 for Merging two array \\n 7 for sorting array\")\n",
    "            if ans1 == '1':\n",
    "                for i in B:\n",
    "                    print(i)\n",
    "                \n",
    "                break\n",
    "            elif ans1 == '2':\n",
    "                while True:\n",
    "                    ans = input(\"do you want to add new element ? (Y or N):\")\n",
    "                    if ans == 'Y':\n",
    "                        while True:\n",
    "                            ans1 = input(\"do you really want to add an element (Y or N) : \")\n",
    "                            if ans1 == 'Y':\n",
    "                                new = eval(input(\"Enter new element = \"))\n",
    "                                B.append(new)\n",
    "                            elif ans1 == 'N':\n",
    "                                break\n",
    "                    elif ans == 'N':\n",
    "                        break\n",
    "                    else:\n",
    "                        print(\"Wrong input !! \")\n",
    "\n",
    "                    print(B)\n",
    "                    \n",
    "            elif ans1 == '3':\n",
    "                while True:\n",
    "                    ans = input(\"do you want to delete last element ? (Y or N):\")\n",
    "                    if ans == 'Y':\n",
    "                        while True:\n",
    "                            ans1 = input(\"do you really want to delete last element (Y or N) : \")\n",
    "                            if ans1 == 'Y':\n",
    "                \n",
    "                                B.pop()\n",
    "                                print(\"\\nLast element is deleted.\")\n",
    "                                print(\"\\n only\",len(B),\"elements left\")\n",
    "                            elif ans1 == 'N':\n",
    "                                break\n",
    "                    elif ans == 'N':\n",
    "                        break\n",
    "                    else:\n",
    "                        print(\"Wrong input !! \")\n",
    "                        break\n",
    "\n",
    "                    print(B)\n",
    "\n",
    "            elif ans1 == '4':\n",
    "                while True:\n",
    "                    ans = input(\"do you want to delete specific element ? (Y or N):\")\n",
    "                    if ans == 'Y':\n",
    "                        while True:\n",
    "                            ans1 = input(\"do you really want to delete specific element (Y or N) : \")\n",
    "                            if ans1 == 'Y':\n",
    "                \n",
    "                                kh = eval(input(\"enter element to  delete = \"))\n",
    "                                B.remove(kh)\n",
    "                                print(\"element is deleted.\")\n",
    "                                print(\"only\",len(B),\"elements left\")\n",
    "                            elif ans1 == 'N':\n",
    "                                break\n",
    "                    elif ans == 'N':\n",
    "                        break\n",
    "                    else:\n",
    "                        print(\"Wrong input !! \")\n",
    "\n",
    "                    print(B)\n",
    "                    \n",
    "            \n",
    "                    \n",
    "            elif ans1 == '5':\n",
    "                while True:\n",
    "                    ans = input(\"do you want to search element ? (Y or N):\")\n",
    "                    if ans == 'Y':\n",
    "                        while True:\n",
    "                            ans1 = input(\"do you really want to search specific element (Y or N) : \")\n",
    "                            if ans1 == 'Y':\n",
    "                \n",
    "                                kh = eval(input(\"enter element to search = \"))\n",
    "                                for i in B:\n",
    "                                #print(i)\n",
    "                                    if (kh != i):\n",
    "                                        print(\"Result = There is no such element found\")\n",
    "                        \n",
    "                    \n",
    "                                    else:\n",
    "                                        l = B.index(kh)\n",
    "                                        print(\"Result = element founded !! in.\",l,\"of index.\")\n",
    "                                        break\n",
    "                \n",
    "                \n",
    "               \n",
    "                            elif ans1 == 'N':\n",
    "                                break\n",
    "                    elif ans == 'N':\n",
    "                        break\n",
    "                    else:\n",
    "                        print(\"Wrong input !! \")\n",
    "                        \n",
    "            elif ans1 == '6':\n",
    "                while True:\n",
    "                    ans = input(\"do you want to add new List ? (Y or N):\")\n",
    "                    if ans == 'Y':\n",
    "                        while True:\n",
    "                            ans1 = input(\"do you really want to add new List (Y or N) : \")\n",
    "                            if ans1 == 'Y':\n",
    "                                newL = eval(input(\"Enter new List = \"))\n",
    "                                newLL = list(newL)\n",
    "                                B.extend(newLL)\n",
    "                            elif ans1 == 'N':\n",
    "                                break\n",
    "                    elif ans == 'N':\n",
    "                        break\n",
    "                    else:\n",
    "                        print(\"Wrong input !! \")\n",
    "\n",
    "                    print(B)\n",
    "            elif ans1 == '7':\n",
    "                while True:\n",
    "                    ans = input(\"do you want to Sort a  List ? (Y or N):\")\n",
    "                    if ans == 'Y':\n",
    "                        while True:\n",
    "                            ans1 = input(\"Enter asc for ascending order or dsc for descending order : \")\n",
    "                            if ans1 == 'asc':\n",
    "                                B.sort()\n",
    "                                print(B)\n",
    "                                break\n",
    "                            elif ans1 == 'dsc':\n",
    "                                B.sort(reverse = True)\n",
    "                                print(B)\n",
    "                                break\n",
    "                    elif ans == 'N':\n",
    "                        break\n",
    "                    else:\n",
    "                        print(\"Wrong input !! \")\n",
    "                \n",
    "                \n",
    "                        \n",
    "                        \n",
    "\n",
    "    elif ans == 'N':\n",
    "        break\n",
    "    else:\n",
    "        print(\"Wrong input !! \")\n",
    "        break\n",
    "print(\"Thank you \\nGood bye\")\n"
   ]
  },
  {
   "cell_type": "code",
   "execution_count": 19,
   "id": "fe5f2292",
   "metadata": {},
   "outputs": [
    {
     "name": "stdout",
     "output_type": "stream",
     "text": [
      "[45, 56, 67, 78, 89]\n",
      "enter element to  delete = 78\n",
      "[45, 56, 67, 89]\n"
     ]
    }
   ],
   "source": [
    "lk = [45,56,67,78,89]\n",
    "jk = list(lk)\n",
    "print(jk)\n",
    "kh = eval(input(\"enter element to  delete = \"))\n",
    "jk.remove(kh)\n",
    "\n",
    "print(jk)"
   ]
  },
  {
   "cell_type": "code",
   "execution_count": 30,
   "id": "3d902cc2",
   "metadata": {},
   "outputs": [
    {
     "name": "stdout",
     "output_type": "stream",
     "text": [
      "Enter list = 12,23,34,45,56\n",
      "[12, 23, 34, 45, 56]\n",
      "do you want to search element ? (Y or N):56\n",
      "Wrong input !! \n",
      "do you want to search element ? (Y or N):Y\n",
      "do you really want to search specific element (Y or N) : Y\n",
      "enter element to search = 56\n",
      "Ther is no such element found\n",
      "Ther is no such element found\n",
      "Ther is no such element found\n",
      "Ther is no such element found\n",
      "element founded !! in. 4 of index.\n",
      "do you really want to search specific element (Y or N) : N\n",
      "do you want to search element ? (Y or N):N\n"
     ]
    }
   ],
   "source": [
    "dg = eval(input(\"Enter list = \"))\n",
    "pg = list(dg)\n",
    "print(pg)\n",
    "\n",
    "while True:\n",
    "    ans = input(\"do you want to search element ? (Y or N):\")\n",
    "    if ans == 'Y':\n",
    "        while True:\n",
    "            ans1 = input(\"do you really want to search specific element (Y or N) : \")\n",
    "            if ans1 == 'Y':\n",
    "                \n",
    "                kh = eval(input(\"enter element to search = \"))\n",
    "                for i in pg:\n",
    "                    #print(i)\n",
    "                    if (kh != i):\n",
    "                        print(\"Ther is no such element found\")\n",
    "                        \n",
    "                    \n",
    "                    else:\n",
    "                        l = pg.index(kh)\n",
    "                        print(\"element founded !! in.\",l,\"of index.\")\n",
    "                        break\n",
    "                \n",
    "                \n",
    "               \n",
    "            elif ans1 == 'N':\n",
    "                break\n",
    "    elif ans == 'N':\n",
    "        break\n",
    "    else:\n",
    "        print(\"Wrong input !! \")\n"
   ]
  },
  {
   "cell_type": "code",
   "execution_count": null,
   "id": "c636bfd3",
   "metadata": {},
   "outputs": [],
   "source": []
  }
 ],
 "metadata": {
  "kernelspec": {
   "display_name": "Python 3 (ipykernel)",
   "language": "python",
   "name": "python3"
  },
  "language_info": {
   "codemirror_mode": {
    "name": "ipython",
    "version": 3
   },
   "file_extension": ".py",
   "mimetype": "text/x-python",
   "name": "python",
   "nbconvert_exporter": "python",
   "pygments_lexer": "ipython3",
   "version": "3.9.12"
  }
 },
 "nbformat": 4,
 "nbformat_minor": 5
}
