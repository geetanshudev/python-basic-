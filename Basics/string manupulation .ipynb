{
 "cells": [
  {
   "cell_type": "markdown",
   "id": "7b14e11e",
   "metadata": {},
   "source": [
    "# String Manupulations"
   ]
  },
  {
   "cell_type": "code",
   "execution_count": 2,
   "id": "10d0860e",
   "metadata": {},
   "outputs": [
    {
     "name": "stdout",
     "output_type": "stream",
     "text": [
      "p - y - t - h - o - n - "
     ]
    }
   ],
   "source": [
    "#traversing a string \n",
    "name = \"python\"\n",
    "for ch in name:\n",
    "    print(ch,'-',end=\" \")"
   ]
  },
  {
   "cell_type": "code",
   "execution_count": 3,
   "id": "26eca908",
   "metadata": {},
   "outputs": [
    {
     "name": "stdout",
     "output_type": "stream",
     "text": [
      "enter a text for traversing = tyuiop\n",
      "t\n",
      "y\n",
      "u\n",
      "i\n",
      "o\n",
      "p\n"
     ]
    }
   ],
   "source": [
    "name1 = input(\"enter a text for traversing = \")\n",
    "for t in name1:\n",
    "    print(t)"
   ]
  },
  {
   "cell_type": "code",
   "execution_count": 23,
   "id": "83e85f6a",
   "metadata": {},
   "outputs": [
    {
     "name": "stdout",
     "output_type": "stream",
     "text": [
      "enter any string = parrot\n",
      "-1 t \t 0 p\n",
      "-2 o \t 1 a\n",
      "-3 r \t 2 r\n",
      "-4 r \t 3 r\n",
      "-5 a \t 4 o\n",
      "-6 p \t 5 t\n"
     ]
    }
   ],
   "source": [
    "#to print a string in reverse order \n",
    "name2 = input(\"enter any string = \")\n",
    "length = len(name2)\n",
    "t=0\n",
    "for y in range(-1,(-length-1),-1):\n",
    "    print(y,name2[y],\"\\t\",t,name2[t])\n",
    "    t+=1"
   ]
  },
  {
   "cell_type": "markdown",
   "id": "3cebd681",
   "metadata": {},
   "source": [
    "String Operations"
   ]
  },
  {
   "cell_type": "code",
   "execution_count": 24,
   "id": "25073a04",
   "metadata": {},
   "outputs": [
    {
     "name": "stdout",
     "output_type": "stream",
     "text": [
      "pythonlanguage\n"
     ]
    }
   ],
   "source": [
    "#concatenation\n",
    "str1 = \"python\"\n",
    "str2 = \"language\"\n",
    "print(str1+str2)"
   ]
  },
  {
   "cell_type": "code",
   "execution_count": 25,
   "id": "d6ac49d6",
   "metadata": {},
   "outputs": [
    {
     "name": "stdout",
     "output_type": "stream",
     "text": [
      " hello hello hello hello\n"
     ]
    }
   ],
   "source": [
    "#replication\n",
    "str3 = \" hello\"\n",
    "fg = str3*4\n",
    "print(fg)"
   ]
  },
  {
   "cell_type": "code",
   "execution_count": 36,
   "id": "bc54c0aa",
   "metadata": {},
   "outputs": [
    {
     "name": "stdout",
     "output_type": "stream",
     "text": [
      "11\n",
      "first part =  hello\n",
      "another first part =  hello\n",
      "second part =  world\n",
      "with negative =  hello worl\n"
     ]
    }
   ],
   "source": [
    "#string slices\n",
    "str4 = \"hello world\"\n",
    "length = len(str4)\n",
    "print(length)\n",
    "print(\"first part = \",str4[0:5])\n",
    "print(\"another first part = \",str4[:5])\n",
    "print(\"second part = \",str4[6:11])\n",
    "print(\"with negative = \",str4[:-1])"
   ]
  },
  {
   "cell_type": "code",
   "execution_count": 37,
   "id": "ab210d04",
   "metadata": {},
   "outputs": [
    {
     "name": "stdout",
     "output_type": "stream",
     "text": [
      "65\n"
     ]
    }
   ],
   "source": [
    "#to print ascii code with help ord() function\n",
    "f = 'A'\n",
    "print(ord(f))"
   ]
  },
  {
   "cell_type": "code",
   "execution_count": 39,
   "id": "9d4d90aa",
   "metadata": {},
   "outputs": [
    {
     "name": "stdout",
     "output_type": "stream",
     "text": [
      "A\n"
     ]
    }
   ],
   "source": [
    "#now we have get charachter from ascii code \n",
    "g = 65\n",
    "print(chr(g))"
   ]
  },
  {
   "cell_type": "code",
   "execution_count": 49,
   "id": "49b1b35a",
   "metadata": {},
   "outputs": [
    {
     "name": "stdout",
     "output_type": "stream",
     "text": [
      "asciicode alphabet\n",
      "65 | \t A\n",
      "66 | \t B\n",
      "67 | \t C\n",
      "68 | \t D\n",
      "69 | \t E\n",
      "70 | \t F\n",
      "71 | \t G\n",
      "72 | \t H\n",
      "73 | \t I\n",
      "74 | \t J\n",
      "75 | \t K\n",
      "76 | \t L\n",
      "77 | \t M\n",
      "78 | \t N\n",
      "79 | \t O\n",
      "80 | \t P\n",
      "81 | \t Q\n",
      "82 | \t R\n",
      "83 | \t S\n",
      "84 | \t T\n",
      "85 | \t U\n",
      "86 | \t V\n",
      "87 | \t W\n",
      "88 | \t X\n",
      "89 | \t Y\n",
      "90 | \t Z\n"
     ]
    }
   ],
   "source": [
    "#print from A to Z through ascii code \n",
    "start = 65\n",
    "#we know that alphabet have 26 words so \n",
    "end = 26\n",
    "alpha = start+end\n",
    "print(\"asciicode alphabet\")\n",
    "for i in range(start,alpha):\n",
    "    print(i,\"|\",\"\\t\",chr(i))\n",
    "    \n"
   ]
  },
  {
   "cell_type": "code",
   "execution_count": 1,
   "id": "e720a240",
   "metadata": {},
   "outputs": [
    {
     "name": "stdout",
     "output_type": "stream",
     "text": [
      "enter your message = hello\n",
      "107 \t k\n",
      "104 \t h\n",
      "111 \t o\n",
      "111 \t o\n",
      "114 \t r\n"
     ]
    }
   ],
   "source": [
    "#now we create ascii cipher \n",
    "take = input(\"enter your message = \")\n",
    "for i in take:\n",
    "    #print(i,end = \"\")\n",
    "    algo = ord(i)+3\n",
    "    print(algo,\"\\t\",chr(algo))\n",
    "    #print(chr(algo))\n",
    "\n"
   ]
  },
  {
   "cell_type": "markdown",
   "id": "de94d0ae",
   "metadata": {},
   "source": [
    "String functiuon and methods"
   ]
  },
  {
   "cell_type": "code",
   "execution_count": 76,
   "id": "e06fe657",
   "metadata": {},
   "outputs": [
    {
     "name": "stdout",
     "output_type": "stream",
     "text": [
      "Hey everyone\n"
     ]
    }
   ],
   "source": [
    "#string.capitalize()\n",
    "#return first letter capital\n",
    "stre = \"hey everyone\"\n",
    "print(stre.capitalize())\n"
   ]
  },
  {
   "cell_type": "code",
   "execution_count": 79,
   "id": "6de3b321",
   "metadata": {},
   "outputs": [
    {
     "name": "stdout",
     "output_type": "stream",
     "text": [
      "True\n"
     ]
    }
   ],
   "source": [
    "#string.isalnum()\n",
    "#to check the given string is alphanumeric or not\n",
    "stringg = \"123ghkj\" \n",
    "print(stringg.isalnum())"
   ]
  },
  {
   "cell_type": "code",
   "execution_count": 81,
   "id": "6fcb986b",
   "metadata": {},
   "outputs": [
    {
     "name": "stdout",
     "output_type": "stream",
     "text": [
      "True\n",
      "False\n"
     ]
    }
   ],
   "source": [
    "#string.isalpha to check all are alphabet or not\n",
    "numbe = \"hello\"\n",
    "print(numbe.isalpha())\n",
    "numb2 = \"123welcome\"\n",
    "print(numb2.isalpha())"
   ]
  },
  {
   "cell_type": "code",
   "execution_count": 83,
   "id": "a8cd703a",
   "metadata": {},
   "outputs": [
    {
     "name": "stdout",
     "output_type": "stream",
     "text": [
      "False\n",
      "True\n"
     ]
    }
   ],
   "source": [
    "#string.isdigit to check atleast one is numerical or not\n",
    "numbe = \"hello\"\n",
    "print(numbe.isdigit())\n",
    "numb2 = \"123\"\n",
    "print(numb2.isdigit())"
   ]
  },
  {
   "cell_type": "code",
   "execution_count": 84,
   "id": "ddb5528c",
   "metadata": {},
   "outputs": [
    {
     "name": "stdout",
     "output_type": "stream",
     "text": [
      "True\n",
      "False\n"
     ]
    }
   ],
   "source": [
    "#string.islower to check lower case \n",
    "numbe = \"hello\"\n",
    "print(numbe.islower())\n",
    "numb2 = \"HELLO\"\n",
    "print(numb2.islower())"
   ]
  },
  {
   "cell_type": "code",
   "execution_count": 85,
   "id": "56d2d516",
   "metadata": {},
   "outputs": [
    {
     "name": "stdout",
     "output_type": "stream",
     "text": [
      "False\n",
      "True\n"
     ]
    }
   ],
   "source": [
    "#string.isupper to check upper case\n",
    "numbe = \"hello\"\n",
    "print(numbe.isupper())\n",
    "numb2 = \"HELLO\"\n",
    "print(numb2.isupper())"
   ]
  },
  {
   "cell_type": "code",
   "execution_count": 86,
   "id": "dc0f41cc",
   "metadata": {},
   "outputs": [
    {
     "name": "stdout",
     "output_type": "stream",
     "text": [
      "HELLO\n",
      "hello\n"
     ]
    }
   ],
   "source": [
    "#string.upper() to convert string into upper case\n",
    "#string.lower() to convert string into lower case\n",
    "numbe = \"hello\"\n",
    "print(numbe.upper())\n",
    "numb2 = \"HELLO\"\n",
    "print(numb2.lower())\n"
   ]
  },
  {
   "cell_type": "code",
   "execution_count": 94,
   "id": "aec52936",
   "metadata": {},
   "outputs": [
    {
     "name": "stdout",
     "output_type": "stream",
     "text": [
      "enter your message = hello Everone\n",
      "number of upper case in message =  1\n",
      "number of lower case in message =  11\n",
      "number of digits in message =  0\n",
      "total number of strings in message =  12\n"
     ]
    }
   ],
   "source": [
    "#to count uppercase,lowercase,digit and alphabets \n",
    "message = input(\"enter your message = \")\n",
    "uppercount = lowercount = 0\n",
    "digit = alphacount = 0\n",
    "for a in message:\n",
    "    if a.isupper():\n",
    "        uppercount+=1\n",
    "    elif a.islower():\n",
    "        lowercount+=1\n",
    "    elif a.isdigit():\n",
    "        digit+=1\n",
    "    if a.isalpha():\n",
    "        alphacount+=1\n",
    "        \n",
    "print(\"number of upper case in message = \",uppercount)\n",
    "print(\"number of lower case in message = \",lowercount)\n",
    "print(\"number of digits in message = \",digit)\n",
    "print(\"total number of strings in message = \",alphacount)"
   ]
  },
  {
   "cell_type": "code",
   "execution_count": 126,
   "id": "8d09f8c2",
   "metadata": {},
   "outputs": [
    {
     "name": "stdout",
     "output_type": "stream",
     "text": [
      "new string =  hElLo\n"
     ]
    }
   ],
   "source": [
    "#to capitalize alternate word \n",
    "nm = \"hello\"\n",
    "le = len(nm)\n",
    "nb = ''\n",
    "for i in range(0,le,2):\n",
    "    nb+= nm[i]\n",
    "    if i<(le-1):\n",
    "        nb+=nm[i+1].upper()\n",
    "print(\"new string = \",nb)\n",
    "\n",
    "    "
   ]
  },
  {
   "cell_type": "code",
   "execution_count": 131,
   "id": "bf2707c4",
   "metadata": {},
   "outputs": [
    {
     "ename": "LookupError",
     "evalue": "'base64' is not a text encoding; use codecs.encode() to handle arbitrary codecs",
     "output_type": "error",
     "traceback": [
      "\u001b[1;31m---------------------------------------------------------------------------\u001b[0m",
      "\u001b[1;31mLookupError\u001b[0m                               Traceback (most recent call last)",
      "Input \u001b[1;32mIn [131]\u001b[0m, in \u001b[0;36m<cell line: 4>\u001b[1;34m()\u001b[0m\n\u001b[0;32m      1\u001b[0m \u001b[38;5;66;03m#encoding and decoding \u001b[39;00m\n\u001b[0;32m      3\u001b[0m stringh \u001b[38;5;241m=\u001b[39m \u001b[38;5;124m\"\u001b[39m\u001b[38;5;124mhello world\u001b[39m\u001b[38;5;124m\"\u001b[39m\n\u001b[1;32m----> 4\u001b[0m df \u001b[38;5;241m=\u001b[39m \u001b[43mstringh\u001b[49m\u001b[38;5;241;43m.\u001b[39;49m\u001b[43mencode\u001b[49m\u001b[43m(\u001b[49m\u001b[43mencoding\u001b[49m\u001b[38;5;241;43m=\u001b[39;49m\u001b[38;5;124;43m'\u001b[39;49m\u001b[38;5;124;43mbase64\u001b[39;49m\u001b[38;5;124;43m'\u001b[39;49m\u001b[43m,\u001b[49m\u001b[43merrors\u001b[49m\u001b[38;5;241;43m=\u001b[39;49m\u001b[38;5;124;43m'\u001b[39;49m\u001b[38;5;124;43mstrict\u001b[39;49m\u001b[38;5;124;43m'\u001b[39;49m\u001b[43m)\u001b[49m\n\u001b[0;32m      5\u001b[0m \u001b[38;5;28mprint\u001b[39m(df)\n",
      "\u001b[1;31mLookupError\u001b[0m: 'base64' is not a text encoding; use codecs.encode() to handle arbitrary codecs"
     ]
    }
   ],
   "source": [
    "#encoding and decoding \n",
    "\n",
    "stringh = \"hello world\"\n",
    "df = stringh.encode(encoding='base64',errors='strict')\n",
    "print(df)"
   ]
  },
  {
   "cell_type": "code",
   "execution_count": 1,
   "id": "99087bdb",
   "metadata": {},
   "outputs": [
    {
     "ename": "TypeError",
     "evalue": "unbound method str.encode() needs an argument",
     "output_type": "error",
     "traceback": [
      "\u001b[1;31m---------------------------------------------------------------------------\u001b[0m",
      "\u001b[1;31mTypeError\u001b[0m                                 Traceback (most recent call last)",
      "Input \u001b[1;32mIn [1]\u001b[0m, in \u001b[0;36m<cell line: 1>\u001b[1;34m()\u001b[0m\n\u001b[1;32m----> 1\u001b[0m \u001b[38;5;28;43mstr\u001b[39;49m\u001b[38;5;241;43m.\u001b[39;49m\u001b[43mencode\u001b[49m\u001b[43m(\u001b[49m\u001b[43mencoding\u001b[49m\u001b[38;5;241;43m=\u001b[39;49m\u001b[38;5;124;43m'\u001b[39;49m\u001b[38;5;124;43mUTF-8\u001b[39;49m\u001b[38;5;124;43m'\u001b[39;49m\u001b[43m,\u001b[49m\u001b[43merrors\u001b[49m\u001b[38;5;241;43m=\u001b[39;49m\u001b[38;5;124;43m'\u001b[39;49m\u001b[38;5;124;43mstrict\u001b[39;49m\u001b[38;5;124;43m'\u001b[39;49m\u001b[43m)\u001b[49m\n",
      "\u001b[1;31mTypeError\u001b[0m: unbound method str.encode() needs an argument"
     ]
    }
   ],
   "source": [
    "str.encode(encoding='UTF-8',errors='strict')"
   ]
  },
  {
   "cell_type": "code",
   "execution_count": null,
   "id": "1b2d4127",
   "metadata": {},
   "outputs": [],
   "source": []
  }
 ],
 "metadata": {
  "kernelspec": {
   "display_name": "Python 3 (ipykernel)",
   "language": "python",
   "name": "python3"
  },
  "language_info": {
   "codemirror_mode": {
    "name": "ipython",
    "version": 3
   },
   "file_extension": ".py",
   "mimetype": "text/x-python",
   "name": "python",
   "nbconvert_exporter": "python",
   "pygments_lexer": "ipython3",
   "version": "3.9.12"
  }
 },
 "nbformat": 4,
 "nbformat_minor": 5
}
