{
 "cells": [
  {
   "cell_type": "markdown",
   "id": "f83cef60",
   "metadata": {},
   "source": [
    "dictionary is a type of data collection in which  we store our data in the form of key:value pair in curly braces"
   ]
  },
  {
   "cell_type": "code",
   "execution_count": 1,
   "id": "81465e8f",
   "metadata": {},
   "outputs": [
    {
     "name": "stdout",
     "output_type": "stream",
     "text": [
      "{'apple': 'fruit', 'table': 'furniture', 'fridge': 'electronic'}\n"
     ]
    }
   ],
   "source": [
    "dic1 = {'apple':'fruit','table':'furniture','fridge':'electronic'}\n",
    "print(dic1)"
   ]
  },
  {
   "cell_type": "code",
   "execution_count": 2,
   "id": "57e94748",
   "metadata": {},
   "outputs": [
    {
     "data": {
      "text/plain": [
       "'fruit'"
      ]
     },
     "execution_count": 2,
     "metadata": {},
     "output_type": "execute_result"
    }
   ],
   "source": [
    "#accessing \n",
    "dic1['apple']"
   ]
  },
  {
   "cell_type": "code",
   "execution_count": 4,
   "id": "63d13688",
   "metadata": {},
   "outputs": [
    {
     "name": "stdout",
     "output_type": "stream",
     "text": [
      "apple : fruit\n",
      "table : furniture\n",
      "fridge : electronic\n"
     ]
    }
   ],
   "source": [
    "#traversing \n",
    "for i in dic1 :\n",
    "    print(i,\":\",dic1[i])"
   ]
  },
  {
   "cell_type": "code",
   "execution_count": 6,
   "id": "b404d757",
   "metadata": {},
   "outputs": [
    {
     "data": {
      "text/plain": [
       "dict_keys(['apple', 'table', 'fridge'])"
      ]
     },
     "execution_count": 6,
     "metadata": {},
     "output_type": "execute_result"
    }
   ],
   "source": [
    "#accessing key or value simultaneously\n",
    "dic1.keys()"
   ]
  },
  {
   "cell_type": "code",
   "execution_count": 7,
   "id": "1e750611",
   "metadata": {},
   "outputs": [
    {
     "data": {
      "text/plain": [
       "dict_values(['fruit', 'furniture', 'electronic'])"
      ]
     },
     "execution_count": 7,
     "metadata": {},
     "output_type": "execute_result"
    }
   ],
   "source": [
    "dic1.values()"
   ]
  },
  {
   "cell_type": "code",
   "execution_count": 8,
   "id": "ad9fa380",
   "metadata": {},
   "outputs": [
    {
     "name": "stdout",
     "output_type": "stream",
     "text": [
      "{'apple': 'fruit', 'table': 'furniture', 'fridge': 'electronic', 'car': 'transportation'}\n"
     ]
    }
   ],
   "source": [
    "#add new key:value in existing data \n",
    "dic1['car'] = 'transportation'\n",
    "print(dic1)"
   ]
  },
  {
   "cell_type": "code",
   "execution_count": 10,
   "id": "0b8edb6f",
   "metadata": {},
   "outputs": [
    {
     "name": "stdout",
     "output_type": "stream",
     "text": [
      "{'name': 'ajay', 'department': 'defence', 'sector': 'missile'}\n"
     ]
    }
   ],
   "source": [
    "#we can also create with this\n",
    "employee = dict(name='ajay',department='defence',sector='missile')\n",
    "print(employee)"
   ]
  },
  {
   "cell_type": "code",
   "execution_count": 11,
   "id": "c096eaa7",
   "metadata": {},
   "outputs": [
    {
     "name": "stdout",
     "output_type": "stream",
     "text": [
      "{'name': 'rahul', 'department': 'finance', 'sector': 'CA'}\n"
     ]
    }
   ],
   "source": [
    "#or with the help of zip() functions \n",
    "fg = dict(zip(('name','department','sector'),('rahul','finance','CA')))\n",
    "print(fg)"
   ]
  },
  {
   "cell_type": "code",
   "execution_count": 12,
   "id": "21d0cb72",
   "metadata": {},
   "outputs": [],
   "source": [
    "#deletining dictionary\n",
    "del fg"
   ]
  },
  {
   "cell_type": "code",
   "execution_count": 13,
   "id": "1aff5191",
   "metadata": {},
   "outputs": [
    {
     "ename": "NameError",
     "evalue": "name 'fg' is not defined",
     "output_type": "error",
     "traceback": [
      "\u001b[1;31m---------------------------------------------------------------------------\u001b[0m",
      "\u001b[1;31mNameError\u001b[0m                                 Traceback (most recent call last)",
      "Input \u001b[1;32mIn [13]\u001b[0m, in \u001b[0;36m<cell line: 1>\u001b[1;34m()\u001b[0m\n\u001b[1;32m----> 1\u001b[0m \u001b[38;5;28mprint\u001b[39m(\u001b[43mfg\u001b[49m)\n",
      "\u001b[1;31mNameError\u001b[0m: name 'fg' is not defined"
     ]
    }
   ],
   "source": [
    "print(fg)"
   ]
  },
  {
   "cell_type": "code",
   "execution_count": 15,
   "id": "abddbe69",
   "metadata": {},
   "outputs": [
    {
     "data": {
      "text/plain": [
       "True"
      ]
     },
     "execution_count": 15,
     "metadata": {},
     "output_type": "execute_result"
    }
   ],
   "source": [
    "#membership in dictionary to check key values \n",
    "'name' in employee"
   ]
  },
  {
   "cell_type": "code",
   "execution_count": 21,
   "id": "5de71e85",
   "metadata": {},
   "outputs": [
    {
     "name": "stdout",
     "output_type": "stream",
     "text": [
      "{'name': 'ajay', 'department': 'defence', 'sector': 'missile'}\n",
      "{\n",
      "   \"name\": \"ajay\",\n",
      "   \"department\": \"defence\",\n",
      "   \"sector\": \"missile\"\n",
      "}\n"
     ]
    }
   ],
   "source": [
    "#we can also print with style of json \n",
    "import json\n",
    "print(employee)\n",
    "print(json.dumps(employee,indent = 3))"
   ]
  },
  {
   "cell_type": "code",
   "execution_count": 24,
   "id": "32c869f3",
   "metadata": {},
   "outputs": [
    {
     "name": "stdout",
     "output_type": "stream",
     "text": [
      "enter your message = hello there im geetanshu dev and today i learn about python dictionary and in dictionary there are many types of method in which we can implement dictionary \n",
      "words of sentence are = \n",
      " ['hello', 'there', 'im', 'geetanshu', 'dev', 'and', 'today', 'i', 'learn', 'about', 'python', 'dictionary', 'and', 'in', 'dictionary', 'there', 'are', 'many', 'types', 'of', 'method', 'in', 'which', 'we', 'can', 'implement', 'dictionary']\n",
      "{\n",
      " \"hello\": 1,\n",
      " \"there\": 2,\n",
      " \"im\": 1,\n",
      " \"geetanshu\": 1,\n",
      " \"dev\": 1,\n",
      " \"and\": 2,\n",
      " \"today\": 1,\n",
      " \"i\": 1,\n",
      " \"learn\": 1,\n",
      " \"about\": 1,\n",
      " \"python\": 1,\n",
      " \"dictionary\": 3,\n",
      " \"in\": 2,\n",
      " \"are\": 1,\n",
      " \"many\": 1,\n",
      " \"types\": 1,\n",
      " \"of\": 1,\n",
      " \"method\": 1,\n",
      " \"which\": 1,\n",
      " \"we\": 1,\n",
      " \"can\": 1,\n",
      " \"implement\": 1\n",
      "}\n"
     ]
    }
   ],
   "source": [
    "#count frequency of a given sentence \n",
    "import json\n",
    "sentence = input(\"enter your message = \")\n",
    "words = sentence.split()\n",
    "#print(words)\n",
    "d = {}\n",
    "for one in words:\n",
    "    key = one\n",
    "    if key not in d:\n",
    "        count = words.count(key)\n",
    "        d[key]=count\n",
    "print(\"words of sentence are = \\n\",words)\n",
    "print(json.dumps(d,indent = 1))"
   ]
  },
  {
   "cell_type": "markdown",
   "id": "af1ce46d",
   "metadata": {},
   "source": [
    "Dictionary Functions and methods "
   ]
  },
  {
   "cell_type": "code",
   "execution_count": 25,
   "id": "0e99f2fc",
   "metadata": {},
   "outputs": [],
   "source": [
    "#len() to find length of dictionary \n",
    "#clear() to removes all items from dictionary\n",
    "#get() this is used to get value of given key\n",
    "#items() use to retrieve all items inside dictionary \n",
    "#keys() to get all key data from dictionary\n",
    "#values() to get all value items from dictionary \n",
    "#update() to add another dictionary data into the existing data "
   ]
  },
  {
   "cell_type": "code",
   "execution_count": null,
   "id": "c95aa368",
   "metadata": {},
   "outputs": [],
   "source": []
  },
  {
   "cell_type": "code",
   "execution_count": 29,
   "id": "f7cbf8ef",
   "metadata": {},
   "outputs": [
    {
     "name": "stdout",
     "output_type": "stream",
     "text": [
      "{'name': 'gajendra chauhan', 'roll no': 12034, 'branch': 'computer science', 'phone no': 765647321}\n"
     ]
    }
   ],
   "source": [
    "dict2 = {'name':'gajendra chauhan','roll no':12034,'branch':'computer science','phone no':765647321}\n",
    "print(dict2)"
   ]
  },
  {
   "cell_type": "code",
   "execution_count": 34,
   "id": "c74562f2",
   "metadata": {},
   "outputs": [
    {
     "name": "stdout",
     "output_type": "stream",
     "text": [
      "4\n",
      "gajendra chauhan\n",
      "dict_items([('name', 'gajendra chauhan'), ('roll no', 12034), ('branch', 'computer science'), ('phone no', 765647321)])\n",
      "dict_keys(['name', 'roll no', 'branch', 'phone no'])\n",
      "dict_values(['gajendra chauhan', 12034, 'computer science', 765647321])\n"
     ]
    }
   ],
   "source": [
    "print(len(dict2))\n",
    "print(dict2.get('name'))\n",
    "print(dict2.items())\n",
    "print(dict2.keys())\n",
    "print(dict2.values())\n"
   ]
  },
  {
   "cell_type": "code",
   "execution_count": 35,
   "id": "dec49fef",
   "metadata": {},
   "outputs": [
    {
     "name": "stdout",
     "output_type": "stream",
     "text": [
      "{'sports': 'football', 'rank': 'State level', 'State': 'chhattisgarh', 'class': '12th'}\n"
     ]
    }
   ],
   "source": [
    "dict3 = {'sports':'football','rank':'State level','State':'chhattisgarh','class':'12th'}\n",
    "print(dict3)"
   ]
  },
  {
   "cell_type": "code",
   "execution_count": 36,
   "id": "d606c585",
   "metadata": {},
   "outputs": [
    {
     "name": "stdout",
     "output_type": "stream",
     "text": [
      "{'name': 'gajendra chauhan', 'roll no': 12034, 'branch': 'computer science', 'phone no': 765647321, 'sports': 'football', 'rank': 'State level', 'State': 'chhattisgarh', 'class': '12th'}\n"
     ]
    }
   ],
   "source": [
    "dict2.update(dict3)\n",
    "print(dict2)"
   ]
  },
  {
   "cell_type": "code",
   "execution_count": 37,
   "id": "5bb7691d",
   "metadata": {},
   "outputs": [
    {
     "name": "stdout",
     "output_type": "stream",
     "text": [
      "{\n",
      "  \"name\": \"gajendra chauhan\",\n",
      "  \"roll no\": 12034,\n",
      "  \"branch\": \"computer science\",\n",
      "  \"phone no\": 765647321,\n",
      "  \"sports\": \"football\",\n",
      "  \"rank\": \"State level\",\n",
      "  \"State\": \"chhattisgarh\",\n",
      "  \"class\": \"12th\"\n",
      "}\n"
     ]
    }
   ],
   "source": [
    "print(json.dumps(dict2,indent = 2))"
   ]
  },
  {
   "cell_type": "code",
   "execution_count": 38,
   "id": "b9540132",
   "metadata": {},
   "outputs": [
    {
     "name": "stdout",
     "output_type": "stream",
     "text": [
      "{'jhon': {'department': 'marketing', 'salary': '43000'}, 'maya': {'department': 'Finance', 'salary': '54000'}}\n"
     ]
    }
   ],
   "source": [
    "#to store multiple data record in dictionary\n",
    "emplou = {'jhon':{'department':'marketing','salary':'43000'},'maya':{'department':'Finance','salary':'54000'}}\n",
    "print(emplou)"
   ]
  },
  {
   "cell_type": "code",
   "execution_count": 39,
   "id": "6a66d1d2",
   "metadata": {},
   "outputs": [
    {
     "name": "stdout",
     "output_type": "stream",
     "text": [
      "employee jhon :\n",
      "Age :  marketing\n",
      "employee maya :\n",
      "Age :  Finance\n"
     ]
    }
   ],
   "source": [
    "for key in emplou:\n",
    "    print('employee',key,\":\")\n",
    "    print('Age : ',str(emplou[key]['department']))"
   ]
  },
  {
   "cell_type": "code",
   "execution_count": null,
   "id": "4a8f56a8",
   "metadata": {},
   "outputs": [],
   "source": []
  }
 ],
 "metadata": {
  "kernelspec": {
   "display_name": "Python 3 (ipykernel)",
   "language": "python",
   "name": "python3"
  },
  "language_info": {
   "codemirror_mode": {
    "name": "ipython",
    "version": 3
   },
   "file_extension": ".py",
   "mimetype": "text/x-python",
   "name": "python",
   "nbconvert_exporter": "python",
   "pygments_lexer": "ipython3",
   "version": "3.9.12"
  }
 },
 "nbformat": 4,
 "nbformat_minor": 5
}
