{
 "cells": [
  {
   "cell_type": "code",
   "execution_count": 6,
   "id": "af8d532c",
   "metadata": {},
   "outputs": [
    {
     "name": "stdout",
     "output_type": "stream",
     "text": [
      "[1, 2, 34, 3, 4, 100]\n",
      "[1, 2, 45, 3, 4, 100]\n",
      "[1, 2, 3, 4, 100]\n",
      "[]\n"
     ]
    }
   ],
   "source": [
    "num=[1,2,3,4]\n",
    "num.append(100) #add element at end \n",
    "num.insert(2,34) #insert element based on index number\n",
    "print(num)\n",
    "num[2]=45 #change element based on index number\n",
    "print(num)\n",
    "\n",
    "del num[2] #delete element based on element number\n",
    "print(num)\n",
    "\n",
    "num.clear()#clear all data in list variable\n",
    "print(num)\n",
    "\n"
   ]
  },
  {
   "cell_type": "code",
   "execution_count": 22,
   "id": "428088fa",
   "metadata": {},
   "outputs": [
    {
     "name": "stdout",
     "output_type": "stream",
     "text": [
      "[1, 2, 3, 4, 5, 10, 12, 14, 15, 16]\n",
      "[1, 2, 3, 4, 5, 12, 14, 15, 16]\n",
      "[2, 3, 4, 5, 12, 14, 15, 16]\n",
      "1\n",
      "[2, 3, 4, 5, 12, 14, 15, 16]\n",
      "[16, 15, 14, 12, 5, 4, 3, 2]\n"
     ]
    }
   ],
   "source": [
    "k=[1,2,3,4,5]\n",
    "l=[10,12,14,15,16]\n",
    "k.extend(l) #add list into another list\n",
    "print(k)\n",
    "\n",
    "k.remove(10) #remove given item \n",
    "print(k)\n",
    "k.pop(0) #remove element based on index number\n",
    "print(k)\n",
    "\n",
    "print(k.count(12))\n",
    "\n",
    "k.sort()#sort in ascending order\n",
    "print(k)\n",
    "\n",
    "k.reverse()#sort in descending order\n",
    "print(k)"
   ]
  },
  {
   "cell_type": "code",
   "execution_count": null,
   "id": "695781d6",
   "metadata": {},
   "outputs": [],
   "source": []
  }
 ],
 "metadata": {
  "kernelspec": {
   "display_name": "Python 3 (ipykernel)",
   "language": "python",
   "name": "python3"
  },
  "language_info": {
   "codemirror_mode": {
    "name": "ipython",
    "version": 3
   },
   "file_extension": ".py",
   "mimetype": "text/x-python",
   "name": "python",
   "nbconvert_exporter": "python",
   "pygments_lexer": "ipython3",
   "version": "3.9.12"
  }
 },
 "nbformat": 4,
 "nbformat_minor": 5
}
