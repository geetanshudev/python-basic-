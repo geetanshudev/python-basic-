{
 "cells": [
  {
   "cell_type": "markdown",
   "id": "24d8060f",
   "metadata": {},
   "source": [
    "# Errors and Exception"
   ]
  },
  {
   "cell_type": "code",
   "execution_count": 1,
   "id": "6fc91cc4",
   "metadata": {},
   "outputs": [],
   "source": [
    "#syntax\n",
    "#try:\n",
    "#except\n",
    "#else\n",
    "#finally"
   ]
  },
  {
   "cell_type": "code",
   "execution_count": 3,
   "id": "f0cefd93",
   "metadata": {},
   "outputs": [
    {
     "name": "stdout",
     "output_type": "stream",
     "text": [
      "0 1\n",
      "1 2\n",
      "2 3\n",
      "index out of range\n"
     ]
    }
   ],
   "source": [
    "a = [1,2,3]\n",
    "try:\n",
    "    for i in range(4):\n",
    "        print(i,a[i])\n",
    "except:\n",
    "    print(\"index out of range\")"
   ]
  },
  {
   "cell_type": "code",
   "execution_count": 4,
   "id": "56c1aab2",
   "metadata": {},
   "outputs": [
    {
     "name": "stdout",
     "output_type": "stream",
     "text": [
      "answer =  5\n",
      "a/b result is in infinity\n"
     ]
    }
   ],
   "source": [
    "#now with else\n",
    "def aby(a,b):\n",
    "    try:\n",
    "        c = ((a+b)//(a-b))\n",
    "    except ZeroDivisionError:\n",
    "        print(\"a/b result is in infinity\")\n",
    "    else:\n",
    "        print(\"answer = \",c)\n",
    "        \n",
    "aby(3,2)\n",
    "aby(2,2)"
   ]
  },
  {
   "cell_type": "code",
   "execution_count": 6,
   "id": "0a5a785b",
   "metadata": {},
   "outputs": [
    {
     "name": "stdout",
     "output_type": "stream",
     "text": [
      "cant be divided by zero\n",
      "im always executed\n"
     ]
    }
   ],
   "source": [
    "# now with finally keywords\n",
    "#which always be executed\n",
    "\n",
    "try:\n",
    "    k = 5//0\n",
    "    print(k)\n",
    "except ZeroDivisionError:\n",
    "    print(\"cant be divided by zero\")\n",
    "else:\n",
    "    print(k)\n",
    "    \n",
    "    \n",
    "finally:\n",
    "    print(\"im always executed\")\n",
    "    "
   ]
  },
  {
   "cell_type": "code",
   "execution_count": null,
   "id": "e77d8a80",
   "metadata": {},
   "outputs": [],
   "source": []
  }
 ],
 "metadata": {
  "kernelspec": {
   "display_name": "Python 3 (ipykernel)",
   "language": "python",
   "name": "python3"
  },
  "language_info": {
   "codemirror_mode": {
    "name": "ipython",
    "version": 3
   },
   "file_extension": ".py",
   "mimetype": "text/x-python",
   "name": "python",
   "nbconvert_exporter": "python",
   "pygments_lexer": "ipython3",
   "version": "3.9.12"
  }
 },
 "nbformat": 4,
 "nbformat_minor": 5
}
