{
 "cells": [
  {
   "cell_type": "markdown",
   "id": "438888a6",
   "metadata": {},
   "source": [
    "# List Manupulation"
   ]
  },
  {
   "cell_type": "code",
   "execution_count": 1,
   "id": "725eceb0",
   "metadata": {},
   "outputs": [
    {
     "name": "stdout",
     "output_type": "stream",
     "text": [
      "[1, 2, 3, 4]\n"
     ]
    }
   ],
   "source": [
    "#for creating a list weuse [] braces \n",
    "lst1 = [1,2,3,4]\n",
    "print(lst1)"
   ]
  },
  {
   "cell_type": "code",
   "execution_count": 2,
   "id": "d10e7085",
   "metadata": {},
   "outputs": [
    {
     "name": "stdout",
     "output_type": "stream",
     "text": [
      "<class 'list'>\n"
     ]
    }
   ],
   "source": [
    "print(type(lst1))"
   ]
  },
  {
   "cell_type": "code",
   "execution_count": 4,
   "id": "77aa16ba",
   "metadata": {},
   "outputs": [
    {
     "name": "stdout",
     "output_type": "stream",
     "text": [
      "('a', 'b', 'c', 'd') <class 'tuple'>\n",
      "['a', 'b', 'c', 'd'] <class 'list'>\n"
     ]
    }
   ],
   "source": [
    "#we can also creat with list() function\n",
    "lj = ('a','b','c','d')\n",
    "print(lj,type(lj))\n",
    "lst2 = list(lj)\n",
    "print(lst2,type(lst2))\n"
   ]
  },
  {
   "cell_type": "code",
   "execution_count": 5,
   "id": "d965a9d3",
   "metadata": {},
   "outputs": [
    {
     "name": "stdout",
     "output_type": "stream",
     "text": [
      "[1, 2, 3, 4, ['a', 'b', 'c']]\n"
     ]
    }
   ],
   "source": [
    "#nested list in list\n",
    "li = [1,2,3,4,['a','b','c']]\n",
    "print(li)"
   ]
  },
  {
   "cell_type": "code",
   "execution_count": 10,
   "id": "4ba2b104",
   "metadata": {},
   "outputs": [
    {
     "name": "stdout",
     "output_type": "stream",
     "text": [
      "enter number for list = 12,12\n",
      "['1', '2', ',', '1', '2']\n"
     ]
    }
   ],
   "source": [
    "enter = list(input(\"enter number for list = \"))\n",
    "print(enter)"
   ]
  },
  {
   "cell_type": "code",
   "execution_count": 12,
   "id": "e80b11ff",
   "metadata": {},
   "outputs": [
    {
     "name": "stdout",
     "output_type": "stream",
     "text": [
      "5\n"
     ]
    }
   ],
   "source": [
    "#find length of list we use len()\n",
    "li = [1,2,3,4,['a','b','c']]\n",
    "print(len(li))"
   ]
  },
  {
   "cell_type": "code",
   "execution_count": 20,
   "id": "7a883e34",
   "metadata": {},
   "outputs": [
    {
     "name": "stdout",
     "output_type": "stream",
     "text": [
      "all values =  [1, 2, 3, 4, ['a', 'b', 'c']]\n",
      "first 4 element =  [1, 2, 3, 4]\n",
      "last element =  [['a', 'b', 'c']]\n"
     ]
    }
   ],
   "source": [
    "#accessing lists \n",
    "print(\"all values = \",li[0:])\n",
    "print(\"first 4 element = \",li[0:4])\n",
    "print(\"last element = \",li[-1:])\n",
    "#print(\"2nd elemnet of nested list = \",li[-1:[0:2]])"
   ]
  },
  {
   "cell_type": "code",
   "execution_count": 23,
   "id": "ee3ed034",
   "metadata": {},
   "outputs": [
    {
     "name": "stdout",
     "output_type": "stream",
     "text": [
      "True\n",
      "False\n"
     ]
    }
   ],
   "source": [
    "#membership in list in / not in \n",
    "list1 = [1,2,3,4,5,6,7,8,9,10]\n",
    "list2 = 5\n",
    "list3 = 45\n",
    "print(list2 in list1)\n",
    "print(list3 in list1)"
   ]
  },
  {
   "cell_type": "code",
   "execution_count": 28,
   "id": "541f5749",
   "metadata": {},
   "outputs": [
    {
     "name": "stdout",
     "output_type": "stream",
     "text": [
      "0 -5 h\n",
      "1 -4 e\n",
      "2 -3 l\n",
      "3 -2 l\n",
      "4 -1 o\n"
     ]
    }
   ],
   "source": [
    "#traversing list elements \n",
    "lisd = ['h','e','l','l','o']\n",
    "length = len(lisd)\n",
    "for i in range(length):\n",
    "    print(i,(i-length),lisd[i])"
   ]
  },
  {
   "cell_type": "markdown",
   "id": "69e71b51",
   "metadata": {},
   "source": [
    "List Operations\n"
   ]
  },
  {
   "cell_type": "code",
   "execution_count": 30,
   "id": "6f30c190",
   "metadata": {},
   "outputs": [
    {
     "name": "stdout",
     "output_type": "stream",
     "text": [
      "[1, 2, 3, 4, 5, 6, 'a', 'b', 'c', 'd']\n",
      "\n",
      "[1, 2, 3, 4, 5, 6, 1, 2, 3, 4, 5, 6]\n"
     ]
    }
   ],
   "source": [
    "#joining list\n",
    "listt = [1,2,3,4,5,6]\n",
    "listd = ['a','b','c','d']\n",
    "print(listt+listd)\n",
    "print()\n",
    "#list repetation\n",
    "pk = listt*2\n",
    "print(pk)"
   ]
  },
  {
   "cell_type": "code",
   "execution_count": 36,
   "id": "f569029c",
   "metadata": {},
   "outputs": [
    {
     "name": "stdout",
     "output_type": "stream",
     "text": [
      "complete list =  ['hello', 'python', 'skills', 'computer', 'science']\n",
      "first two elements =  ['hello', 'python']\n",
      "last element =  ['science']\n",
      "list with 2 steps =  ['hello', 'skills', 'science']\n"
     ]
    }
   ],
   "source": [
    "#list slicing\n",
    "listy = ['hello','python','skills','computer','science']\n",
    "print(\"complete list = \",listy[0:])\n",
    "print(\"first two elements = \",listy[0:2])\n",
    "print(\"last element = \",listy[-1:])\n",
    "print(\"list with 2 steps = \",listy[::2])"
   ]
  },
  {
   "cell_type": "markdown",
   "id": "22ce6488",
   "metadata": {},
   "source": [
    "Working with lists"
   ]
  },
  {
   "cell_type": "code",
   "execution_count": 43,
   "id": "f1fc89a0",
   "metadata": {},
   "outputs": [
    {
     "name": "stdout",
     "output_type": "stream",
     "text": [
      "enter elements = 123456\n",
      "['1', '2', '3', '4', '5', '6']\n",
      "enter index number for delete = 4\n",
      "updated list after deletion =  ['1', '2', '3', '4', '6']\n",
      "enter new list = 890\n",
      "updated list after adding a list =  ['1', '2', '3', '4', '6', ['8', '9', '0']]\n"
     ]
    }
   ],
   "source": [
    "#list.append() - add elements at the end of list\n",
    "#list[index] - new value updating\n",
    "#del list[index] or del list[start:stop]- delete element from list \n",
    "#list.pop(index) - delete element\n",
    "gh = list(input(\"enter elements = \"))\n",
    "print(gh)\n",
    "fh = int(input(\"enter index number for delete = \"))\n",
    "hj = gh.pop(fh)\n",
    "print(\"updated list after deletion = \",gh)\n",
    "lk = list(input(\"enter new list = \"))\n",
    "gj = gh.append(lk)\n",
    "print(\"updated list after adding a list = \",gh)"
   ]
  },
  {
   "cell_type": "markdown",
   "id": "f971896f",
   "metadata": {},
   "source": [
    "List function and methods "
   ]
  },
  {
   "cell_type": "code",
   "execution_count": 44,
   "id": "a7129392",
   "metadata": {},
   "outputs": [
    {
     "name": "stdout",
     "output_type": "stream",
     "text": [
      "hello 0\n",
      "python 1\n",
      "skills 2\n",
      "computer 3\n",
      "science 4\n"
     ]
    }
   ],
   "source": [
    "#list.index() -  to print index number of items \n",
    "listy = ['hello','python','skills','computer','science']\n",
    "for i in listy:\n",
    "    print(i,listy.index(i))"
   ]
  },
  {
   "cell_type": "code",
   "execution_count": 48,
   "id": "d620a364",
   "metadata": {},
   "outputs": [
    {
     "name": "stdout",
     "output_type": "stream",
     "text": [
      "['hello', 'python', 'skills', 'computer', 'science', 'c', 'language', 'cool']\n"
     ]
    }
   ],
   "source": [
    "#list.extend() is use to add multiple element in list \n",
    "listy = ['hello','python','skills','computer','science']\n",
    "listg = ['c','language','cool']\n",
    "lis = listy.extend(listg)\n",
    "print(listy)"
   ]
  },
  {
   "cell_type": "code",
   "execution_count": 49,
   "id": "920cce53",
   "metadata": {},
   "outputs": [
    {
     "name": "stdout",
     "output_type": "stream",
     "text": [
      "[12, 13, 34, 14, 15, 17]\n"
     ]
    }
   ],
   "source": [
    "#list.insert(position,element) is to add one element into the list at any postion\n",
    "kj = [12,13,14,15,17]\n",
    "jk = 34\n",
    "pos = 2\n",
    "ol = kj.insert(pos,jk)\n",
    "print(kj)"
   ]
  },
  {
   "cell_type": "code",
   "execution_count": 52,
   "id": "0a75bae6",
   "metadata": {},
   "outputs": [
    {
     "name": "stdout",
     "output_type": "stream",
     "text": [
      "[12, 13, 14, 15, 16, 17, 18, 19, 20]\n",
      "enter position of element for deletion = 2\n",
      "updated list after deletion =  [12, 13, 15, 16, 17, 18, 19, 20]\n"
     ]
    }
   ],
   "source": [
    "#list.pop(index) - to delete on the basis of index number \n",
    "hj = [12,13,14,15,16,17,18,19,20]\n",
    "print(hj)\n",
    "poi = int(input(\"enter position of element for deletion = \"))\n",
    "klo = hj.pop(poi)\n",
    "print(\"updated list after deletion = \",hj)"
   ]
  },
  {
   "cell_type": "code",
   "execution_count": 54,
   "id": "1579f293",
   "metadata": {},
   "outputs": [
    {
     "name": "stdout",
     "output_type": "stream",
     "text": [
      "[]\n"
     ]
    },
    {
     "ename": "IndexError",
     "evalue": "pop from empty list",
     "output_type": "error",
     "traceback": [
      "\u001b[1;31m---------------------------------------------------------------------------\u001b[0m",
      "\u001b[1;31mIndexError\u001b[0m                                Traceback (most recent call last)",
      "Input \u001b[1;32mIn [54]\u001b[0m, in \u001b[0;36m<cell line: 4>\u001b[1;34m()\u001b[0m\n\u001b[0;32m      2\u001b[0m emp \u001b[38;5;241m=\u001b[39m []\n\u001b[0;32m      3\u001b[0m \u001b[38;5;28mprint\u001b[39m(emp)\n\u001b[1;32m----> 4\u001b[0m ghj \u001b[38;5;241m=\u001b[39m \u001b[43memp\u001b[49m\u001b[38;5;241;43m.\u001b[39;49m\u001b[43mpop\u001b[49m\u001b[43m(\u001b[49m\u001b[38;5;241;43m0\u001b[39;49m\u001b[43m)\u001b[49m\n\u001b[0;32m      5\u001b[0m \u001b[38;5;28mprint\u001b[39m(emp)\n",
      "\u001b[1;31mIndexError\u001b[0m: pop from empty list"
     ]
    }
   ],
   "source": [
    "#but it gives error if we pop an empty list\n",
    "emp = []\n",
    "print(emp)\n",
    "ghj = emp.pop(0)\n",
    "print(emp)"
   ]
  },
  {
   "cell_type": "code",
   "execution_count": 57,
   "id": "ba78cbae",
   "metadata": {},
   "outputs": [
    {
     "name": "stdout",
     "output_type": "stream",
     "text": [
      "[12, 13, 14, 15, 16, 17, 18, 19, 20]\n",
      "enter value you want to delete = 17\n",
      "updated list =  [12, 13, 14, 15, 16, 18, 19, 20]\n"
     ]
    }
   ],
   "source": [
    "#list.remove(<values>) is used to remove elements from list on the basis of values\n",
    "hj = [12,13,14,15,16,17,18,19,20]\n",
    "print(hj)\n",
    "pqi = int(input(\"enter value you want to delete = \"))\n",
    "fgh = hj.remove(pqi)\n",
    "print(\"updated list = \",hj)"
   ]
  },
  {
   "cell_type": "code",
   "execution_count": 60,
   "id": "2cebb520",
   "metadata": {},
   "outputs": [
    {
     "name": "stdout",
     "output_type": "stream",
     "text": [
      "[12, 13, 14, 15, 16, 17, 18, 15, 19, 20]\n",
      "enter a value to see the index number = 15\n",
      "index of given value =  2\n"
     ]
    }
   ],
   "source": [
    "#list.count() it gives out number of appearence of element in list\n",
    "hj = [12,13,14,15,16,17,18,15,19,20]\n",
    "print(hj)\n",
    "hhj = int(input(\"enter a value to see the index number = \"))\n",
    "fgk = hj.count(hhj)\n",
    "print(\"index of given value = \",fgk)"
   ]
  },
  {
   "cell_type": "code",
   "execution_count": 61,
   "id": "d61b6d8a",
   "metadata": {},
   "outputs": [
    {
     "name": "stdout",
     "output_type": "stream",
     "text": [
      "[]\n"
     ]
    }
   ],
   "source": [
    "#list.clear() this will empty the entire element of the list\n",
    "hj.clear()\n",
    "print(hj)"
   ]
  },
  {
   "cell_type": "code",
   "execution_count": 67,
   "id": "44bccb76",
   "metadata": {},
   "outputs": [
    {
     "name": "stdout",
     "output_type": "stream",
     "text": [
      "list in original version =  [45, 23, 43, 17, 9, 89, 76, 56, 71, 10]\n",
      "[10, 71, 56, 76, 89, 9, 17, 43, 23, 45]\n"
     ]
    }
   ],
   "source": [
    "#list.reverse() to reverse the list and list.sort() for sorting purpose\n",
    "df = [45,23,43,17,9,89,76,56,71,10]\n",
    "print(\"list in original version = \",df)\n",
    "df.reverse()\n",
    "print(df)"
   ]
  },
  {
   "cell_type": "code",
   "execution_count": 68,
   "id": "71cfc3a7",
   "metadata": {},
   "outputs": [
    {
     "name": "stdout",
     "output_type": "stream",
     "text": [
      "[9, 10, 17, 23, 43, 45, 56, 71, 76, 89]\n"
     ]
    }
   ],
   "source": [
    "df.sort()\n",
    "print(df)"
   ]
  },
  {
   "cell_type": "code",
   "execution_count": 72,
   "id": "7413db54",
   "metadata": {},
   "outputs": [
    {
     "name": "stdout",
     "output_type": "stream",
     "text": [
      "[89, 76, 71, 56, 45, 43, 23, 17, 10, 9]\n"
     ]
    }
   ],
   "source": [
    "df.sort(reverse = True)\n",
    "print(df)"
   ]
  },
  {
   "cell_type": "code",
   "execution_count": 74,
   "id": "75df5b18",
   "metadata": {},
   "outputs": [
    {
     "name": "stdout",
     "output_type": "stream",
     "text": [
      "89\n",
      "9\n"
     ]
    }
   ],
   "source": [
    "df = [45,23,43,17,9,89,76,56,71,10]\n",
    "print(max(df))\n",
    "print(min(df))"
   ]
  },
  {
   "cell_type": "code",
   "execution_count": 79,
   "id": "15414e9d",
   "metadata": {},
   "outputs": [
    {
     "name": "stdout",
     "output_type": "stream",
     "text": [
      "[45, 23, 43, 17, 9, 89, 76, 56, 71, 10]\n",
      "Mean =  43.9\n"
     ]
    }
   ],
   "source": [
    "#to print mean of given number in list \n",
    "ml = [45,23,43,17,9,89,76,56,71,10]\n",
    "length = len(ml)\n",
    "sum = mean = 0\n",
    "\n",
    "for i in range(0,length):\n",
    "    sum+=ml[i]\n",
    "mean = sum/length\n",
    "print(ml)\n",
    "print(\"Mean = \",mean)"
   ]
  },
  {
   "cell_type": "code",
   "execution_count": 86,
   "id": "fa549082",
   "metadata": {},
   "outputs": [
    {
     "name": "stdout",
     "output_type": "stream",
     "text": [
      "[45, 23, 43, 17, 9, 89, 76, 56, 71, 10]\n",
      "enter element for search = 89\n",
      "element founded at index of  5\n"
     ]
    }
   ],
   "source": [
    "ml = [45,23,43,17,9,89,76,56,71,10]\n",
    "print(ml)\n",
    "bn = int(input(\"enter element for search = \"))\n",
    "length = len(ml)\n",
    "for i in range(0,length):\n",
    "    if bn == ml[i]:\n",
    "        print(\"element founded at index of \",i)\n",
    "        break\n",
    "        \n",
    "else:\n",
    "    print(\"element not found \")\n",
    "        \n",
    "    "
   ]
  },
  {
   "cell_type": "code",
   "execution_count": 8,
   "id": "bdf7ab0b",
   "metadata": {},
   "outputs": [
    {
     "name": "stdout",
     "output_type": "stream",
     "text": [
      "[45, 67, 89, 12, 33, 90, 45, 12, 78, 12, 90]\n",
      "enter the element = 90\n",
      "frequency =  2\n"
     ]
    }
   ],
   "source": [
    "#to find frequency of element\n",
    "mn = [45,67,89,12,33,90,45,12,78,12,90]\n",
    "print(mn)\n",
    "gh = int(input(\"enter the element = \"))\n",
    "leng = len(mn)\n",
    "count=0\n",
    "for i in range(0,leng):\n",
    "    gk = mn.count(gh)\n",
    "    \n",
    "print(\"frequency = \",gk)\n",
    "\n"
   ]
  },
  {
   "cell_type": "code",
   "execution_count": 25,
   "id": "ce1033be",
   "metadata": {},
   "outputs": [
    {
     "name": "stdout",
     "output_type": "stream",
     "text": [
      "enter your choice [rock/paper/scissors] = paper\n",
      "you loose\n",
      "computer =  scissors\n"
     ]
    }
   ],
   "source": [
    "import random \n",
    "hj = ['rock','paper','scissors']\n",
    "computer = random.choice(hj)\n",
    "\n",
    "\n",
    "you = input(\"enter your choice [rock/paper/scissors] = \")\n",
    "\n",
    "if you == 'rock':\n",
    "    if computer == 'paper':\n",
    "        print(\"you loose\")\n",
    "    elif computer == 'scissors':\n",
    "        print(\"you win\")\n",
    "    else:\n",
    "        print(\"draw\")\n",
    "        \n",
    "if you == 'paper':\n",
    "    if computer == 'scissors':\n",
    "        print(\"you loose\")\n",
    "    elif computer == 'rock':\n",
    "        print(\"you win\")\n",
    "    else:\n",
    "        print(\"draw\")\n",
    "        \n",
    "if you == 'scissors':\n",
    "    if computer == 'rock':\n",
    "        print(\"you loose\")\n",
    "    elif computer == 'paper':\n",
    "        print(\"you win\")\n",
    "        \n",
    "    else:\n",
    "        print(\"draw\")\n",
    "        \n",
    "print(\"computer = \",computer)"
   ]
  },
  {
   "cell_type": "code",
   "execution_count": null,
   "id": "67943406",
   "metadata": {},
   "outputs": [],
   "source": []
  },
  {
   "cell_type": "code",
   "execution_count": 10,
   "id": "dd340872",
   "metadata": {},
   "outputs": [
    {
     "name": "stdout",
     "output_type": "stream",
     "text": [
      "welcome to guess the number game you have to guess a number \n",
      "\n",
      "you have to given 10 points if you guess wrong number then it decreses to 2 \n",
      "\n",
      "if your rank become zero you loose else you win the game with rank of 200!!\n",
      "Good Luck!!\n",
      "guess a number = 34\n",
      "rank =  8\n",
      "guess a number = 12\n",
      "rank =  6\n",
      "guess a number = 32\n",
      "rank =  4\n",
      "guess a number = 11\n",
      "rank =  2\n",
      "guess a number = 6\n",
      "rank =  0\n",
      "you loose try again\n",
      "the number is  47\n"
     ]
    }
   ],
   "source": [
    "import random as rnd\n",
    "print(\"welcome to guess the number game you have to guess a number \")\n",
    "print(\"\\nyou have to given 10 points if you guess wrong number then it decreses to 2 \")\n",
    "print(\"\\nif your rank become zero you loose else you win the game with rank of 200!!\")\n",
    "print(\"Good Luck!!\")\n",
    "number = rnd.randint(1,50)\n",
    "ctr = 0\n",
    "count = 10\n",
    "\n",
    "while ctr<5:\n",
    "    guess = int(input(\"guess a number = \"))\n",
    "    if guess == number:\n",
    "        print(\"you win !!!\")\n",
    "        count*=20\n",
    "        print(\"rank = \",count)\n",
    "        break\n",
    "    else:\n",
    "        ctr+=1\n",
    "        count-=2\n",
    "        print(\"rank = \",count)\n",
    "        \n",
    "if not ctr<5:\n",
    "    print(\"you loose try again\")\n",
    "    print( \"the number is \",number)"
   ]
  },
  {
   "cell_type": "markdown",
   "id": "99bc5028",
   "metadata": {},
   "source": [
    "# Rock , Paper , Scissors\n"
   ]
  },
  {
   "cell_type": "code",
   "execution_count": 14,
   "id": "3c3a5169",
   "metadata": {},
   "outputs": [
    {
     "name": "stdout",
     "output_type": "stream",
     "text": [
      "enter your choice [rock/paper/scissors] = paper\n",
      "computer =  paper\n",
      "enter your choice [rock/paper/scissors] = rock\n",
      "computer =  rock\n",
      "enter your choice [rock/paper/scissors] = scissors\n",
      "computer =  scissors\n",
      "enter your choice [rock/paper/scissors] = rock\n",
      "computer =  paper\n",
      "enter your choice [rock/paper/scissors] = rock\n",
      "computer =  scissors\n",
      "===============result===============\n",
      "Computer rank =  5\n",
      "your rank =  5\n",
      "  \n",
      "nobody won match draw !!!\n"
     ]
    }
   ],
   "source": [
    "import random \n",
    "hj = ['rock','paper','scissors']\n",
    "\n",
    "times = 0\n",
    "ccount = ycount = 0 \n",
    "while times<5:\n",
    "    computer = random.choice(hj)\n",
    "\n",
    "\n",
    "    you = input(\"enter your choice [rock/paper/scissors] = \")\n",
    "\n",
    "    if you == 'rock' or 'r' or 'R' or 'ROCK':\n",
    "        if computer == 'paper':\n",
    "            ccount+=1\n",
    "        elif computer == 'scissors':\n",
    "            ycount+=1\n",
    "\n",
    "\n",
    "    if you == 'paper' or 'p' or 'P' or 'PAPER':\n",
    "        if computer == 'scissors':\n",
    "            ccount+=1\n",
    "        elif computer == 'rock':\n",
    "            ycount+=1\n",
    "\n",
    "\n",
    "    if you == 'scissors'or 's' or 'S' or 'SCISSORS':\n",
    "        if computer == 'rock':\n",
    "            ccount+=1\n",
    "        elif computer == 'paper':\n",
    "            ycount+=1\n",
    "\n",
    "\n",
    "\n",
    "    print(\"computer = \",computer)\n",
    "    times+=1\n",
    "\n",
    "\n",
    "print(\"===============result===============\")\n",
    "print(\"Computer rank = \",ccount)\n",
    "print(\"your rank = \",ycount)\n",
    "\n",
    "print(\"  \")\n",
    "if ccount < ycount:\n",
    "    print(\"Congratulation you win !!!\")\n",
    "elif ccount == ycount:\n",
    "    print(\"nobody won match draw !!!\")\n",
    "else:\n",
    "    print(\"Computer wins !!\")"
   ]
  },
  {
   "cell_type": "code",
   "execution_count": null,
   "id": "9926a9ab",
   "metadata": {},
   "outputs": [],
   "source": []
  }
 ],
 "metadata": {
  "kernelspec": {
   "display_name": "Python 3 (ipykernel)",
   "language": "python",
   "name": "python3"
  },
  "language_info": {
   "codemirror_mode": {
    "name": "ipython",
    "version": 3
   },
   "file_extension": ".py",
   "mimetype": "text/x-python",
   "name": "python",
   "nbconvert_exporter": "python",
   "pygments_lexer": "ipython3",
   "version": "3.9.12"
  }
 },
 "nbformat": 4,
 "nbformat_minor": 5
}
