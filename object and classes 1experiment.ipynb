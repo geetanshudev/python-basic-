{
 "cells": [
  {
   "cell_type": "code",
   "execution_count": 1,
   "id": "f8135163",
   "metadata": {},
   "outputs": [
    {
     "name": "stdout",
     "output_type": "stream",
     "text": [
      "enter name=rohit\n",
      "enter roll number=3100012821043\n",
      "enter percentage=78\n",
      "name: rohit\n",
      "roll number: 3100012821043\n",
      "percentage: 78.0\n"
     ]
    }
   ],
   "source": [
    "#to make simple object and class \n",
    "class student:  #class name declaration\n",
    "    def setdata(self):  #method1\n",
    "        self.name = input(\"enter name=\")\n",
    "        self.roll = int(input(\"enter roll number=\"))\n",
    "        self.per = float(input(\"enter percentage=\"))\n",
    "    def display(self):  #method 2\n",
    "        print(\"name:\",self.name)\n",
    "        print(\"roll number:\",self.roll)\n",
    "        print(\"percentage:\",self.per)\n",
    "#object calling \n",
    "a=student()\n",
    "a.setdata()\n",
    "a.display()"
   ]
  },
  {
   "cell_type": "code",
   "execution_count": 5,
   "id": "af07ced0",
   "metadata": {},
   "outputs": [
    {
     "name": "stdout",
     "output_type": "stream",
     "text": [
      "enter name=evan\n",
      "enter roll number=34\n",
      "enter percentage=23\n",
      "name: evan\n",
      "roll number: 34\n",
      "percentage: 23.0\n"
     ]
    }
   ],
   "source": [
    "#to make simple object and class with init function\n",
    "#init function is a constructor which doesn't needs to call\n",
    "class student:\n",
    "    def __init__(self):\n",
    "        self.name = input(\"enter name=\")\n",
    "        self.roll = int(input(\"enter roll number=\"))\n",
    "        self.per = float(input(\"enter percentage=\"))\n",
    "    def display(self):\n",
    "        print(\"name:\",self.name)\n",
    "        print(\"roll number:\",self.roll)\n",
    "        print(\"percentage:\",self.per)\n",
    "a=student()\n",
    "#a.setdata()\n",
    "a.display()"
   ]
  },
  {
   "cell_type": "code",
   "execution_count": 2,
   "id": "e54a069b",
   "metadata": {},
   "outputs": [
    {
     "name": "stdout",
     "output_type": "stream",
     "text": [
      "name: rohit\n",
      "roll number: 56\n",
      "percentage: 45\n"
     ]
    }
   ],
   "source": [
    "#to make simple object and class with init function\n",
    "#init function is a constructor which doesn't needs to call\n",
    "#in this we initialize object parameterized\n",
    "class student:\n",
    "    def __init__(self,x,y,z):\n",
    "        self.name = x\n",
    "        self.roll = y\n",
    "        self.per = z\n",
    "        \n",
    "    def display(self):\n",
    "        print(\"name:\",self.name)\n",
    "        print(\"roll number:\",self.roll)\n",
    "        print(\"percentage:\",self.per)\n",
    "a=student(\"rohit\",56,45)  #we initialize inside object declaration\n",
    "#a.setdata()\n",
    "a.display()"
   ]
  },
  {
   "cell_type": "code",
   "execution_count": 3,
   "id": "11ad5ee4",
   "metadata": {},
   "outputs": [
    {
     "name": "stdout",
     "output_type": "stream",
     "text": [
      "2\n",
      "3\n"
     ]
    }
   ],
   "source": [
    "#class object constructor\n",
    "#default constructor\n",
    "class cons:\n",
    "    def __init__(self):  \n",
    "        self.x=2\n",
    "        self.y=3\n",
    "    def show(self):\n",
    "        print(self.x)\n",
    "        print(self.y)\n",
    "a=cons()  #in this it is a empty parameter\n",
    "a.show()"
   ]
  },
  {
   "cell_type": "code",
   "execution_count": 4,
   "id": "36a66779",
   "metadata": {},
   "outputs": [
    {
     "name": "stdout",
     "output_type": "stream",
     "text": [
      "5\n",
      "6\n"
     ]
    }
   ],
   "source": [
    "#class object constructor\n",
    "#parameterized constructor\n",
    "class cons:\n",
    "    def __init__(self,a,b):\n",
    "        self.x=a\n",
    "        self.y=b\n",
    "    def show(self):\n",
    "        print(self.x)\n",
    "        print(self.y)\n",
    "a=cons(5,6)  #in this we object initialize in parameter\n",
    "a.show()"
   ]
  },
  {
   "cell_type": "code",
   "execution_count": 5,
   "id": "7a936b6c",
   "metadata": {},
   "outputs": [
    {
     "name": "stdout",
     "output_type": "stream",
     "text": [
      "sum of the two number are= 30\n",
      "subtraction of two number are =  10\n"
     ]
    }
   ],
   "source": [
    "#to make simple number program based on inheritance\n",
    "class Num:\n",
    "    a=10\n",
    "    b=20\n",
    "    def add(self):\n",
    "        sum2 = self.a+self.b\n",
    "        print(\"sum of the two number are=\",sum2)\n",
    "class num2(Num):\n",
    "    c=40\n",
    "    d=30\n",
    "    def sub(self):\n",
    "        diff = self.c - self.d\n",
    "        print(\"subtraction of two number are = \",diff)\n",
    "\n",
    "d=num2()\n",
    "d.add()\n",
    "d.sub()\n"
   ]
  },
  {
   "cell_type": "code",
   "execution_count": 6,
   "id": "1e1b740a",
   "metadata": {},
   "outputs": [
    {
     "name": "stdout",
     "output_type": "stream",
     "text": [
      "this is baseclass\n",
      "this is child class\n"
     ]
    }
   ],
   "source": [
    "class car:\n",
    "    def x1(self):\n",
    "        print(\"this is baseclass\")\n",
    "class audi(car):\n",
    "    def x2(self):\n",
    "        print(\"this is child class\")\n",
    "        \n",
    "f=audi()\n",
    "f.x1()\n",
    "f.x2()"
   ]
  },
  {
   "cell_type": "code",
   "execution_count": 6,
   "id": "26518de3",
   "metadata": {},
   "outputs": [
    {
     "name": "stdout",
     "output_type": "stream",
     "text": [
      "salary= 125000\n",
      "post= Technician\n",
      "name= Richard\n",
      "id number= 88235\n"
     ]
    }
   ],
   "source": [
    "#inheritance with constructor\n",
    "class Person:\n",
    "    def __init__(self,name,idnumber):\n",
    "        self.name=name\n",
    "        self.idnumber=idnumber\n",
    "    def display(self):\n",
    "        print(\"name=\",self.name)\n",
    "        print(\"id number=\",self.idnumber)\n",
    "        \n",
    "class Employee(Person):\n",
    "    def __init__(self,name,idnumber,salary,post):\n",
    "        self.salary=salary\n",
    "        self.post=post\n",
    "        print(\"salary=\",self.salary)\n",
    "        print(\"post=\",self.post)\n",
    "        \n",
    "        Person.__init__(self,name,idnumber)\n",
    "        \n",
    "d=Employee(\"Richard\",88235,125000,\"Technician\")\n",
    "d.display()"
   ]
  },
  {
   "cell_type": "code",
   "execution_count": 17,
   "id": "d6025c5e",
   "metadata": {
    "scrolled": true
   },
   "outputs": [
    {
     "name": "stdout",
     "output_type": "stream",
     "text": [
      "this is parent class\n",
      "this is child class 1 i.e car\n",
      "this is parent class\n",
      "this is child class 2 i.e audi \n"
     ]
    }
   ],
   "source": [
    "#multiple level inheritance \n",
    "class vehicle:\n",
    "    def func1(self):\n",
    "        print(\"this is parent class\")\n",
    "class car(vehicle):\n",
    "    def func2(self):\n",
    "        print(\"this is child class 1 i.e car\")\n",
    "        \n",
    "class audi(vehicle):\n",
    "    def func3(self):\n",
    "        print(\"this is child class 2 i.e audi \")\n",
    "        \n",
    "f = car()\n",
    "f1 = audi()\n",
    "f.func1()\n",
    "f.func2()\n",
    "f1.func1()\n",
    "f1.func3()\n",
    "        "
   ]
  },
  {
   "cell_type": "code",
   "execution_count": 1,
   "id": "42031436",
   "metadata": {},
   "outputs": [
    {
     "name": "stdout",
     "output_type": "stream",
     "text": [
      "Name =  geetanshu\n",
      "Id no. =  300012821055\n"
     ]
    }
   ],
   "source": [
    "class stud:\n",
    "    def __init__(self,name,id):\n",
    "        self.name=name\n",
    "        self.id=id\n",
    "    def show(self):\n",
    "        print(\"Name = \",self.name)\n",
    "        print(\"Id no. = \",self.id)\n",
    "d=stud(\"geetanshu\",\"300012821055\")\n",
    "d.show()"
   ]
  },
  {
   "cell_type": "code",
   "execution_count": 7,
   "id": "abb1a14f",
   "metadata": {},
   "outputs": [
    {
     "name": "stdout",
     "output_type": "stream",
     "text": [
      "[[[1 2 3 4 5]]]\n",
      "[[[ 1  4  9 16 25]\n",
      "  [ 6 14 24 36 50]]]\n",
      "[[[ 2  4  6  8 10]\n",
      "  [ 7  9 11 13 15]]]\n",
      "[[[0 0 0 0 0]\n",
      "  [5 5 5 5 5]]]\n"
     ]
    }
   ],
   "source": [
    "import numpy as np \n",
    "a = np.array([[1,2,3,4,5],[6,7,8,9,10]])\n",
    "b = np.array([1,2,3,4,5],ndmin=3)\n",
    "print(b)\n",
    "print(np.multiply(a,b))\n",
    "print(np.add(a,b))\n",
    "print(np.subtract(a,b))"
   ]
  },
  {
   "cell_type": "code",
   "execution_count": null,
   "id": "8f13d83b",
   "metadata": {},
   "outputs": [],
   "source": []
  }
 ],
 "metadata": {
  "kernelspec": {
   "display_name": "Python 3 (ipykernel)",
   "language": "python",
   "name": "python3"
  },
  "language_info": {
   "codemirror_mode": {
    "name": "ipython",
    "version": 3
   },
   "file_extension": ".py",
   "mimetype": "text/x-python",
   "name": "python",
   "nbconvert_exporter": "python",
   "pygments_lexer": "ipython3",
   "version": "3.9.12"
  }
 },
 "nbformat": 4,
 "nbformat_minor": 5
}
