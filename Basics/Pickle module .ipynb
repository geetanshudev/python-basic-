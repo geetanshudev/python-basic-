{
 "cells": [
  {
   "cell_type": "code",
   "execution_count": 1,
   "id": "f557d3b6",
   "metadata": {},
   "outputs": [],
   "source": [
    "#pickle module \n",
    "#pickle.dump(content,filename) to write content inside the file\n",
    "#pickle.load(filename) to load data from file "
   ]
  },
  {
   "cell_type": "code",
   "execution_count": 3,
   "id": "d4327d2d",
   "metadata": {},
   "outputs": [
    {
     "name": "stdout",
     "output_type": "stream",
     "text": [
      "['apple', 'banana', 'mango']\n"
     ]
    }
   ],
   "source": [
    "import pickle\n",
    "kl = ['apple','banana','mango']\n",
    "hj = 'Fruit.txt'\n",
    "file = open(hj,\"wb\")\n",
    "\n",
    "pickle.dump(kl,file)\n",
    "file.close()\n",
    "\n",
    "file2 = open('Fruit.txt',\"rb\")\n",
    "st = pickle.load(file2)\n",
    "print(st)\n",
    "file2.close()"
   ]
  },
  {
   "cell_type": "code",
   "execution_count": 8,
   "id": "88c4f501",
   "metadata": {},
   "outputs": [
    {
     "name": "stdout",
     "output_type": "stream",
     "text": [
      "enter a name = Shyam\n",
      "enter roll number = 213009\n",
      "enter branch = mechanical \n",
      "Name =  Shyam\n",
      "Roll number =  213009\n",
      "Branch =  mechanical \n",
      "Name =  Shyam\n",
      "Roll number =  213009\n",
      "Branch =  mechanical \n"
     ]
    }
   ],
   "source": [
    "import pickle \n",
    "class student:\n",
    "    def __init__(se):\n",
    "        se.name = input(\"enter a name = \")\n",
    "        se.roll = int(input(\"enter roll number = \"))\n",
    "        se.branch = input(\"enter branch = \")\n",
    "    def display(kl):\n",
    "        print(\"Name = \",kl.name)\n",
    "        print(\"Roll number = \",kl.roll)\n",
    "        print(\"Branch = \",kl.branch)\n",
    "vb = student()\n",
    "vb.display()\n",
    "\n",
    "file = open(\"studentfolder.txt\",\"wb\")\n",
    "pickle.dump(vb,file)\n",
    "file.close()\n",
    "\n",
    "file2 = open(\"studentfolder.txt\",\"rb\")\n",
    "jk = pickle.load(file2)\n",
    "jk.display()\n",
    "file2.close()\n"
   ]
  },
  {
   "cell_type": "code",
   "execution_count": null,
   "id": "aed03070",
   "metadata": {},
   "outputs": [],
   "source": []
  }
 ],
 "metadata": {
  "kernelspec": {
   "display_name": "Python 3 (ipykernel)",
   "language": "python",
   "name": "python3"
  },
  "language_info": {
   "codemirror_mode": {
    "name": "ipython",
    "version": 3
   },
   "file_extension": ".py",
   "mimetype": "text/x-python",
   "name": "python",
   "nbconvert_exporter": "python",
   "pygments_lexer": "ipython3",
   "version": "3.9.12"
  }
 },
 "nbformat": 4,
 "nbformat_minor": 5
}
